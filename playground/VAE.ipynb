{
 "metadata": {
  "language_info": {
   "codemirror_mode": {
    "name": "ipython",
    "version": 3
   },
   "file_extension": ".py",
   "mimetype": "text/x-python",
   "name": "python",
   "nbconvert_exporter": "python",
   "pygments_lexer": "ipython3",
   "version": "3.8.3-final"
  },
  "orig_nbformat": 2,
  "kernelspec": {
   "name": "Python 3.8.3 64-bit ('kaggle': conda)",
   "display_name": "Python 3.8.3 64-bit ('kaggle': conda)",
   "metadata": {
    "interpreter": {
     "hash": "7127c8c0f7ad21db392b0ee69e278d7ffbfbf228e423ede4b5fae3a9d3dff080"
    }
   }
  }
 },
 "nbformat": 4,
 "nbformat_minor": 2,
 "cells": [
  {
   "cell_type": "code",
   "execution_count": 1,
   "metadata": {},
   "outputs": [],
   "source": [
    "from operator import mod\n",
    "import os \n",
    "import sys\n",
    "\n",
    "\n",
    "sys.path.append('/home/jizhidemifan/Project/optical_film_toolbox')\n",
    "\n",
    "import pandas as pd \n",
    "import numpy as np\n",
    "import tensorflow as tf\n",
    "import matplotlib.pyplot as plt \n",
    "import plotly\n",
    "import plotly.graph_objects as go\n",
    "\n",
    "\n",
    "from openTSNE import TSNE\n",
    "from openTSNE.callbacks import ErrorLogger\n",
    "from common.utils.tsne_utils import plot, MACOSKO_COLORS\n",
    "\n",
    "from models.fcn_ae import FullyConnectedAutoEncoder\n",
    "from refractivesqlite import dboperations as DB"
   ]
  },
  {
   "cell_type": "code",
   "execution_count": 2,
   "metadata": {
    "tags": []
   },
   "outputs": [
    {
     "output_type": "stream",
     "name": "stdout",
     "text": "1 Physical GPUs, 1 Logical GPUs\n"
    }
   ],
   "source": [
    "save_model = True\n",
    "show_result = True\n",
    "show_tSNE = True \n",
    "\n",
    "gpus = tf.config.experimental.list_physical_devices('GPU')\n",
    "if gpus:\n",
    "  try:\n",
    "    # Currently, memory growth needs to be the same across GPUs\n",
    "    for gpu in gpus:\n",
    "      tf.config.experimental.set_memory_growth(gpu, True)\n",
    "    logical_gpus = tf.config.experimental.list_logical_devices('GPU')\n",
    "    print(len(gpus), \"Physical GPUs,\", len(logical_gpus), \"Logical GPUs\")\n",
    "  except RuntimeError as e:\n",
    "    # Memory growth must be set before GPUs have been initialized\n",
    "    print(e)\n"
   ]
  },
  {
   "cell_type": "code",
   "execution_count": 47,
   "metadata": {
    "tags": [
     "outputPrepend"
    ]
   },
   "outputs": [
    {
     "output_type": "stream",
     "name": "stdout",
     "text": "30, &#39;main&#39;, &#39;Zn&#39;, &#39;Werner&#39;, &#39;main/Zn/Werner.yml&#39;, 1, 1, 0.017586, 2.479684, 150)\n(733, &#39;main&#39;, &#39;Zn&#39;, &#39;Werner-DFT&#39;, &#39;main/Zn/Werner-DFT.yml&#39;, 1, 1, 0.017586, 2.479684, 150)\n(735, &#39;main&#39;, &#39;Zr&#39;, &#39;Palm&#39;, &#39;main/Zr/Palm.yml&#39;, 1, 1, 0.226076263, 1.684528687, 685)\n(736, &#39;main&#39;, &#39;Zr&#39;, &#39;Querry&#39;, &#39;main/Zr/Querry.yml&#39;, 1, 1, 0.22, 55.5556, 306)\n(739, &#39;organic&#39;, &#39;methane&#39;, &#39;Martonchik-liquid-111K&#39;, &#39;organic/CH4 - methane/Martonchik-liquid-111K.yml&#39;, 1, 1, 0.002, 71.43, 43)\n(740, &#39;organic&#39;, &#39;methane&#39;, &#39;Martonchik-liquid-90K&#39;, &#39;organic/CH4 - methane/Martonchik-liquid-90K.yml&#39;, 1, 1, 0.002, 71.43, 43)\n(741, &#39;organic&#39;, &#39;methane&#39;, &#39;Martonchik-solid-90K&#39;, &#39;organic/CH4 - methane/Martonchik-solid-90K.yml&#39;, 1, 1, 0.002, 100.0, 41)\n(742, &#39;organic&#39;, &#39;methane&#39;, &#39;Martonchik-solid-30K&#39;, &#39;organic/CH4 - methane/Martonchik-solid-30K.yml&#39;, 1, 1, 0.002, 100.0, 41)\n(765, &#39;organic&#39;, &#39;ethanol&#39;, &#39;Sani&#39;, &#39;organic/C2H6O - ethanol/Sani.yml&#39;, 1, 1, 0.185185, 60.9359, 1241)\n(766, &#39;organic&#39;, &#39;ethanol&#39;, &#39;Sani-formula&#39;, &#39;organic/C2H6O - ethanol/Sani-formula.yml&#39;, 1, 1, 0.185, 2.8, 615)\n(770, &#39;organic&#39;, &#39;propanol&#39;, &#39;Sani&#39;, &#39;organic/C3H8O - propanol/Sani.yml&#39;, 1, 1, 0.185185, 60.9359, 1241)\n(771, &#39;organic&#39;, &#39;propanol&#39;, &#39;Sani-formula&#39;, &#39;organic/C3H8O - propanol/Sani-formula.yml&#39;, 1, 1, 0.185, 2.8, 615)\n(778, &#39;organic&#39;, &#39;ethylene_glycol&#39;, &#39;Otanicar&#39;, &#39;organic/C2H6O2 - ethylene glycol/Otanicar.yml&#39;, 0, 1, 0.2, 1.5, 66)\n(779, &#39;organic&#39;, &#39;ethylene_glycol&#39;, &#39;Sani&#39;, &#39;organic/C2H6O2 - ethylene glycol/Sani.yml&#39;, 1, 1, 0.1852, 55.0, 994)\n(780, &#39;organic&#39;, &#39;ethylene_glycol&#39;, &#39;Sani-formula&#39;, &#39;organic/C2H6O2 - ethylene glycol/Sani-formula.yml&#39;, 1, 1, 0.185, 2.8, 616)\n(848, &#39;organic&#39;, &#39;poly(N-isopropylacrylamide)&#39;, &#39;Brasse&#39;, &#39;organic/(C6H11NO)n - poly(N-isopropylacrylamide)/Brasse.yml&#39;, 1, 1, 0.245581, 1.688431, 676)\n(853, &#39;glass&#39;, &#39;BK7&#39;, &#39;OHARA&#39;, &#39;glass/ohara/S-BSL7.yml&#39;, 1, 1, 0.29, 2.4, 31)\n(868, &#39;glass&#39;, &#39;FK51A&#39;, &#39;SCHOTT&#39;, &#39;glass/schott/N-FK51A.yml&#39;, 1, 1, 0.29, 2.5, 26)\n(882, &#39;glass&#39;, &#39;fused_silica&#39;, &#39;Malitson&#39;, &#39;main/SiO2/Malitson.yml&#39;, 1, 0, 0.21, 6.7, 100)\n(890, &#39;glass&#39;, &#39;soda-lime&#39;, &#39;Vogt-10ppm&#39;, &#39;misc/soda-lime/Vogt-10ppm.yml&#39;, 1, 1, 0.25, 1.7, 146)\n(897, &#39;glass&#39;, &#39;SCHOTT-multipurpose&#39;, &#39;LITHOSIL-Q&#39;, &#39;glass/schott/LITHOSIL-Q.yml&#39;, 1, 1, 0.25, 2.5, 29)\n(898, &#39;glass&#39;, &#39;SCHOTT-multipurpose&#39;, &#39;LITHOTEC-CAF2&#39;, &#39;glass/schott/LITHOTEC-CAF2.yml&#39;, 1, 1, 0.25, 2.5, 30)\n(899, &#39;glass&#39;, &#39;HIKARI-multipurpose&#39;, &#39;NIFS-A&#39;, &#39;hikari/SiO2/NIFS-A.yml&#39;, 1, 1, 0.18489, 2.32542, 35)\n(900, &#39;glass&#39;, &#39;HIKARI-multipurpose&#39;, &#39;NIFS-S&#39;, &#39;hikari/SiO2/NIFS-S.yml&#39;, 1, 1, 0.18489, 2.32542, 34)\n(901, &#39;glass&#39;, &#39;HIKARI-multipurpose&#39;, &#39;NIFS-U&#39;, &#39;hikari/SiO2/NIFS-U.yml&#39;, 1, 1, 0.18489, 2.32542, 34)\n(902, &#39;glass&#39;, &#39;HIKARI-multipurpose&#39;, &#39;NIFS-V&#39;, &#39;hikari/SiO2/NIFS-V.yml&#39;, 1, 1, 0.18489, 2.32542, 36)\n(903, &#39;glass&#39;, &#39;HIKARI-multipurpose&#39;, &#39;NICF-A&#39;, &#39;hikari/CaF/NICF-A.yml&#39;, 1, 1, 0.18489, 2.32542, 36)\n(904, &#39;glass&#39;, &#39;HIKARI-multipurpose&#39;, &#39;NICF-U&#39;, &#39;hikari/CaF/NICF-U.yml&#39;, 1, 1, 0.18489, 2.32542, 36)\n(905, &#39;glass&#39;, &#39;HIKARI-multipurpose&#39;, &#39;NICF-V&#39;, &#39;hikari/CaF/NICF-V.yml&#39;, 1, 1, 0.18489, 2.32542, 36)\n(983, &#39;glass&#39;, &#39;SCHOTT-BK&#39;, &#39;N-BK10&#39;, &#39;glass/schott/N-BK10.yml&#39;, 1, 1, 0.29, 2.5, 26)\n(990, &#39;glass&#39;, &#39;SCHOTT-FK&#39;, &#39;FK5HTi&#39;, &#39;glass/schott/FK5HTi.yml&#39;, 1, 1, 0.25, 2.5, 30)\n(991, &#39;glass&#39;, &#39;SCHOTT-FK&#39;, &#39;N-FK5&#39;, &#39;glass/schott/N-FK5.yml&#39;, 1, 1, 0.26, 2.5, 28)\n(992, &#39;glass&#39;, &#39;SCHOTT-FK&#39;, &#39;N-FK51&#39;, &#39;glass/schott/N-FK51.yml&#39;, 1, 1, 0.29, 2.5, 26)\n(993, &#39;glass&#39;, &#39;SCHOTT-FK&#39;, &#39;N-FK51A&#39;, &#39;glass/schott/N-FK51A.yml&#39;, 1, 1, 0.29, 2.5, 26)\n(994, &#39;glass&#39;, &#39;SCHOTT-FK&#39;, &#39;N-FK58&#39;, &#39;glass/schott/N-FK58.yml&#39;, 1, 1, 0.26, 2.5, 29)\n(997, &#39;glass&#39;, &#39;SCHOTT-LaK&#39;, &#39;N-LAK7&#39;, &#39;glass/schott/N-LAK7.yml&#39;, 1, 1, 0.29, 2.5, 25)\n(1007, &#39;glass&#39;, &#39;SCHOTT-LaK&#39;, &#39;N-LAK34&#39;, &#39;glass/schott/N-LAK34.yml&#39;, 1, 1, 0.29, 2.5, 26)\n(1010, &#39;glass&#39;, &#39;SCHOTT-PK&#39;, &#39;N-PK52A&#39;, &#39;glass/schott/N-PK52A.yml&#39;, 1, 1, 0.29, 2.5, 26)\n(1099, &#39;glass&#39;, &#39;SCHOTT-LaSF&#39;, &#39;N-LASF31A&#39;, &#39;glass/schott/N-LASF31A.yml&#39;, 1, 1, 0.25, 2.5, 22)\n(1147, &#39;glass&#39;, &#39;OHARA-BAL&#39;, &#39;BAL35Y&#39;, &#39;glass/ohara/BAL35Y.yml&#39;, 1, 1, 0.29, 2.4, 31)\n(1164, &#39;glass&#39;, &#39;OHARA-BAL&#39;, &#39;S-BAL42&#39;, &#39;glass/ohara/S-BAL42.yml&#39;, 1, 1, 0.29, 2.4, 31)\n(1191, &#39;glass&#39;, &#39;OHARA-BSL&#39;, &#39;BSL7Y&#39;, &#39;glass/ohara/BSL7Y.yml&#39;, 1, 1, 0.29, 2.4, 31)\n(1195, &#39;glass&#39;, &#39;OHARA-BSL&#39;, &#39;S-BSL7&#39;, &#39;glass/ohara/S-BSL7.yml&#39;, 1, 1, 0.29, 2.4, 31)\n(1214, &#39;glass&#39;, &#39;OHARA-BSM&#39;, &#39;BSM51Y&#39;, &#39;glass/ohara/BSM51Y.yml&#39;, 1, 1, 0.29, 2.4, 31)\n(1232, &#39;glass&#39;, &#39;OHARA-BSM&#39;, &#39;S-BSM81&#39;, &#39;glass/ohara/S-BSM81.yml&#39;, 1, 1, 0.29, 2.4, 31)\n(1237, &#39;glass&#39;, &#39;OHARA-FPL&#39;, &#39;S-FPL51&#39;, &#39;glass/ohara/S-FPL51.yml&#39;, 1, 1, 0.28, 2.4, 32)\n(1238, &#39;glass&#39;, &#39;OHARA-FPL&#39;, &#39;S-FPL51Y&#39;, &#39;glass/ohara/S-FPL51Y.yml&#39;, 1, 1, 0.24, 2.4, 36)\n(1239, &#39;glass&#39;, &#39;OHARA-FPL&#39;, &#39;S-FPL52&#39;, &#39;glass/ohara/S-FPL52.yml&#39;, 1, 1, 0.29, 2.4, 31)\n(1240, &#39;glass&#39;, &#39;OHARA-FPL&#39;, &#39;S-FPL53&#39;, &#39;glass/ohara/S-FPL53.yml&#39;, 1, 1, 0.28, 2.4, 32)\n(1246, &#39;glass&#39;, &#39;OHARA-FSL&#39;, &#39;S-FSL5&#39;, &#39;glass/ohara/S-FSL5.yml&#39;, 1, 1, 0.28, 2.4, 32)\n(1247, &#39;glass&#39;, &#39;OHARA-FSL&#39;, &#39;S-FSL5Y&#39;, &#39;glass/ohara/S-FSL5Y.yml&#39;, 1, 1, 0.28, 2.4, 32)\n(1280, &#39;glass&#39;, &#39;OHARA-LAH&#39;, &#39;L-LAH90&#39;, &#39;glass/ohara/L-LAH90.yml&#39;, 1, 1, 0.28, 2.4, 26)\n(1281, &#39;glass&#39;, &#39;OHARA-LAH&#39;, &#39;L-LAH91&#39;, &#39;glass/ohara/L-LAH91.yml&#39;, 1, 1, 0.28, 2.4, 32)\n(1293, &#39;glass&#39;, &#39;OHARA-LAH&#39;, &#39;S-LAH59&#39;, &#39;glass/ohara/S-LAH59.yml&#39;, 1, 1, 0.29, 2.4, 31)\n(1331, &#39;glass&#39;, &#39;OHARA-LAL&#39;, &#39;L-LAL13&#39;, &#39;glass/ohara/L-LAL13.yml&#39;, 1, 1, 0.28, 2.4, 32)\n(1333, &#39;glass&#39;, &#39;OHARA-LAL&#39;, &#39;S-LAL7&#39;, &#39;glass/ohara/S-LAL7.yml&#39;, 1, 1, 0.28, 2.4, 32)\n(1334, &#39;glass&#39;, &#39;OHARA-LAL&#39;, &#39;S-LAL8&#39;, &#39;glass/ohara/S-LAL8.yml&#39;, 1, 1, 0.29, 2.4, 31)\n(1335, &#39;glass&#39;, &#39;OHARA-LAL&#39;, &#39;S-LAL9&#39;, &#39;glass/ohara/S-LAL9.yml&#39;, 1, 1, 0.29, 2.4, 31)\n(1337, &#39;glass&#39;, &#39;OHARA-LAL&#39;, &#39;S-LAL11&#39;, &#39;glass/ohara/S-LAL11.yml&#39;, 1, 1, 0.28, 2.4, 22)\n(1338, &#39;glass&#39;, &#39;OHARA-LAL&#39;, &#39;S-LAL12&#39;, &#39;glass/ohara/S-LAL12.yml&#39;, 1, 1, 0.28, 2.4, 32)\n(1339, &#39;glass&#39;, &#39;OHARA-LAL&#39;, &#39;S-LAL13&#39;, &#39;glass/ohara/S-LAL13.yml&#39;, 1, 1, 0.29, 2.4, 31)\n(1340, &#39;glass&#39;, &#39;OHARA-LAL&#39;, &#39;S-LAL14&#39;, &#39;glass/ohara/S-LAL14.yml&#39;, 1, 1, 0.28, 2.4, 32)\n(1341, &#39;glass&#39;, &#39;OHARA-LAL&#39;, &#39;S-LAL18&#39;, &#39;glass/ohara/S-LAL18.yml&#39;, 1, 1, 0.28, 2.4, 32)\n(1344, &#39;glass&#39;, &#39;OHARA-LAL&#39;, &#39;S-LAL52&#39;, &#39;glass/ohara/S-LAL52.yml&#39;, 1, 1, 0.28, 2.4, 22)\n(1349, &#39;glass&#39;, &#39;OHARA-LAL&#39;, &#39;S-LAL59&#39;, &#39;glass/ohara/S-LAL59.yml&#39;, 1, 1, 0.28, 2.4, 32)\n(1351, &#39;glass&#39;, &#39;OHARA-LAL&#39;, &#39;S-LAL61&#39;, &#39;glass/ohara/S-LAL61.yml&#39;, 1, 1, 0.29, 2.4, 31)\n(1366, &#39;glass&#39;, &#39;OHARA-LAM&#39;, &#39;L-LAM72&#39;, &#39;glass/ohara/L-LAM72.yml&#39;, 1, 1, 0.29, 2.4, 31)\n(1396, &#39;glass&#39;, &#39;OHARA-NPH&#39;, &#39;S-NPH4&#39;, &#39;glass/ohara/S-NPH4.yml&#39;, 1, 1, 0.28, 2.4, 22)\n(1522, &#39;glass&#39;, &#39;OHARA-YGH&#39;, &#39;S-YGH51&#39;, &#39;glass/ohara/S-YGH51.yml&#39;, 1, 1, 0.28, 2.4, 32)\n(2560, &#39;other&#39;, &#39;air&#39;, &#39;Ciddor&#39;, &#39;mixed gases/air/Ciddor.yml&#39;, 1, 0, 0.23, 1.69, 100)\n(2565, &#39;other&#39;, &#39;air&#39;, &#39;Peck&#39;, &#39;mixed gases/air/Peck.yml&#39;, 1, 0, 0.185, 1.7, 100)\n(2566, &#39;other&#39;, &#39;Au-Ag&#39;, &#39;Rioux-Au100Ag0&#39;, &#39;alloys/Au-Ag/Rioux-Au100Ag0.yml&#39;, 1, 1, 0.27, 1.2, 931)\n(2567, &#39;other&#39;, &#39;Au-Ag&#39;, &#39;Rioux-Au90Ag10&#39;, &#39;alloys/Au-Ag/Rioux-Au90Ag10.yml&#39;, 1, 1, 0.27, 1.2, 931)\n(2568, &#39;other&#39;, &#39;Au-Ag&#39;, &#39;Rioux-Au80Ag20&#39;, &#39;alloys/Au-Ag/Rioux-Au80Ag20.yml&#39;, 1, 1, 0.27, 1.2, 931)\n(2569, &#39;other&#39;, &#39;Au-Ag&#39;, &#39;Rioux-Au70Ag30&#39;, &#39;alloys/Au-Ag/Rioux-Au70Ag30.yml&#39;, 1, 1, 0.27, 1.2, 931)\n(2570, &#39;other&#39;, &#39;Au-Ag&#39;, &#39;Rioux-Au60Ag40&#39;, &#39;alloys/Au-Ag/Rioux-Au60Ag40.yml&#39;, 1, 1, 0.27, 1.2, 931)\n(2571, &#39;other&#39;, &#39;Au-Ag&#39;, &#39;Rioux-Au50Ag50&#39;, &#39;alloys/Au-Ag/Rioux-Au50Ag50.yml&#39;, 1, 1, 0.27, 1.2, 931)\n(2572, &#39;other&#39;, &#39;Au-Ag&#39;, &#39;Rioux-Au40Ag60&#39;, &#39;alloys/Au-Ag/Rioux-Au40Ag60.yml&#39;, 1, 1, 0.27, 1.2, 931)\n(2573, &#39;other&#39;, &#39;Au-Ag&#39;, &#39;Rioux-Au30Ag70&#39;, &#39;alloys/Au-Ag/Rioux-Au30Ag70.yml&#39;, 1, 1, 0.27, 1.2, 931)\n(2574, &#39;other&#39;, &#39;Au-Ag&#39;, &#39;Rioux-Au20Ag80&#39;, &#39;alloys/Au-Ag/Rioux-Au20Ag80.yml&#39;, 1, 1, 0.27, 1.2, 931)\n(2575, &#39;other&#39;, &#39;Au-Ag&#39;, &#39;Rioux-Au10Ag90&#39;, &#39;alloys/Au-Ag/Rioux-Au10Ag90.yml&#39;, 1, 1, 0.27, 1.2, 931)\n(2576, &#39;other&#39;, &#39;Au-Ag&#39;, &#39;Rioux-Au0Ag100&#39;, &#39;alloys/Au-Ag/Rioux-Au0Ag100.yml&#39;, 1, 1, 0.27, 1.2, 931)\n(2577, &#39;other&#39;, &#39;Cu-Zn&#39;, &#39;Querry-Cu90Zn10&#39;, &#39;alloys/Cu-Zn/Querry-Cu90Zn10.yml&#39;, 1, 1, 0.21, 55.5556, 612)\n(2578, &#39;other&#39;, &#39;Cu-Zn&#39;, &#39;Querry-Cu85Zn15&#39;, &#39;alloys/Cu-Zn/Querry-Cu85Zn15.yml&#39;, 1, 1, 0.21, 55.5556, 612)\n(2579, &#39;other&#39;, &#39;Cu-Zn&#39;, &#39;Querry-Cu70Zn30&#39;, &#39;alloys/Cu-Zn/Querry-Cu70Zn30.yml&#39;, 1, 1, 0.21, 55.5556, 611)\n(2587, &#39;other&#39;, &#39;Ni-Fe&#39;, &#39;Tikuisis_gold150nm&#39;, &#39;alloys/Ni-Fe/Tikuisis_gold150nm.yml&#39;, 1, 1, 0.193, 1.69, 1084)\n(2588, &#39;other&#39;, &#39;Ni-Fe&#39;, &#39;Tikuisis_gold10nm&#39;, &#39;alloys/Ni-Fe/Tikuisis_gold10nm.yml&#39;, 1, 1, 0.193, 1.69, 1084)\n(2589, &#39;other&#39;, &#39;Ni-Fe&#39;, &#39;Tikuisis_bare150nm&#39;, &#39;alloys/Ni-Fe/Tikuisis_bare150nm.yml&#39;, 1, 1, 0.193, 1.69, 1084)\n(2590, &#39;other&#39;, &#39;Ni-Fe&#39;, &#39;Tikuisis_bare10nm&#39;, &#39;alloys/Ni-Fe/Tikuisis_bare10nm.yml&#39;, 1, 1, 0.193, 1.69, 1084)\n(2591, &#39;other&#39;, &#39;Pd-H&#39;, &#39;Palm&#39;, &#39;alloys/Pd-H/Palm.yml&#39;, 1, 1, 0.250019531, 1.684528687, 670)\n(2595, &#39;other&#39;, &#39;Zr-H&#39;, &#39;Palm&#39;, &#39;alloys/Zr-H/Palm.yml&#39;, 1, 1, 0.226076263, 1.684528687, 685)\n(2605, &#39;other&#39;, &#39;AlAs-GaAs&#39;, &#39;Adachi-0.315&#39;, &#39;semiconductor alloys/AlAs-GaAs/Adachi-0.315.yml&#39;, 1, 1, 0.20664, 12.398, 200)\n(2606, &#39;other&#39;, &#39;AlAs-GaAs&#39;, &#39;Adachi-0.700&#39;, &#39;semiconductor alloys/AlAs-GaAs/Adachi-0.700.yml&#39;, 1, 1, 0.20664, 12.398, 200)\n(2607, &#39;other&#39;, &#39;AlSb-GaSb&#39;, &#39;Ferrini-0&#39;, &#39;semiconductor alloys/AlSb-GaSb/Ferrini-0.yml&#39;, 1, 1, 0.207, 2.48, 56)\n(2608, &#39;other&#39;, &#39;AlSb-GaSb&#39;, &#39;Ferrini-10&#39;, &#39;semiconductor alloys/AlSb-GaSb/Ferrini-10.yml&#39;, 1, 1, 0.207, 2.48, 56)\n(2609, &#39;other&#39;, &#39;AlSb-GaSb&#39;, &#39;Ferrini-30&#39;, &#39;semiconductor alloys/AlSb-GaSb/Ferrini-30.yml&#39;, 1, 1, 0.207, 2.48, 56)\n(2610, &#39;other&#39;, &#39;AlSb-GaSb&#39;, &#39;Ferrini-50&#39;, &#39;semiconductor alloys/AlSb-GaSb/Ferrini-50.yml&#39;, 1, 1, 0.207, 2.48, 56)\n(2611, &#39;other&#39;, &#39;AlN-Al2O3&#39;, &#39;Hartnett-6.69&#39;, &#39;semiconductor alloys/AlN-Al2O3/Hartnett-6.69.yml&#39;, 1, 0, 0.24, 5.6, 100)\n(2612, &#39;other&#39;, &#39;AlN-Al2O3&#39;, &#39;Hartnett-5.88&#39;, &#39;semiconductor alloys/AlN-Al2O3/Hartnett-5.88.yml&#39;, 1, 1, 0.24, 5.6, 12)\n(2613, &#39;other&#39;, &#39;AlN-Al2O3&#39;, &#39;Hartnett-6.53&#39;, &#39;semiconductor alloys/AlN-Al2O3/Hartnett-6.53.yml&#39;, 1, 1, 0.24, 5.6, 12)\n(2614, &#39;other&#39;, &#39;AlN-Al2O3&#39;, &#39;Hartnett-7.17&#39;, &#39;semiconductor alloys/AlN-Al2O3/Hartnett-7.17.yml&#39;, 1, 1, 0.24, 5.6, 12)\n(2615, &#39;other&#39;, &#39;GaAs-InAs&#39;, &#39;Adachi&#39;, &#39;semiconductor alloys/GaAs-InAs/Adachi.yml&#39;, 1, 1, 0.20664, 12.398, 200)\n(2617, &#39;other&#39;, &#39;GaAs-InAs-GaP-InP&#39;, &#39;Adachi&#39;, &#39;semiconductor alloys/GaAs-InAs-GaP-InP/Adachi.yml&#39;, 1, 1, 0.20664, 12.398, 200)\n(2641, &#39;other&#39;, &#39;C6H4S4-C12H4N4&#39;, &#39;Querry&#39;, &#39;mixed organic/C6H4S4-C12H4N4/Querry.yml&#39;, 1, 1, 0.21, 55.5556, 612)\n(2643, &#39;other&#39;, &#39;P3HT-PC61BM&#39;, &#39;Stelling&#39;, &#39;mixed organic/P3HT-PC61BM/Stelling.yml&#39;, 1, 1, 0.24718, 1.68492, 674)\n(2645, &#39;other&#39;, &#39;Cu-C12H4N4&#39;, &#39;Querry&#39;, &#39;mixed organic-inorganic/Cu-C12H4N4/Querry.yml&#39;, 1, 1, 0.21, 55.5556, 612)\n(2646, &#39;other&#39;, &#39;Li-C12H4N4&#39;, &#39;Querry&#39;, &#39;mixed organic-inorganic/Li-C12H4N4/Querry.yml&#39;, 1, 1, 0.21, 55.5556, 609)\n(2649, &#39;other&#39;, &#39;EVASKY_S87&#39;, &#39;Vogt&#39;, &#39;commercial plastics/EVASKY S87/Vogt.yml&#39;, 1, 1, 0.25, 2.5, 226)\n(2650, &#39;other&#39;, &#39;EVASKY_S88&#39;, &#39;Vogt&#39;, &#39;commercial plastics/EVASKY S88/Vogt.yml&#39;, 1, 1, 0.25, 2.5, 226)\n(2679, &#39;other&#39;, &#39;SiN&#39;, &#39;Vogt-1.91&#39;, &#39;anti-reflective coatings/SiN/Vogt-1.91.yml&#39;, 1, 1, 0.25, 1.7, 146)\n(2680, &#39;other&#39;, &#39;SiN&#39;, &#39;Vogt-2.09&#39;, &#39;anti-reflective coatings/SiN/Vogt-2.09.yml&#39;, 1, 1, 0.25, 1.7, 146)\n(2681, &#39;other&#39;, &#39;SiN&#39;, &#39;Vogt-2.13&#39;, &#39;anti-reflective coatings/SiN/Vogt-2.13.yml&#39;, 1, 1, 0.25, 1.7, 146)\n(2683, &#39;other&#39;, &#39;fused_silica_matching_liquid&#39;, &#39;Cargille-06350&#39;, &#39;index-matching liquids/cargille/fused_silica_matching_liquid-06350.yml&#39;, 1, 0, 0.225, 1.55, 100)\n(2684, &#39;other&#39;, &#39;fused_silica_matching_liquid&#39;, &#39;Cargille-50350&#39;, &#39;index-matching liquids/cargille/fused_silica_matching_liquid-50350.yml&#39;, 1, 0, 0.225, 1.55, 100)\n(2690, &#39;other&#39;, &#39;pmma_resists&#39;, &#39;Microchem495&#39;, &#39;other/resists/Microchem 495.yml&#39;, 1, 0, 0.2, 1.1, 100)\n(2691, &#39;other&#39;, &#39;pmma_resists&#39;, &#39;Microchem950&#39;, &#39;other/resists/Microchem 950.yml&#39;, 1, 0, 0.2, 1.1, 100)\n(2692, &#39;other&#39;, &#39;copolymer_resists&#39;, &#39;Microchem85mEL&#39;, &#39;other/resists/Microchem 8.5 mEL.yml&#39;, 1, 0, 0.2, 1.1, 100)\n(2702, &#39;other&#39;, &#39;TherminolVP-1&#39;, &#39;Otanicar&#39;, &#39;heat transfer fluids/Therminol VP-1/Otanicar.yml&#39;, 0, 1, 0.2, 1.5, 66)\n(2711, &#39;other&#39;, &#39;diesel_soot&#39;, &#39;Querry-NMSU&#39;, &#39;soots/diesel soot/Querry-NMSU.yml&#39;, 1, 1, 0.26, 55.5556, 304)\n(2712, &#39;other&#39;, &#39;diesel_soot&#39;, &#39;Querry-NMSU-heated&#39;, &#39;soots/diesel soot/Querry-NMSU-heated.yml&#39;, 1, 1, 0.26, 55.5556, 304)\n(2731, &#39;3d&#39;, &#39;metals&#39;, &#39;aluminium&#39;, &#39;main/Al/Rakic-BB.yml&#39;, 1, 1, 0.061992, 247.97, 200)\n(2732, &#39;3d&#39;, &#39;metals&#39;, &#39;brass&#39;, &#39;alloys/Cu-Zn/Querry-Cu70Zn30.yml&#39;, 1, 1, 0.21, 55.5556, 611)\n(2733, &#39;3d&#39;, &#39;metals&#39;, &#39;copper&#39;, &#39;main/Cu/Rakic-BB.yml&#39;, 1, 1, 0.20664, 12.398, 200)\n(2734, &#39;3d&#39;, &#39;metals&#39;, &#39;gold&#39;, &#39;main/Au/Rakic-BB.yml&#39;, 1, 1, 0.24797, 6.1992, 200)\n(2735, &#39;3d&#39;, &#39;metals&#39;, &#39;iron&#39;, &#39;main/Fe/Johnson.yml&#39;, 1, 1, 0.188, 1.937, 49)\n(2737, &#39;3d&#39;, &#39;metals&#39;, &#39;mercury&#39;, &#39;main/Hg/Inagaki.yml&#39;, 1, 1, 0.06358, 6.19921, 76)\n(2738, &#39;3d&#39;, &#39;metals&#39;, &#39;platinum&#39;, &#39;main/Pt/Rakic-BB.yml&#39;, 1, 1, 0.24797, 12.398, 200)\n(2739, &#39;3d&#39;, &#39;metals&#39;, &#39;silver&#39;, &#39;main/Ag/Rakic-BB.yml&#39;, 1, 1, 0.24797, 12.398, 200)\n(2740, &#39;3d&#39;, &#39;metals&#39;, &#39;titanium&#39;, &#39;main/Ti/Johnson.yml&#39;, 1, 1, 0.188, 1.937, 49)\n(2749, &#39;3d&#39;, &#39;crystals&#39;, &#39;diamond&#39;, &#39;main/C/Phillip.yml&#39;, 1, 1, 0.035424054, 10.0, 176)\n(2751, &#39;3d&#39;, &#39;crystals&#39;, &#39;ice&#39;, &#39;main/H2O/Warren-2008.yml&#39;, 1, 1, 0.0443, 2000000.0, 486)\n(2752, &#39;3d&#39;, &#39;crystals&#39;, &#39;quartz&#39;, &#39;main/SiO2/Malitson.yml&#39;, 1, 0, 0.21, 6.7, 100)\n(2753, &#39;3d&#39;, &#39;crystals&#39;, &#39;salt&#39;, &#39;main/NaCl/Li.yml&#39;, 1, 0, 0.2, 30.0, 100)\n(2754, &#39;3d&#39;, &#39;crystals&#39;, &#39;sapphire&#39;, &#39;main/Al2O3/Malitson-o.yml&#39;, 1, 0, 0.2, 5.0, 100)\n(2762, &#39;3d&#39;, &#39;liquids&#39;, &#39;water&#39;, &#39;main/H2O/Hale.yml&#39;, 1, 1, 0.2, 200.0, 169)\n(2765, &#39;3d&#39;, &#39;liquids&#39;, &#39;mercury&#39;, &#39;main/Hg/Inagaki.yml&#39;, 1, 1, 0.06358, 6.19921, 76)\n(2768, &#39;3d&#39;, &#39;misc&#39;, &#39;diesel_soot&#39;, &#39;soots/diesel soot/Querry-NMSU.yml&#39;, 1, 1, 0.26, 55.5556, 304)\n[0, 1, 3, 5, 8, 9, 10, 11, 12, 13, 14, 15, 16, 19, 21, 22, 47, 52, 53, 54, 57, 62, 64, 68, 71, 76, 77, 82, 83, 84, 86, 87, 88, 89, 95, 96, 97, 98, 99, 100, 101, 102, 103, 104, 105, 106, 108, 109, 111, 112, 113, 114, 117, 120, 121, 123, 125, 126, 127, 128, 129, 130, 131, 133, 143, 144, 145, 146, 147, 154, 156, 157, 158, 159, 160, 161, 163, 164, 165, 166, 167, 168, 173, 175, 177, 180, 181, 182, 183, 184, 188, 189, 190, 191, 192, 193, 194, 196, 197, 198, 201, 203, 206, 207, 208, 209, 210, 211, 213, 216, 217, 218, 221, 222, 223, 224, 226, 227, 228, 231, 245, 246, 253, 257, 258, 263, 265, 266, 267, 268, 269, 271, 272, 305, 308, 309, 310, 312, 313, 315, 317, 318, 319, 330, 331, 339, 340, 342, 361, 362, 364, 365, 366, 369, 370, 371, 372, 373, 377, 381, 386, 387, 388, 390, 391, 394, 395, 396, 397, 398, 400, 401, 417, 418, 419, 422, 424, 427, 428, 430, 431, 432, 433, 435, 436, 437, 440, 448, 450, 455, 460, 461, 471, 474, 483, 484, 488, 489, 494, 500, 501, 502, 503, 505, 506, 507, 510, 511, 512, 513, 522, 540, 541, 550, 559, 561, 566, 567, 569, 570, 571, 573, 574, 578, 581, 582, 586, 588, 602, 603, 610, 638, 645, 647, 653, 659, 660, 667, 668, 669, 673, 674, 675, 684, 686, 687, 701, 703, 704, 705, 730, 733, 735, 736, 739, 740, 741, 742, 765, 766, 770, 771, 778, 779, 780, 848, 853, 868, 882, 890, 897, 898, 899, 900, 901, 902, 903, 904, 905, 983, 990, 991, 992, 993, 994, 997, 1007, 1010, 1099, 1147, 1164, 1191, 1195, 1214, 1232, 1237, 1238, 1239, 1240, 1246, 1247, 1280, 1281, 1293, 1331, 1333, 1334, 1335, 1337, 1338, 1339, 1340, 1341, 1344, 1349, 1351, 1366, 1396, 1522, 2560, 2565, 2566, 2567, 2568, 2569, 2570, 2571, 2572, 2573, 2574, 2575, 2576, 2577, 2578, 2579, 2587, 2588, 2589, 2590, 2591, 2595, 2605, 2606, 2607, 2608, 2609, 2610, 2611, 2612, 2613, 2614, 2615, 2617, 2641, 2643, 2645, 2646, 2649, 2650, 2679, 2680, 2681, 2683, 2684, 2690, 2691, 2692, 2702, 2711, 2712, 2731, 2732, 2733, 2734, 2735, 2737, 2738, 2739, 2740, 2749, 2751, 2752, 2753, 2754, 2762, 2765, 2768]\n"
    }
   ],
   "source": [
    "rangeMin = 0.3\n",
    "rangeMax = 1.0\n",
    "re = 10\n",
    "\n",
    "dbpath = \"../db_sqlite/refractive.db\"\n",
    "db = DB.Database(dbpath)\n",
    "matList = db.search_custom('select * from pages')\n",
    "matPageId = list()\n",
    "for mat in matList:\n",
    "  if mat[-3] < rangeMin and mat[-2] > rangeMax:\n",
    "    print(mat)\n",
    "    matPageId.append(mat[0])\n",
    "    \n",
    "print(matPageId)"
   ]
  },
  {
   "cell_type": "code",
   "execution_count": 102,
   "metadata": {
    "tags": []
   },
   "outputs": [
    {
     "output_type": "stream",
     "name": "stdout",
     "text": "Material main/Ag/Johnson.yml loaded.\nMaterial main/Ag/Yang.yml loaded.\nMaterial main/Ag/Babar.yml loaded.\nMaterial main/Ag/Werner.yml loaded.\nMaterial main/Ag/Hagemann.yml loaded.\nMaterial main/Ag/Ciesielski.yml loaded.\nMaterial main/Ag/Ciesielski-Ge.yml loaded.\nMaterial main/Ag/Ciesielski-Ni.yml loaded.\nMaterial main/Ag/Rakic-BB.yml loaded.\nMaterial main/Ag/Rakic-LD.yml loaded.\nMaterial main/Ag/Werner-DFT.yml loaded.\nMaterial main/Al/Rakic.yml loaded.\nMaterial main/Al/McPeak.yml loaded.\nMaterial main/Al/Hagemann.yml loaded.\nMaterial main/Al/Rakic-BB.yml loaded.\nMaterial main/Al/Rakic-LD.yml loaded.\nMaterial main/AlAs/Rakic.yml loaded.\nMaterial main/GaAs/Adachi.yml loaded.\nMaterial main/GaAs/Rakic.yml loaded.\nMaterial main/GaAs/Ozaki.yml loaded.\nMaterial main/InAs/Adachi.yml loaded.\nMaterial main/Au/Johnson.yml loaded.\nMaterial main/Au/Babar.yml loaded.\nMaterial main/Au/Werner.yml loaded.\nMaterial main/Au/Hagemann.yml loaded.\nMaterial main/Au/Ciesielski.yml loaded.\nMaterial main/Au/Ciesielski-Ge.yml loaded.\nMaterial main/Au/Rakic-BB.yml loaded.\nMaterial main/Au/Rakic-LD.yml loaded.\nMaterial main/Au/Werner-DFT.yml loaded.\nMaterial main/BaB2O4/Eimerl-o.yml loaded.\nMaterial main/BaB2O4/Eimerl-e.yml loaded.\nMaterial main/BaB2O4/Tamosauskas-o.yml loaded.\nMaterial main/BaB2O4/Tamosauskas-e.yml loaded.\nMaterial main/LiB3O5/Chen-alpha.yml loaded.\nMaterial main/LiB3O5/Chen-beta.yml loaded.\nMaterial main/LiB3O5/Chen-gamma.yml loaded.\nMaterial main/CsLiB6O10/Sasaki-o.yml loaded.\nMaterial main/CsLiB6O10/Sasaki-e.yml loaded.\nMaterial main/LuAl3(BO3)4/Fang-o.yml loaded.\nMaterial main/LuAl3(BO3)4/Fang-e.yml loaded.\nMaterial main/Be/Rakic-BB.yml loaded.\nMaterial main/Be/Rakic-LD.yml loaded.\nMaterial main/Bi/Hagemann.yml loaded.\nMaterial main/Bi/Werner.yml loaded.\nMaterial main/Bi/Werner-DFT.yml loaded.\nMaterial main/CsBr/Li.yml loaded.\nMaterial main/CsBr/Querry.yml loaded.\nMaterial main/KBr/Li.yml loaded.\nMaterial main/LiBr/Li.yml loaded.\nMaterial main/NaBr/Li.yml loaded.\nMaterial main/RbBr/Li.yml loaded.\nMaterial main/C/Phillip.yml loaded.\nMaterial main/C/Hagemann.yml loaded.\nMaterial main/C/Larruquert.yml loaded.\nMaterial main/C/Djurisic-o.yml loaded.\nMaterial main/C/Querry-DixonKS2.yml loaded.\nMaterial main/C/Querry-DixonHPN2.yml loaded.\nMaterial main/C/Querry-Dixon200-10.yml loaded.\nMaterial main/C/Querry-AsburyMicro260.yml loaded.\nMaterial main/C/Querry-Dixon1102.yml loaded.\nMaterial main/C/Querry-Asbury3222.yml loaded.\nMaterial main/C/Querry-Pyrolytic.yml loaded.\nMaterial main/B4C/Larruquert.yml loaded.\nMaterial main/SiC/Larruquert.yml loaded.\nMaterial main/TiC/Pfluger.yml loaded.\nMaterial main/VC/Pfluger.yml loaded.\nMaterial main/CaCO3/Ghosh-o.yml loaded.\nMaterial main/CaCO3/Ghosh-e.yml loaded.\nMaterial main/CsCl/Li.yml loaded.\nMaterial main/KCl/Li.yml loaded.\nMaterial main/KCl/Querry.yml loaded.\nMaterial main/LiCl/Li.yml loaded.\nMaterial main/NaCl/Li.yml loaded.\nMaterial main/NaCl/Querry.yml loaded.\nMaterial main/RbCl/Li.yml loaded.\nMaterial main/Co/Johnson.yml loaded.\nMaterial main/Co/Werner.yml loaded.\nMaterial main/Co/Werner-DFT.yml loaded.\nMaterial main/Cr/Johnson.yml loaded.\nMaterial main/Cr/Rakic-BB.yml loaded.\nMaterial main/Cr/Rakic-LD.yml loaded.\nMaterial main/Cu/Johnson.yml loaded.\nMaterial main/Cu/Babar.yml loaded.\nMaterial main/Cu/Werner.yml loaded.\nMaterial main/Cu/Querry.yml loaded.\nMaterial main/Cu/Hagemann.yml loaded.\nMaterial main/Cu/Rakic-BB.yml loaded.\nMaterial main/Cu/Rakic-LD.yml loaded.\nMaterial main/Cu/Werner-DFT.yml loaded.\nMaterial main/BaF2/Querry.yml loaded.\nMaterial main/BaF2/Li.yml loaded.\nMaterial main/BaF2/Malitson.yml loaded.\nMaterial main/CaF2/Malitson.yml loaded.\nMaterial main/CaF2/Daimon-20.yml loaded.\nMaterial main/CaF2/Daimon-25.yml loaded.\nMaterial main/CaF2/Li.yml loaded.\nMaterial main/CeF3/Rodriguez-de Marcos.yml loaded.\nMaterial main/CsF/Li.yml loaded.\nMaterial main/KF/Li.yml loaded.\nMaterial main/LaF3/Rodriguez-de Marcos.yml loaded.\nMaterial main/LiF/Li.yml loaded.\nMaterial main/NaF/Li.yml loaded.\nMaterial main/MgF2/Dodge-o.yml loaded.\nMaterial main/MgF2/Dodge-e.yml loaded.\nMaterial main/MgF2/Li-o.yml loaded.\nMaterial main/MgF2/Li-e.yml loaded.\nMaterial main/MgF2/Rodriguez-de Marcos.yml loaded.\nMaterial main/RbF/Li.yml loaded.\nMaterial main/SrF2/Rodriguez-de Marcos.yml loaded.\nMaterial main/SrF2/Li.yml loaded.\nMaterial main/SrF2/Feldman.yml loaded.\nMaterial main/YLiF4/Barnes-o.yml loaded.\nMaterial main/YLiF4/Barnes-e.yml loaded.\nMaterial main/Fe/Johnson.yml loaded.\nMaterial main/Fe/Werner.yml loaded.\nMaterial main/Fe/Querry.yml loaded.\nMaterial main/Fe/Werner-DFT.yml loaded.\nMaterial main/BiFeO3/Kumar.yml loaded.\nMaterial main/Ge/Nunley.yml loaded.\nMaterial main/Ge/Ciesielski-2nm.yml loaded.\nMaterial main/Ge/Ciesielski-20nm.yml loaded.\nMaterial main/H2/Peck.yml loaded.\nMaterial main/MgH2/Palm.yml loaded.\nMaterial main/TiH2/Palm.yml loaded.\nMaterial main/Hg/Inagaki.yml loaded.\nMaterial main/CsI/Li.yml loaded.\nMaterial main/CsI/Querry.yml loaded.\nMaterial main/CsI/Rodney.yml loaded.\nMaterial main/KI/Li.yml loaded.\nMaterial main/LiI/Li.yml loaded.\nMaterial main/NaI/Li.yml loaded.\nMaterial main/RbI/Li.yml loaded.\nMaterial main/Li/Rasigni.yml loaded.\nMaterial main/Lu/Garcia-Cortes.yml loaded.\nMaterial main/Mg/Hagemann.yml loaded.\nMaterial main/Mg/Palm.yml loaded.\nMaterial main/Mn/Johnson.yml loaded.\nMaterial main/Mn/Querry.yml loaded.\nMaterial main/Mo/Werner.yml loaded.\nMaterial main/Mo/Querry.yml loaded.\nMaterial main/Mo/Kirillova.yml loaded.\nMaterial main/Mo/Werner-DFT.yml loaded.\nMaterial main/AlN/Pastrnak-o.yml loaded.\nMaterial main/AlN/Pastrnak-e.yml loaded.\nMaterial main/Si3N4/Philipp.yml loaded.\nMaterial main/TiN/Pfluger.yml loaded.\nMaterial main/VN/Pfluger.yml loaded.\nMaterial main/Ni/Johnson.yml loaded.\nMaterial main/Ni/Werner.yml loaded.\nMaterial main/Ni/Rakic-BB.yml loaded.\nMaterial main/Ni/Rakic-LD.yml loaded.\nMaterial main/Ni/Werner-DFT.yml loaded.\nMaterial main/Al2O3/Malitson-o.yml loaded.\nMaterial main/Al2O3/Malitson-e.yml loaded.\nMaterial main/Al2O3/Querry-o.yml loaded.\nMaterial main/Al2O3/Querry-e.yml loaded.\nMaterial main/Al2O3/Malitson.yml loaded.\nMaterial main/Al2O3/Querry.yml loaded.\nMaterial main/CO2/Bideau-Mehu.yml loaded.\nMaterial main/Fe2O3/Querry-o.yml loaded.\nMaterial main/Fe2O3/Querry-e.yml loaded.\nMaterial main/Fe3O4/Querry.yml loaded.\nMaterial main/GeO2/Nunley.yml loaded.\nMaterial main/H2O/Hale.yml loaded.\nMaterial main/H2O/Daimon-19.0C.yml loaded.\nMaterial main/H2O/Daimon-20.0C.yml loaded.\nMaterial main/H2O/Daimon-21.5C.yml loaded.\nMaterial main/H2O/Daimon-24.0C.yml loaded.\nMaterial main/H2O/Segelstein.yml loaded.\nMaterial main/H2O/Warren-2008.yml loaded.\nMaterial main/H2O/Warren-1984.yml loaded.\nMaterial main/MoO3/Lajaunie-alpha.yml loaded.\nMaterial main/MoO3/Lajaunie-beta.yml loaded.\nMaterial main/MoO3/Lajaunie-gamma.yml loaded.\nMaterial main/Nb2O5/Lemarchand.yml loaded.\nMaterial main/Sc2O3/Belosludtsev.yml loaded.\nMaterial main/SiO/Hass.yml loaded.\nMaterial main/SiO2/Malitson.yml loaded.\nMaterial main/SiO2/Ghosh-o.yml loaded.\nMaterial main/SiO2/Ghosh-e.yml loaded.\nMaterial main/SiO2/Radhakrishnan-o.yml loaded.\nMaterial main/SiO2/Radhakrishnan-e.yml loaded.\nMaterial main/SiO2/Rodriguez-de Marcos.yml loaded.\nMaterial main/SiO2/Gao.yml loaded.\nMaterial main/SiO2/Lemarchand.yml loaded.\nMaterial main/Ta2O5/Rodriguez-de Marcos.yml loaded.\nMaterial main/TiO2/Siefke.yml loaded.\nMaterial main/Y2O3/Nigara.yml loaded.\nMaterial main/ZnO/Querry.yml loaded.\nMaterial main/Os/Nemoshkalenko-o.yml loaded.\nMaterial main/Os/Nemoshkalenko-e.yml loaded.\nMaterial main/GaP/Adachi.yml loaded.\nMaterial main/InP/Adachi.yml loaded.\nMaterial main/KH2PO4/Zernike-o.yml loaded.\nMaterial main/KH2PO4/Zernike-e.yml loaded.\nMaterial main/NH4H2PO4/Zernike-o.yml loaded.\nMaterial main/NH4H2PO4/Zernike-e.yml loaded.\nMaterial main/Pb/Werner.yml loaded.\nMaterial main/Pb/Werner-DFT.yml loaded.\nMaterial main/Pd/Johnson.yml loaded.\nMaterial main/Pd/Palm.yml loaded.\nMaterial main/Pd/Werner.yml loaded.\nMaterial main/Pd/Rakic-BB.yml loaded.\nMaterial main/Pd/Rakic-LD.yml loaded.\nMaterial main/Pd/Werner-DFT.yml loaded.\nMaterial main/Pt/Werner.yml loaded.\nMaterial main/Pt/Rakic-BB.yml loaded.\nMaterial main/Pt/Rakic-LD.yml loaded.\nMaterial main/Pt/Werner-DFT.yml loaded.\nMaterial main/Rh/Weaver.yml loaded.\nMaterial main/CdS/Ninomiya-o.yml loaded.\nMaterial main/CdS/Ninomiya-e.yml loaded.\nMaterial main/MoS2/Beal.yml loaded.\nMaterial main/ZnS/Querry.yml loaded.\nMaterial main/ZnS/Ozaki.yml loaded.\nMaterial main/AlSb/Adachi.yml loaded.\nMaterial main/AlSb/Djurisic.yml loaded.\nMaterial semiconductor alloys/AlSb-GaSb/Ferrini-0.yml loaded.\nMaterial main/GaSb/Adachi.yml loaded.\nMaterial main/GaSb/Djurisic.yml loaded.\nMaterial main/InSb/Adachi.yml loaded.\nMaterial main/InSb/Djurisic.yml loaded.\nMaterial main/Se/Ciesielski.yml loaded.\nMaterial main/CdSe/Ninomiya-o.yml loaded.\nMaterial main/CdSe/Ninomiya-e.yml loaded.\nMaterial main/MoSe2/Beal.yml loaded.\nMaterial main/PbSe/Suzuki.yml loaded.\nMaterial main/Si/Schinke.yml loaded.\nMaterial main/Si/Green-2008.yml loaded.\nMaterial main/Si/Green-1995.yml loaded.\nMaterial main/Si/Pierce.yml loaded.\nMaterial main/Ta/Werner.yml loaded.\nMaterial main/Ta/Werner-DFT.yml loaded.\nMaterial main/Te/Ciesielski.yml loaded.\nMaterial main/CdTe/Adachi.yml loaded.\nMaterial main/MoTe2/Beal.yml loaded.\nMaterial main/Ti/Johnson.yml loaded.\nMaterial main/Ti/Palm.yml loaded.\nMaterial main/Ti/Werner.yml loaded.\nMaterial main/Ti/Rakic-BB.yml loaded.\nMaterial main/Ti/Rakic-LD.yml loaded.\nMaterial main/Ti/Werner-DFT.yml loaded.\nMaterial main/V/Johnson.yml loaded.\nMaterial main/V/Werner.yml loaded.\nMaterial main/V/Werner-DFT.yml loaded.\nMaterial main/W/Werner.yml loaded.\nMaterial main/W/Rakic-BB.yml loaded.\nMaterial main/W/Rakic-LD.yml loaded.\nMaterial main/W/Werner-DFT.yml loaded.\nMaterial main/Zn/Werner.yml loaded.\nMaterial main/Zn/Werner-DFT.yml loaded.\nMaterial main/Zr/Palm.yml loaded.\nMaterial main/Zr/Querry.yml loaded.\nMaterial organic/CH4 - methane/Martonchik-liquid-111K.yml loaded.\nMaterial organic/CH4 - methane/Martonchik-liquid-90K.yml loaded.\nMaterial organic/CH4 - methane/Martonchik-solid-90K.yml loaded.\nMaterial organic/CH4 - methane/Martonchik-solid-30K.yml loaded.\nMaterial organic/C2H6O - ethanol/Sani.yml loaded.\nMaterial organic/C2H6O - ethanol/Sani-formula.yml loaded.\nMaterial organic/C3H8O - propanol/Sani.yml loaded.\nMaterial organic/C3H8O - propanol/Sani-formula.yml loaded.\nMaterial organic/C2H6O2 - ethylene glycol/Otanicar.yml loaded.\nMaterial organic/C2H6O2 - ethylene glycol/Sani.yml loaded.\nMaterial organic/C2H6O2 - ethylene glycol/Sani-formula.yml loaded.\nMaterial organic/(C6H11NO)n - poly(N-isopropylacrylamide)/Brasse.yml loaded.\nMaterial glass/ohara/S-BSL7.yml loaded.\nMaterial glass/schott/N-FK51A.yml loaded.\nMaterial main/SiO2/Malitson.yml loaded.\nMaterial misc/soda-lime/Vogt-10ppm.yml loaded.\nMaterial glass/schott/LITHOSIL-Q.yml loaded.\nMaterial glass/schott/LITHOTEC-CAF2.yml loaded.\nMaterial hikari/SiO2/NIFS-A.yml loaded.\nMaterial hikari/SiO2/NIFS-S.yml loaded.\nMaterial hikari/SiO2/NIFS-U.yml loaded.\nMaterial hikari/SiO2/NIFS-V.yml loaded.\nMaterial hikari/CaF/NICF-A.yml loaded.\nMaterial hikari/CaF/NICF-U.yml loaded.\nMaterial hikari/CaF/NICF-V.yml loaded.\nMaterial glass/schott/N-BK10.yml loaded.\nMaterial glass/schott/FK5HTi.yml loaded.\nMaterial glass/schott/N-FK5.yml loaded.\nMaterial glass/schott/N-FK51.yml loaded.\nMaterial glass/schott/N-FK51A.yml loaded.\nMaterial glass/schott/N-FK58.yml loaded.\nMaterial glass/schott/N-LAK7.yml loaded.\nMaterial glass/schott/N-LAK34.yml loaded.\nMaterial glass/schott/N-PK52A.yml loaded.\nMaterial glass/schott/N-LASF31A.yml loaded.\nMaterial glass/ohara/BAL35Y.yml loaded.\nMaterial glass/ohara/S-BAL42.yml loaded.\nMaterial glass/ohara/BSL7Y.yml loaded.\nMaterial glass/ohara/S-BSL7.yml loaded.\nMaterial glass/ohara/BSM51Y.yml loaded.\nMaterial glass/ohara/S-BSM81.yml loaded.\nMaterial glass/ohara/S-FPL51.yml loaded.\nMaterial glass/ohara/S-FPL51Y.yml loaded.\nMaterial glass/ohara/S-FPL52.yml loaded.\nMaterial glass/ohara/S-FPL53.yml loaded.\nMaterial glass/ohara/S-FSL5.yml loaded.\nMaterial glass/ohara/S-FSL5Y.yml loaded.\nMaterial glass/ohara/L-LAH90.yml loaded.\nMaterial glass/ohara/L-LAH91.yml loaded.\nMaterial glass/ohara/S-LAH59.yml loaded.\nMaterial glass/ohara/L-LAL13.yml loaded.\nMaterial glass/ohara/S-LAL7.yml loaded.\nMaterial glass/ohara/S-LAL8.yml loaded.\nMaterial glass/ohara/S-LAL9.yml loaded.\nMaterial glass/ohara/S-LAL11.yml loaded.\nMaterial glass/ohara/S-LAL12.yml loaded.\nMaterial glass/ohara/S-LAL13.yml loaded.\nMaterial glass/ohara/S-LAL14.yml loaded.\nMaterial glass/ohara/S-LAL18.yml loaded.\nMaterial glass/ohara/S-LAL52.yml loaded.\nMaterial glass/ohara/S-LAL59.yml loaded.\nMaterial glass/ohara/S-LAL61.yml loaded.\nMaterial glass/ohara/L-LAM72.yml loaded.\nMaterial glass/ohara/S-NPH4.yml loaded.\nMaterial glass/ohara/S-YGH51.yml loaded.\nMaterial mixed gases/air/Ciddor.yml loaded.\nMaterial mixed gases/air/Peck.yml loaded.\nMaterial alloys/Au-Ag/Rioux-Au100Ag0.yml loaded.\nMaterial alloys/Au-Ag/Rioux-Au90Ag10.yml loaded.\nMaterial alloys/Au-Ag/Rioux-Au80Ag20.yml loaded.\nMaterial alloys/Au-Ag/Rioux-Au70Ag30.yml loaded.\nMaterial alloys/Au-Ag/Rioux-Au60Ag40.yml loaded.\nMaterial alloys/Au-Ag/Rioux-Au50Ag50.yml loaded.\nMaterial alloys/Au-Ag/Rioux-Au40Ag60.yml loaded.\nMaterial alloys/Au-Ag/Rioux-Au30Ag70.yml loaded.\nMaterial alloys/Au-Ag/Rioux-Au20Ag80.yml loaded.\nMaterial alloys/Au-Ag/Rioux-Au10Ag90.yml loaded.\nMaterial alloys/Au-Ag/Rioux-Au0Ag100.yml loaded.\nMaterial alloys/Cu-Zn/Querry-Cu90Zn10.yml loaded.\nMaterial alloys/Cu-Zn/Querry-Cu85Zn15.yml loaded.\nMaterial alloys/Cu-Zn/Querry-Cu70Zn30.yml loaded.\nMaterial alloys/Ni-Fe/Tikuisis_gold150nm.yml loaded.\nMaterial alloys/Ni-Fe/Tikuisis_gold10nm.yml loaded.\nMaterial alloys/Ni-Fe/Tikuisis_bare150nm.yml loaded.\nMaterial alloys/Ni-Fe/Tikuisis_bare10nm.yml loaded.\nMaterial alloys/Pd-H/Palm.yml loaded.\nMaterial alloys/Zr-H/Palm.yml loaded.\nMaterial semiconductor alloys/AlAs-GaAs/Adachi-0.315.yml loaded.\nMaterial semiconductor alloys/AlAs-GaAs/Adachi-0.700.yml loaded.\nMaterial semiconductor alloys/AlSb-GaSb/Ferrini-0.yml loaded.\nMaterial semiconductor alloys/AlSb-GaSb/Ferrini-10.yml loaded.\nMaterial semiconductor alloys/AlSb-GaSb/Ferrini-30.yml loaded.\nMaterial semiconductor alloys/AlSb-GaSb/Ferrini-50.yml loaded.\nMaterial semiconductor alloys/AlN-Al2O3/Hartnett-6.69.yml loaded.\nMaterial semiconductor alloys/AlN-Al2O3/Hartnett-5.88.yml loaded.\nMaterial semiconductor alloys/AlN-Al2O3/Hartnett-6.53.yml loaded.\nMaterial semiconductor alloys/AlN-Al2O3/Hartnett-7.17.yml loaded.\nMaterial semiconductor alloys/GaAs-InAs/Adachi.yml loaded.\nMaterial semiconductor alloys/GaAs-InAs-GaP-InP/Adachi.yml loaded.\nMaterial mixed organic/C6H4S4-C12H4N4/Querry.yml loaded.\nMaterial mixed organic/P3HT-PC61BM/Stelling.yml loaded.\nMaterial mixed organic-inorganic/Cu-C12H4N4/Querry.yml loaded.\nMaterial mixed organic-inorganic/Li-C12H4N4/Querry.yml loaded.\nMaterial commercial plastics/EVASKY S87/Vogt.yml loaded.\nMaterial commercial plastics/EVASKY S88/Vogt.yml loaded.\nMaterial anti-reflective coatings/SiN/Vogt-1.91.yml loaded.\nMaterial anti-reflective coatings/SiN/Vogt-2.09.yml loaded.\nMaterial anti-reflective coatings/SiN/Vogt-2.13.yml loaded.\nMaterial index-matching liquids/cargille/fused_silica_matching_liquid-06350.yml loaded.\nMaterial index-matching liquids/cargille/fused_silica_matching_liquid-50350.yml loaded.\nMaterial other/resists/Microchem 495.yml loaded.\nMaterial other/resists/Microchem 950.yml loaded.\nMaterial other/resists/Microchem 8.5 mEL.yml loaded.\nMaterial heat transfer fluids/Therminol VP-1/Otanicar.yml loaded.\nMaterial soots/diesel soot/Querry-NMSU.yml loaded.\nMaterial soots/diesel soot/Querry-NMSU-heated.yml loaded.\nMaterial main/Al/Rakic-BB.yml loaded.\nMaterial alloys/Cu-Zn/Querry-Cu70Zn30.yml loaded.\nMaterial main/Cu/Rakic-BB.yml loaded.\nMaterial main/Au/Rakic-BB.yml loaded.\nMaterial main/Fe/Johnson.yml loaded.\nMaterial main/Hg/Inagaki.yml loaded.\nMaterial main/Pt/Rakic-BB.yml loaded.\nMaterial main/Ag/Rakic-BB.yml loaded.\nMaterial main/Ti/Johnson.yml loaded.\nMaterial main/C/Phillip.yml loaded.\nMaterial main/H2O/Warren-2008.yml loaded.\nMaterial main/SiO2/Malitson.yml loaded.\nMaterial main/NaCl/Li.yml loaded.\nMaterial main/Al2O3/Malitson-o.yml loaded.\nMaterial main/H2O/Hale.yml loaded.\nMaterial main/Hg/Inagaki.yml loaded.\nMaterial soots/diesel soot/Querry-NMSU.yml loaded.\n"
    }
   ],
   "source": [
    "input_data = {}\n",
    "\n",
    "for matId in matPageId:\n",
    "  mat = db.get_material(matId)\n",
    "  material_name = mat.pageinfo['book'] + '_' + mat.pageinfo['page']\n",
    "  material_n = []\n",
    "  material_k = []\n",
    "\n",
    "  for i in range(int(rangeMin*1000), int(rangeMax*1000), re):\n",
    "    try:\n",
    "        material_n.append(mat.get_refractiveindex(i))\n",
    "    except:\n",
    "        material_n.append(0)\n",
    "    try:\n",
    "      material_k.append(mat.get_extinctioncoefficient(i))\n",
    "    except:\n",
    "      material_k.append(0)\n",
    "\n",
    "  input_data[material_name] = np.concatenate((np.array(material_n), np.array(material_k)))\n",
    "\n",
    "\n",
    "num_epochs = 600\n",
    "batch_size = 256\n",
    "batch_losses = []\n",
    "\n",
    "\n",
    "train_dataset = tf.data.Dataset.from_tensor_slices(list(input_data.values())).shuffle(1).batch(batch_size)\n",
    "test_dataset = tf.data.Dataset.from_tensor_slices({'name': list(input_data.keys()),\n",
    "                                                   'value':list(input_data.values())}).batch(1)"
   ]
  },
  {
   "cell_type": "code",
   "execution_count": 116,
   "metadata": {
    "tags": []
   },
   "outputs": [
    {
     "output_type": "stream",
     "name": "stdout",
     "text": "WARNING:tensorflow:Layer fully_connected_auto_encoder_9 is casting an input tensor from dtype float64 to the layer&#39;s dtype of float32, which is new behavior in TensorFlow 2.  The layer has dtype float32 because its dtype defaults to floatx.\n\nIf you intended to run this layer in float32, you can safely ignore this warning. If in doubt, this warning is likely only an issue if you are porting a TensorFlow 1.X model to TensorFlow 2.\n\nTo change all layers to have dtype float64 by default, call `tf.keras.backend.set_floatx(&#39;float64&#39;)`. To change just this layer, pass dtype=&#39;float64&#39; to the layer constructor. If you are the author of this layer, you can disable autocasting by passing autocast=False to the base Layer constructor.\n\n0 0 7.196256637573242\n1 0 6.796089172363281\n2 0 6.443813323974609\n3 0 6.08891487121582\n4 0 5.73411750793457\n5 0 5.385976791381836\n6 0 5.04655122756958\n7 0 4.712028503417969\n8 0 4.379741191864014\n9 0 4.050856590270996\n10 0 3.726564407348633\n11 0 3.4064526557922363\n12 0 3.0908093452453613\n13 0 2.7835521697998047\n14 0 2.490626811981201\n15 0 2.215254306793213\n16 0 1.9567550420761108\n17 0 1.7154064178466797\n18 0 1.4947631359100342\n19 0 1.2974244356155396\n20 0 1.1227140426635742\n21 0 0.9693574905395508\n22 0 0.8367172479629517\n23 0 0.7233214378356934\n24 0 0.6270217299461365\n25 0 0.5460521578788757\n26 0 0.47813719511032104\n27 0 0.4208534359931946\n28 0 0.37276774644851685\n29 0 0.3327912390232086\n30 0 0.2993965148925781\n31 0 0.27138063311576843\n32 0 0.248013436794281\n33 0 0.2286984622478485\n34 0 0.21284815669059753\n35 0 0.1997445672750473\n36 0 0.1888219714164734\n37 0 0.17978894710540771\n38 0 0.17228804528713226\n39 0 0.16599217057228088\n40 0 0.16071709990501404\n41 0 0.156304270029068\n42 0 0.15263967216014862\n43 0 0.14963020384311676\n44 0 0.14717042446136475\n45 0 0.14515940845012665\n46 0 0.14350324869155884\n47 0 0.14212116599082947\n48 0 0.140941321849823\n49 0 0.13991492986679077\n50 0 0.1390123963356018\n51 0 0.1382051706314087\n52 0 0.1374761164188385\n53 0 0.13680791854858398\n54 0 0.13617613911628723\n55 0 0.1355627179145813\n56 0 0.1349557340145111\n57 0 0.1343502700328827\n58 0 0.1337413489818573\n59 0 0.13312187790870667\n60 0 0.13248810172080994\n61 0 0.13183781504631042\n62 0 0.13117019832134247\n63 0 0.13048505783081055\n64 0 0.12978394329547882\n65 0 0.1290687918663025\n66 0 0.1283402144908905\n67 0 0.12759876251220703\n68 0 0.12684473395347595\n69 0 0.12607887387275696\n70 0 0.12530183792114258\n71 0 0.12451362609863281\n72 0 0.12371383607387543\n73 0 0.12290230393409729\n74 0 0.12207910418510437\n75 0 0.12124400585889816\n76 0 0.12039633840322495\n77 0 0.11953606456518173\n78 0 0.11866356432437897\n79 0 0.11777939647436142\n80 0 0.11688390374183655\n81 0 0.11597731709480286\n82 0 0.11506008356809616\n83 0 0.11413276195526123\n84 0 0.11319604516029358\n85 0 0.11225048452615738\n86 0 0.1112966388463974\n87 0 0.1103350967168808\n88 0 0.10936639457941055\n89 0 0.10839112848043442\n90 0 0.1074097752571106\n91 0 0.10642295330762863\n92 0 0.10543125867843628\n93 0 0.10443539917469025\n94 0 0.10343603044748306\n95 0 0.10243380814790726\n96 0 0.10142946988344193\n97 0 0.10042377561330795\n98 0 0.0994175374507904\n99 0 0.09841150045394897\n100 0 0.09740639477968216\n101 0 0.09640295803546906\n102 0 0.09540195018053055\n103 0 0.09440407902002335\n104 0 0.09341005235910416\n105 0 0.09242050349712372\n106 0 0.09143610298633575\n107 0 0.09045738726854324\n108 0 0.08948496729135513\n109 0 0.08851933479309082\n110 0 0.08756106346845627\n111 0 0.08661051094532013\n112 0 0.08566826581954956\n113 0 0.0847344696521759\n114 0 0.08380992710590363\n115 0 0.08289435505867004\n116 0 0.0819891169667244\n117 0 0.08109302073717117\n118 0 0.08020925521850586\n119 0 0.07933477312326431\n120 0 0.0784795731306076\n121 0 0.07763996720314026\n122 0 0.07685749977827072\n123 0 0.0761551707983017\n124 0 0.0757092833518982\n125 0 0.07559292763471603\n126 0 0.07592351734638214\n127 0 0.0759410485625267\n128 0 0.07519408315420151\n129 0 0.07328945398330688\n130 0 0.07136712223291397\n131 0 0.07013066112995148\n132 0 0.06967119127511978\n133 0 0.06925937533378601\n134 0 0.06827830523252487\n135 0 0.06719616055488586\n136 0 0.06639910489320755\n137 0 0.06586593389511108\n138 0 0.06527496874332428\n139 0 0.064449243247509\n140 0 0.06370366364717484\n141 0 0.06308510899543762\n142 0 0.06249634549021721\n143 0 0.06189705431461334\n144 0 0.06124307960271835\n145 0 0.060625720769166946\n146 0 0.060033708810806274\n147 0 0.059463098645210266\n148 0 0.05891537293791771\n149 0 0.0583578497171402\n150 0 0.057801783084869385\n151 0 0.05724643915891647\n152 0 0.0567135214805603\n153 0 0.05619800463318825\n154 0 0.05569329857826233\n155 0 0.055190473794937134\n156 0 0.05468812584877014\n157 0 0.05419589579105377\n158 0 0.05370847135782242\n159 0 0.0532350093126297\n160 0 0.05276627838611603\n161 0 0.05230733007192612\n162 0 0.051855362951755524\n163 0 0.05140787363052368\n164 0 0.05096925050020218\n165 0 0.05053300783038139\n166 0 0.050105687230825424\n167 0 0.04968250170350075\n168 0 0.04926657676696777\n169 0 0.048856742680072784\n170 0 0.04845188930630684\n171 0 0.048054151237010956\n172 0 0.047660358250141144\n173 0 0.04727368801832199\n174 0 0.04689083248376846\n175 0 0.046514905989170074\n176 0 0.04614223912358284\n177 0 0.04577697813510895\n178 0 0.04541406407952309\n179 0 0.045059967786073685\n180 0 0.04470677673816681\n181 0 0.044365327805280685\n182 0 0.04402350261807442\n183 0 0.04369964078068733\n184 0 0.043375998735427856\n185 0 0.043086566030979156\n186 0 0.04280789941549301\n187 0 0.04261068254709244\n188 0 0.042474739253520966\n189 0 0.04255876690149307\n190 0 0.042861659079790115\n191 0 0.04364825785160065\n192 0 0.04469599574804306\n193 0 0.045777685940265656\n194 0 0.04565432667732239\n195 0 0.04399633780121803\n196 0 0.04144151136279106\n197 0 0.039910558611154556\n198 0 0.039870064705610275\n199 0 0.04038070887327194\n200 0 0.04030171409249306\n201 0 0.039341770112514496\n202 0 0.038303226232528687\n203 0 0.03781916946172714\n204 0 0.03779378533363342\n205 0 0.03775601461529732\n206 0 0.037387631833553314\n207 0 0.036901332437992096\n208 0 0.03652161359786987\n209 0 0.03632287681102753\n210 0 0.03619222342967987\n211 0 0.03596251457929611\n212 0 0.03567700833082199\n213 0 0.035358913242816925\n214 0 0.03510856255888939\n215 0 0.03489787131547928\n216 0 0.03469640016555786\n217 0 0.03447950631380081\n218 0 0.03423852473497391\n219 0 0.03400252386927605\n220 0 0.0337812602519989\n221 0 0.03357228264212608\n222 0 0.03338116779923439\n223 0 0.03317844122648239\n224 0 0.03299124538898468\n225 0 0.03279159590601921\n226 0 0.032618820667266846\n227 0 0.03244590014219284\n228 0 0.03231026232242584\n229 0 0.032186586409807205\n230 0 0.0321192741394043\n231 0 0.03208448365330696\n232 0 0.03214903548359871\n233 0 0.03227221220731735\n234 0 0.03253300115466118\n235 0 0.03280903771519661\n236 0 0.03312234580516815\n237 0 0.03319182246923447\n238 0 0.03300302475690842\n239 0 0.03234405070543289\n240 0 0.031488046050071716\n241 0 0.03056086041033268\n242 0 0.029911618679761887\n243 0 0.029543889686465263\n244 0 0.02943321317434311\n245 0 0.029430024325847626\n246 0 0.029395144432783127\n247 0 0.02930915355682373\n248 0 0.02910265140235424\n249 0 0.02887684479355812\n250 0 0.028607230633497238\n251 0 0.028388353064656258\n252 0 0.02819211594760418\n253 0 0.028044089674949646\n254 0 0.027920853346586227\n255 0 0.027802659198641777\n256 0 0.027694445103406906\n257 0 0.02756531536579132\n258 0 0.02744455263018608\n259 0 0.027302980422973633\n260 0 0.027174729853868484\n261 0 0.027034278959035873\n262 0 0.026908105239272118\n263 0 0.026776254177093506\n264 0 0.026655465364456177\n265 0 0.026532573625445366\n266 0 0.026416834443807602\n267 0 0.026300927624106407\n268 0 0.02618936076760292\n269 0 0.026078637689352036\n270 0 0.02597055584192276\n271 0 0.025863900780677795\n272 0 0.025758815929293633\n273 0 0.025655698031187057\n274 0 0.02555340714752674\n275 0 0.02545367181301117\n276 0 0.025354113429784775\n277 0 0.02525782585144043\n278 0 0.025161035358905792\n279 0 0.02506844699382782\n280 0 0.02497454546391964\n281 0 0.02488630823791027\n282 0 0.024795856326818466\n283 0 0.024713581427931786\n284 0 0.024628333747386932\n285 0 0.02455616369843483\n286 0 0.024481385946273804\n287 0 0.024430325254797935\n288 0 0.02438175119459629\n289 0 0.024382377043366432\n290 0 0.024406971409916878\n291 0 0.024545960128307343\n292 0 0.024780239909887314\n293 0 0.025292832404375076\n294 0 0.02608347497880459\n295 0 0.02746146358549595\n296 0 0.029278447851538658\n297 0 0.031577520072460175\n298 0 0.03315894678235054\n299 0 0.033165834844112396\n300 0 0.030502215027809143\n301 0 0.02686038240790367\n302 0 0.0241436455398798\n303 0 0.02363075502216816\n304 0 0.024418607354164124\n305 0 0.025010088458657265\n306 0 0.024740807712078094\n307 0 0.02383185364305973\n308 0 0.02316374145448208\n309 0 0.02299649268388748\n310 0 0.023145800456404686\n311 0 0.023240715265274048\n312 0 0.02306807041168213\n313 0 0.022808698937296867\n314 0 0.022587232291698456\n315 0 0.02250799909234047\n316 0 0.022510796785354614\n317 0 0.02248130552470684\n318 0 0.02241378091275692\n319 0 0.02229277230799198\n320 0 0.02219454199075699\n321 0 0.02212875708937645\n322 0 0.022085018455982208\n323 0 0.022053031250834465\n324 0 0.021993331611156464\n325 0 0.021932214498519897\n326 0 0.02186047099530697\n327 0 0.021802961826324463\n328 0 0.021754756569862366\n329 0 0.02170819230377674\n330 0 0.021664995700120926\n331 0 0.021611206233501434\n332 0 0.021560635417699814\n333 0 0.02150648832321167\n334 0 0.021457774564623833\n335 0 0.021411318331956863\n336 0 0.02136523649096489\n337 0 0.02132086642086506\n338 0 0.021273452788591385\n339 0 0.021227627992630005\n340 0 0.02118050679564476\n341 0 0.021134918555617332\n342 0 0.021090427413582802\n343 0 0.021045617759227753\n344 0 0.0210028737783432\n345 0 0.020958106964826584\n346 0 0.020915865898132324\n347 0 0.020871229469776154\n348 0 0.020829441025853157\n349 0 0.020785532891750336\n350 0 0.020744487643241882\n351 0 0.02070138044655323\n352 0 0.020661359652876854\n353 0 0.02061886340379715\n354 0 0.020580539479851723\n355 0 0.020538777112960815\n356 0 0.020503781735897064\n357 0 0.020463891327381134\n358 0 0.020436106249690056\n359 0 0.020402202382683754\n360 0 0.020391715690493584\n361 0 0.020377133041620255\n362 0 0.020412154495716095\n363 0 0.02045876532793045\n364 0 0.02062097191810608\n365 0 0.02085629664361477\n366 0 0.021374600008130074\n367 0 0.022140834480524063\n368 0 0.02352459356188774\n369 0 0.02535267546772957\n370 0 0.027784451842308044\n371 0 0.02958029881119728\n372 0 0.029814377427101135\n373 0 0.027153417468070984\n374 0 0.023237166926264763\n375 0 0.020353160798549652\n376 0 0.019989855587482452\n377 0 0.021125417202711105\n378 0 0.02181832119822502\n379 0 0.021403664723038673\n380 0 0.020318657159805298\n381 0 0.019675543531775475\n382 0 0.01973247528076172\n383 0 0.020015601068735123\n384 0 0.020076200366020203\n385 0 0.019786477088928223\n386 0 0.019487619400024414\n387 0 0.019370194524526596\n388 0 0.019404860213398933\n389 0 0.019452879205346107\n390 0 0.019381897523999214\n391 0 0.019268251955509186\n392 0 0.019168591126799583\n393 0 0.019126679748296738\n394 0 0.01912170648574829\n395 0 0.01909033954143524\n396 0 0.019045617431402206\n397 0 0.0189824178814888\n398 0 0.01893432065844536\n399 0 0.01890183985233307\n400 0 0.018868084996938705\n401 0 0.018837464973330498\n402 0 0.018792804330587387\n403 0 0.01875307224690914\n404 0 0.01871335506439209\n405 0 0.01867716759443283\n406 0 0.018644515424966812\n407 0 0.018606562167406082\n408 0 0.018571779131889343\n409 0 0.018532566726207733\n410 0 0.018496939912438393\n411 0 0.018460843712091446\n412 0 0.01842506229877472\n413 0 0.018390439450740814\n414 0 0.018353447318077087\n415 0 0.018318433314561844\n416 0 0.01828153431415558\n417 0 0.01824619248509407\n418 0 0.018210433423519135\n419 0 0.018174704164266586\n420 0 0.018139591440558434\n421 0 0.01810339465737343\n422 0 0.018068261444568634\n423 0 0.018032044172286987\n424 0 0.017996666952967644\n425 0 0.017960863187909126\n426 0 0.017925236374139786\n427 0 0.017889831215143204\n428 0 0.01785396970808506\n429 0 0.017818713560700417\n430 0 0.017782744020223618\n431 0 0.01774745248258114\n432 0 0.017711546272039413\n433 0 0.017676150426268578\n434 0 0.017640385776758194\n435 0 0.017604881897568703\n436 0 0.017569230869412422\n437 0 0.01753365993499756\n438 0 0.01749805361032486\n439 0 0.01746249385178089\n440 0 0.01742684096097946\n441 0 0.017391372472047806\n442 0 0.01735563576221466\n443 0 0.01732034422457218\n444 0 0.017284519970417023\n445 0 0.017249535769224167\n446 0 0.017213672399520874\n447 0 0.017179260030388832\n448 0 0.017143556848168373\n449 0 0.017110347747802734\n450 0 0.01707547903060913\n451 0 0.017045140266418457\n452 0 0.017013195902109146\n453 0 0.016990341246128082\n454 0 0.016967952251434326\n455 0 0.016965944319963455\n456 0 0.016974184662103653\n457 0 0.017033498734235764\n458 0 0.017139524221420288\n459 0 0.01738467626273632\n460 0 0.017797134816646576\n461 0 0.018593184649944305\n462 0 0.019878719002008438\n463 0 0.022043274715542793\n464 0 0.025007668882608414\n465 0 0.028586475178599358\n466 0 0.03087230771780014\n467 0 0.030122067779302597\n468 0 0.025400221347808838\n469 0 0.02016790583729744\n470 0 0.017833102494478226\n471 0 0.01867671310901642\n472 0 0.019700922071933746\n473 0 0.018982434645295143\n474 0 0.017310407012701035\n475 0 0.016498634591698647\n476 0 0.01692269928753376\n477 0 0.017394348978996277\n478 0 0.017132338136434555\n479 0 0.01647421158850193\n480 0 0.016148541122674942\n481 0 0.016247635707259178\n482 0 0.016366275027394295\n483 0 0.016241682693362236\n484 0 0.016037309542298317\n485 0 0.015954218804836273\n486 0 0.01596178486943245\n487 0 0.01595202088356018\n488 0 0.01585129275918007\n489 0 0.015756556764245033\n490 0 0.015718474984169006\n491 0 0.015710191801190376\n492 0 0.015693888068199158\n493 0 0.0156308114528656\n494 0 0.015571588650345802\n495 0 0.015528425574302673\n496 0 0.015502323396503925\n497 0 0.015476301312446594\n498 0 0.015433733351528645\n499 0 0.015392548404633999\n500 0 0.015352195128798485\n501 0 0.015321149490773678\n502 0 0.01528935320675373\n503 0 0.0152538837864995\n504 0 0.015216570347547531\n505 0 0.015179106034338474\n506 0 0.015144751407206059\n507 0 0.015111447311937809\n508 0 0.015077758580446243\n509 0 0.015042848885059357\n510 0 0.015007948502898216\n511 0 0.014972575940191746\n512 0 0.014938989654183388\n513 0 0.014904161915183067\n514 0 0.014870569109916687\n515 0 0.014835518784821033\n516 0 0.014801355078816414\n517 0 0.014766846783459187\n518 0 0.014732621610164642\n519 0 0.014698706567287445\n520 0 0.014664249494671822\n521 0 0.014630384743213654\n522 0 0.014595862478017807\n523 0 0.014562003314495087\n524 0 0.014527682214975357\n525 0 0.014493847265839577\n526 0 0.014459626749157906\n527 0 0.01442578062415123\n528 0 0.014391564764082432\n529 0 0.014357815496623516\n530 0 0.014323612675070763\n531 0 0.014290002174675465\n532 0 0.014255806803703308\n533 0 0.014222302474081516\n534 0 0.014188108965754509\n535 0 0.014154711738228798\n536 0 0.014120535925030708\n537 0 0.01408727839589119\n538 0 0.01405310444533825\n539 0 0.014020062983036041\n540 0 0.013985837809741497\n541 0 0.01395314373075962\n542 0 0.013918835669755936\n543 0 0.013886729255318642\n544 0 0.01385234110057354\n545 0 0.013821298256516457\n546 0 0.01378701813519001\n547 0 0.013758056797087193\n548 0 0.013724627904593945\n549 0 0.013700198382139206\n550 0 0.013670127838850021\n551 0 0.01365655567497015\n552 0 0.013637811876833439\n553 0 0.013652415946125984\n554 0 0.013669971376657486\n555 0 0.013762359507381916\n556 0 0.013893669471144676\n557 0 0.01420822087675333\n558 0 0.014684734866023064\n559 0 0.015618378296494484\n560 0 0.017032906413078308\n561 0 0.019388161599636078\n562 0 0.022461112588644028\n563 0 0.025983117520809174\n564 0 0.028010059148073196\n565 0 0.026702405884861946\n566 0 0.021670082584023476\n567 0 0.016247019171714783\n568 0 0.013831518590450287\n569 0 0.014654604718089104\n570 0 0.015986571088433266\n571 0 0.01564648374915123\n572 0 0.014261158183217049\n573 0 0.013420293107628822\n574 0 0.013599180616438389\n575 0 0.013895079493522644\n576 0 0.013609492219984531\n577 0 0.01311245933175087\n578 0 0.012939246371388435\n579 0 0.013084991835057735\n580 0 0.013157271780073643\n581 0 0.012949801050126553\n582 0 0.012719200924038887\n583 0 0.01265198364853859\n584 0 0.012712431140244007\n585 0 0.012736891396343708\n586 0 0.012637987732887268\n587 0 0.012529387138783932\n588 0 0.012475085444748402\n589 0 0.012471563182771206\n590 0 0.01246543787419796\n591 0 0.012417185120284557\n592 0 0.012362339533865452\n593 0 0.012321123853325844\n594 0 0.012293605133891106\n595 0 0.012271441519260406\n596 0 0.012234212830662727\n597 0 0.012198115698993206\n598 0 0.012164093554019928\n599 0 0.012134326621890068\n"
    }
   ],
   "source": [
    "model = FullyConnectedAutoEncoder(latent_dim=20, input_shape=int(((1000-300)/10)*2))\n",
    "\n",
    "optimizer = tf.keras.optimizers.Adam(1e-4)\n",
    "global_step = tf.Variable(0)\n",
    "\n",
    "for epoch in range(num_epochs):\n",
    "    for step,x in enumerate(train_dataset):\n",
    "        with tf.GradientTape() as tape:\n",
    "            x_rec_logits = model(x)\n",
    "            rec_loss =tf.losses.mean_squared_error(x,x_rec_logits)\n",
    "            batch_losses.append(rec_loss)\n",
    "            rec_loss =tf.reduce_mean(rec_loss)\n",
    "        \n",
    "        grads=tape.gradient(rec_loss,model.trainable_variables)\n",
    "        optimizer.apply_gradients(zip(grads,model.trainable_variables))\n",
    "        if step%100==0:\n",
    "            print(epoch, step, float(rec_loss))"
   ]
  },
  {
   "cell_type": "code",
   "execution_count": 127,
   "metadata": {
    "tags": []
   },
   "outputs": [],
   "source": [
    "if show_tSNE:\n",
    "  tSNE_result = []\n",
    "\n",
    "  tsne = TSNE(\n",
    "    perplexity=10,\n",
    "    metric=\"euclidean\",\n",
    "    n_jobs=4,\n",
    "    random_state=42,\n",
    "    negative_gradient_method=\"fft\",\n",
    "  )\n",
    "\n",
    "\n",
    "  for test in test_dataset:\n",
    "    # print(test)\n",
    "    name = test['name']\n",
    "    result = list(model.encode(test['value']))[0]\n",
    "    tSNE_result.append(result)\n",
    "\n",
    "  embedding_train = tsne.fit(np.array(tSNE_result))\n",
    "  # print(embedding_train)\n",
    "  # plot(embedding_train, list(input_data.keys()))\n",
    "  # plt.savefig('/home/jizhidemifan/Project/optical_film_toolbox/figure/tSNE.png')\n",
    "\n",
    "embedding_y = [v[1] for v in embedding_train]\n",
    "embedding_color = [abs(v[0]) + abs(v[1]) for v in embedding_train]\n"
   ]
  },
  {
   "cell_type": "code",
   "execution_count": 128,
   "metadata": {},
   "outputs": [
    {
     "output_type": "display_data",
     "data": {
      "application/vnd.plotly.v1+json": {
       "config": {
        "plotlyServerURL": "https://plot.ly"
       },
       "data": [
        {
         "marker": {
          "color": [
           35.67251144802089,
           35.80170003698964,
           35.61507042923275,
           34.295663879507174,
           35.041609983463374,
           36.53061593261949,
           36.996935921367644,
           35.314097247113956,
           37.72264576894891,
           37.523493617008114,
           35.25091981582675,
           43.388777514325184,
           40.97138469308376,
           42.75088597419277,
           42.9248398301563,
           43.008812643318514,
           38.782472847608226,
           36.821127846074624,
           36.42471616121759,
           36.15130923610076,
           34.770440127962594,
           34.07949927496565,
           34.16460822834509,
           33.32685015831298,
           32.01653116878111,
           33.25856470760493,
           34.69052174319118,
           34.046986757170195,
           34.931937044709805,
           30.66306210163676,
           17.179847974938127,
           31.62203658235016,
           17.310158401365893,
           32.25988474156014,
           27.620201788148904,
           24.992973309118977,
           23.35463621268883,
           41.798282406841366,
           52.141799242230455,
           17.975558604549942,
           12.92224659319743,
           19.822797983220052,
           19.78588904892627,
           22.90361207820812,
           33.56201857006689,
           36.74217081490286,
           25.34249334680646,
           16.095142539946806,
           16.915742721310224,
           18.939120241721138,
           16.121557158471283,
           16.96920413320709,
           38.53733727991057,
           7.4799831352498725,
           39.36697608999962,
           13.035634632092124,
           6.432586378165247,
           6.402351693458858,
           6.25877926312298,
           6.499309819801354,
           6.740670572264709,
           6.868750128417303,
           6.988737567625224,
           37.5932548028653,
           37.89751903009859,
           17.902780703027382,
           17.645970850604282,
           18.63389847180484,
           41.35508268966806,
           15.9603566303563,
           30.02813530246212,
           41.908860415676685,
           18.304430080448608,
           29.31821142837274,
           31.57485647048852,
           30.00263209953789,
           31.847327671273497,
           37.57906114885441,
           31.321785603836133,
           21.51931232878019,
           29.57173306186497,
           29.632513362102838,
           32.86082082244235,
           32.78610542728561,
           37.305633736693764,
           35.343369489758174,
           33.20799314429706,
           33.290785956151296,
           33.88103458400801,
           30.61605845330505,
           41.08556222397773,
           39.76871239018974,
           39.71772447013065,
           49.588731049781934,
           48.43235801887267,
           48.26800270140458,
           49.514955187553916,
           21.86868994324234,
           43.57620469776283,
           35.10731052117275,
           26.935028538934006,
           37.75875306204477,
           30.396053096221195,
           36.25760455959394,
           37.52053341860705,
           36.262933266835404,
           37.48206050600639,
           46.64086337585161,
           46.062200097377676,
           43.87105760768788,
           51.37507199277471,
           51.276138216131784,
           41.64124317884708,
           39.99070020556768,
           20.640406197932805,
           45.30693345394191,
           22.726307481543273,
           21.836297956749277,
           39.289830204746345,
           32.90182649138267,
           37.89242624256736,
           34.812216485696034,
           27.72384461676909,
           7.9790758419618,
           16.519687925925663,
           38.314090679683275,
           30.292004305425863,
           14.281303261649313,
           24.996420714302474,
           24.72703432140467,
           28.881785514137736,
           25.045810083183945,
           25.547660725802594,
           36.93449241044753,
           22.9992909735693,
           39.19581147440948,
           39.21091889608692,
           23.474992500619557,
           23.42562887665045,
           45.42842534465522,
           19.6571531903899,
           20.896812197664083,
           19.632197832308893,
           33.91626284758985,
           34.439262460394616,
           30.379298169467887,
           17.982952922090142,
           15.985221853376364,
           31.990481673598158,
           44.08653893801821,
           26.751630712731732,
           26.73562438428982,
           32.935807514341846,
           16.34948099690011,
           15.309230784696506,
           9.576248884259298,
           9.151836511661454,
           16.527681702490828,
           40.54394637116951,
           27.748459787789766,
           38.15908531649157,
           38.062531739079134,
           37.20585888218214,
           26.162308711240335,
           31.213555736693138,
           31.33889841880414,
           31.660096280040584,
           30.620550517708445,
           30.578944824572474,
           31.182033751036673,
           29.08868414070565,
           29.086521036539665,
           34.12534662788714,
           38.91665188151989,
           39.58628773916292,
           38.22193448263212,
           30.023955690898415,
           31.695670710890603,
           38.08387939004248,
           32.81251923914801,
           31.774129067554448,
           32.805962340741694,
           31.739451744502404,
           38.725128658208604,
           40.05034963124337,
           39.603507503626474,
           33.4348790711061,
           38.86754308831391,
           28.730520479103564,
           28.297198898930233,
           16.6968570276927,
           22.818212291934344,
           38.622173360355816,
           36.665650419231994,
           41.179839185110445,
           38.97101334260218,
           40.02590378047351,
           40.150344880887076,
           39.80544706712133,
           30.38459575603433,
           33.63835798533754,
           35.24560136155088,
           35.385380681967874,
           33.25899137440981,
           33.188030712657905,
           36.11667133594284,
           38.47358430437308,
           31.807793725106073,
           31.82573243110655,
           38.856037796233394,
           39.3181066648168,
           35.528675323909496,
           35.59391766130311,
           33.97839434490536,
           38.23284876600057,
           38.32774662974766,
           36.21935832408283,
           36.28301119387925,
           32.24196505521593,
           31.671429326056572,
           32.66126754849933,
           32.922723078170414,
           33.4962900884472,
           39.41230275383115,
           38.04019541079104,
           38.05842909811491,
           34.66555157111576,
           35.517701466691484,
           40.181641181663984,
           40.18717875253638,
           40.18623387042193,
           34.98085274715578,
           37.100477107660524,
           29.85197435587648,
           34.78837033052362,
           38.68602593798695,
           34.10792352586165,
           23.368030984449565,
           15.919093256641077,
           34.70154306949354,
           21.88288197927447,
           21.897125191897867,
           29.074911210851447,
           19.00112222666038,
           35.93766733601773,
           17.318092769038355,
           43.690062340515695,
           17.79543548562928,
           17.778631235447705,
           18.358785247579412,
           39.324854061434955,
           37.80604952936437,
           13.213089660333823,
           23.483683841139715,
           27.40495204547497,
           27.6253775434115,
           31.323039402330764,
           31.370849801454547,
           34.66232513811823,
           34.633462749502954,
           36.5478687397532,
           36.4317835583456,
           25.554035732985746,
           48.88767434795727,
           48.843643653942316,
           41.59491888326858,
           40.331622827374346,
           41.909258672177984,
           38.450341642544856,
           40.917718879469746,
           38.044286851229124,
           49.33577113065731,
           39.10116797040735,
           38.81031771079577,
           38.81031771079577,
           38.98218807333038,
           48.902107875923036,
           48.902107875923036,
           48.686754550409105,
           41.451090987729906,
           41.38648892328155,
           42.126427215171965,
           41.909258672177984,
           42.28862281356449,
           41.08172559660449,
           19.414977878803395,
           10.843466190495953,
           40.865516501144874,
           27.407936876283784,
           26.189609440945258,
           26.7958913472973,
           40.67455055359216,
           40.331622827374346,
           24.92900949296599,
           20.566833691926046,
           41.27768080258996,
           40.716474431434065,
           41.09939121138575,
           51.337172809471355,
           41.189522893999204,
           42.16986812646517,
           22.897693910705968,
           16.630794775696163,
           22.22479088150734,
           13.774981937466936,
           19.493279448238976,
           11.50786202533809,
           14.356363539087813,
           18.5555065244406,
           16.251914783945683,
           14.053308193938344,
           13.513586748289441,
           10.742853420765131,
           16.93331936748277,
           11.329921022109813,
           11.927809152702604,
           11.398701458229612,
           29.936685952888638,
           14.942770154263101,
           27.737950986372148,
           27.737950362948954,
           34.09286147704144,
           34.22130229329855,
           34.60787215750142,
           34.88995356733268,
           35.07329411282909,
           35.2287123137303,
           35.39345374190327,
           35.62602101807363,
           35.91417950497302,
           36.14052960336384,
           36.63267633179694,
           35.47925959761059,
           36.03164927521527,
           35.69315113375226,
           30.154309410404814,
           30.271888173588696,
           30.778786998823186,
           31.611350392463123,
           26.298154549541977,
           13.694884858374984,
           37.4921036887409,
           38.297469075973225,
           32.24196505521593,
           31.944004666296802,
           32.59404687905035,
           34.197314101553665,
           19.53927589193597,
           18.696725506690754,
           17.970826928380063,
           19.661190211529526,
           35.34598139391582,
           36.55742542166165,
           9.529304818965667,
           8.648858879756887,
           9.467280071201179,
           9.192557194513117,
           41.65745971054852,
           41.853744741152504,
           28.206826817890473,
           33.271774251574904,
           33.93458506521141,
           37.18620225016265,
           37.74247353485015,
           41.56084036650534,
           41.37025873883598,
           41.179385379455226,
           25.553792348691747,
           9.228473891527837,
           9.231597889168501,
           42.9248398301563,
           35.69308955123569,
           33.29078618199803,
           34.046986757170195,
           20.640634537583843,
           38.31350950983353,
           31.807760602036705,
           37.72265977473271,
           23.369018307702106,
           38.53733727991057,
           29.088684140613008,
           38.450341642544856,
           29.31821142837274,
           16.361568839995766,
           31.20749370471439,
           38.313535947109315,
           9.228663827988568
          ],
          "colorscale": [
           [
            0,
            "#440154"
           ],
           [
            0.1111111111111111,
            "#482878"
           ],
           [
            0.2222222222222222,
            "#3e4989"
           ],
           [
            0.3333333333333333,
            "#31688e"
           ],
           [
            0.4444444444444444,
            "#26828e"
           ],
           [
            0.5555555555555556,
            "#1f9e89"
           ],
           [
            0.6666666666666666,
            "#35b779"
           ],
           [
            0.7777777777777778,
            "#6ece58"
           ],
           [
            0.8888888888888888,
            "#b5de2b"
           ],
           [
            1,
            "#fde725"
           ]
          ],
          "size": 8
         },
         "mode": "markers",
         "text": [
          "Ag_Johnson",
          "Ag_Yang",
          "Ag_Babar",
          "Ag_Werner",
          "Ag_Hagemann",
          "Ag_Ciesielski",
          "Ag_Ciesielski-Ge",
          "Ag_Ciesielski-Ni",
          "Ag_Rakic-BB",
          "Ag_Rakic-LD",
          "Ag_Werner-DFT",
          "Al_Rakic",
          "Al_McPeak",
          "Al_Hagemann",
          "Al_Rakic-BB",
          "Al_Rakic-LD",
          "AlAs_Rakic",
          "GaAs_Adachi",
          "GaAs_Rakic",
          "GaAs_Ozaki",
          "InAs_Adachi",
          "Au_Johnson",
          "Au_Babar",
          "Au_Werner",
          "Au_Hagemann",
          "Au_Ciesielski",
          "Au_Ciesielski-Ge",
          "Au_Rakic-BB",
          "Au_Rakic-LD",
          "Au_Werner-DFT",
          "BaB2O4_Eimerl-o",
          "BaB2O4_Eimerl-e",
          "BaB2O4_Tamosauskas-o",
          "BaB2O4_Tamosauskas-e",
          "LiB3O5_Chen-α",
          "LiB3O5_Chen-β",
          "LiB3O5_Chen-γ",
          "CsLiB6O10_Sasaki-o",
          "CsLiB6O10_Sasaki-e",
          "LuAl3(BO3)4_Fang-o",
          "LuAl3(BO3)4_Fang-e",
          "Be_Rakic-BB",
          "Be_Rakic-LD",
          "Bi_Hagemann",
          "Bi_Werner",
          "Bi_Werner-DFT",
          "CsBr_Li",
          "CsBr_Querry",
          "KBr_Li",
          "LiBr_Li",
          "NaBr_Li",
          "RbBr_Li",
          "C_Phillip",
          "C_Hagemann",
          "C_Larruquert",
          "C_Djurisic-o",
          "C_Querry-DixonKS2",
          "C_Querry-DixonHPN2",
          "C_Querry-Dixon200-10",
          "C_Querry-AsburyMicro260",
          "C_Querry-Dixon1102",
          "C_Querry-Asbury3222",
          "C_Querry-Pyrolytic",
          "B4C_Larruquert",
          "SiC_Larruquert",
          "TiC_Pfluger",
          "VC_Pfluger",
          "CaCO3_Ghosh-o",
          "CaCO3_Ghosh-e",
          "CsCl_Li",
          "KCl_Li",
          "KCl_Querry",
          "LiCl_Li",
          "NaCl_Li",
          "NaCl_Querry",
          "RbCl_Li",
          "Co_Johnson",
          "Co_Werner",
          "Co_Werner-DFT",
          "Cr_Johnson",
          "Cr_Rakic-BB",
          "Cr_Rakic-LD",
          "Cu_Johnson",
          "Cu_Babar",
          "Cu_Werner",
          "Cu_Querry",
          "Cu_Hagemann",
          "Cu_Rakic-BB",
          "Cu_Rakic-LD",
          "Cu_Werner-DFT",
          "BaF2_Querry",
          "BaF2_Li",
          "BaF2_Malitson",
          "CaF2_Malitson",
          "CaF2_Daimon-20",
          "CaF2_Daimon-25",
          "CaF2_Li",
          "CeF3_Rodriguez-de_Marcos",
          "CsF_Li",
          "KF_Li",
          "LaF3_Rodriguez-de_Marcos",
          "LiF_Li",
          "NaF_Li",
          "MgF2_Dodge-o",
          "MgF2_Dodge-e",
          "MgF2_Li-o",
          "MgF2_Li-e",
          "MgF2_Rodriguez-de_Marcos",
          "RbF_Li",
          "SrF2_Rodriguez-de_Marcos",
          "SrF2_Li",
          "SrF2_Feldman",
          "YLiF4_Barnes-o",
          "YLiF4_Barnes-e",
          "Fe_Johnson",
          "Fe_Werner",
          "Fe_Querry",
          "Fe_Werner-DFT",
          "BiFeO3_Kumar",
          "Ge_Nunley",
          "Ge_Ciesielski-2nm",
          "Ge_Ciesielski-20nm",
          "H2_Peck",
          "MgH2_Palm",
          "TiH2_Palm",
          "Hg_Inagaki",
          "CsI_Li",
          "CsI_Querry",
          "CsI_Rodney",
          "KI_Li",
          "LiI_Li",
          "NaI_Li",
          "RbI_Li",
          "Li_Rasigni",
          "Lu_Garcia-Cortes",
          "Mg_Hagemann",
          "Mg_Palm",
          "Mn_Johnson",
          "Mn_Querry",
          "Mo_Werner",
          "Mo_Querry",
          "Mo_Kirillova",
          "Mo_Werner-DFT",
          "AlN_Pastrnak-o",
          "AlN_Pastrnak-e",
          "Si3N4_Philipp",
          "TiN_Pfluger",
          "VN_Pfluger",
          "Ni_Johnson",
          "Ni_Werner",
          "Ni_Rakic-BB",
          "Ni_Rakic-LD",
          "Ni_Werner-DFT",
          "Al2O3_Malitson-o",
          "Al2O3_Malitson-e",
          "Al2O3_Querry-o",
          "Al2O3_Querry-e",
          "Al2O3_Malitson",
          "Al2O3_Querry",
          "CO2_Bideau-Mehu",
          "Fe2O3_Querry-o",
          "Fe2O3_Querry-e",
          "Fe3O4_Querry",
          "GeO2_Nunley",
          "H2O_Hale",
          "H2O_Daimon-19.0C",
          "H2O_Daimon-20.0C",
          "H2O_Daimon-21.5C",
          "H2O_Daimon-24.0C",
          "H2O_Segelstein",
          "H2O_Warren-2008",
          "H2O_Warren-1984",
          "MoO3_Lajaunie-α",
          "MoO3_Lajaunie-β",
          "MoO3_Lajaunie-γ",
          "Nb2O5_Lemarchand",
          "Sc2O3_Belosludtsev",
          "SiO_Hass",
          "SiO2_Malitson",
          "SiO2_Ghosh-o",
          "SiO2_Ghosh-e",
          "SiO2_Radhakrishnan-o",
          "SiO2_Radhakrishnan-e",
          "SiO2_Rodriguez-de_Marcos",
          "SiO2_Gao",
          "SiO2_Lemarchand",
          "Ta2O5_Rodriguez-de_Marcos",
          "TiO2_Siefke",
          "Y2O3_Nigara",
          "ZnO_Querry",
          "Os_Nemoshkalenko-o",
          "Os_Nemoshkalenko-e",
          "GaP_Adachi",
          "InP_Adachi",
          "KH2PO4_Zernike-o",
          "KH2PO4_Zernike-e",
          "NH4H2PO4_Zernike-o",
          "NH4H2PO4_Zernike-e",
          "Pb_Werner",
          "Pb_Werner-DFT",
          "Pd_Johnson",
          "Pd_Palm",
          "Pd_Werner",
          "Pd_Rakic-BB",
          "Pd_Rakic-LD",
          "Pd_Werner-DFT",
          "Pt_Werner",
          "Pt_Rakic-BB",
          "Pt_Rakic-LD",
          "Pt_Werner-DFT",
          "Rh_Weaver",
          "CdS_Ninomiya-o",
          "CdS_Ninomiya-e",
          "MoS2_Beal",
          "ZnS_Querry",
          "ZnS_Ozaki",
          "AlSb_Adachi",
          "AlSb_Djurisic",
          "GaSb_Ferrini",
          "GaSb_Adachi",
          "GaSb_Djurisic",
          "InSb_Adachi",
          "InSb_Djurisic",
          "Se_Ciesielski",
          "CdSe_Ninomiya-o",
          "CdSe_Ninomiya-e",
          "MoSe2_Beal",
          "PbSe_Suzuki",
          "Si_Schinke",
          "Si_Green-2008",
          "Si_Green-1995",
          "Si_Pierce",
          "Ta_Werner",
          "Ta_Werner-DFT",
          "Te_Ciesielski",
          "CdTe_Adachi",
          "MoTe2_Beal",
          "Ti_Johnson",
          "Ti_Palm",
          "Ti_Werner",
          "Ti_Rakic-BB",
          "Ti_Rakic-LD",
          "Ti_Werner-DFT",
          "V_Johnson",
          "V_Werner",
          "V_Werner-DFT",
          "W_Werner",
          "W_Rakic-BB",
          "W_Rakic-LD",
          "W_Werner-DFT",
          "Zn_Werner",
          "Zn_Werner-DFT",
          "Zr_Palm",
          "Zr_Querry",
          "methane_Martonchik-liquid-111K",
          "methane_Martonchik-liquid-90K",
          "methane_Martonchik-solid-90K",
          "methane_Martonchik-solid-30K",
          "ethanol_Sani",
          "ethanol_Sani-formula",
          "propanol_Sani",
          "propanol_Sani-formula",
          "ethylene_glycol_Otanicar",
          "ethylene_glycol_Sani",
          "ethylene_glycol_Sani-formula",
          "poly(N-isopropylacrylamide)_Brasse",
          "BK7_OHARA",
          "FK51A_SCHOTT",
          "fused_silica_Malitson",
          "soda-lime_Vogt-10ppm",
          "SCHOTT-multipurpose_LITHOSIL-Q",
          "SCHOTT-multipurpose_LITHOTEC-CAF2",
          "HIKARI-multipurpose_NIFS-A",
          "HIKARI-multipurpose_NIFS-S",
          "HIKARI-multipurpose_NIFS-U",
          "HIKARI-multipurpose_NIFS-V",
          "HIKARI-multipurpose_NICF-A",
          "HIKARI-multipurpose_NICF-U",
          "HIKARI-multipurpose_NICF-V",
          "SCHOTT-BK_N-BK10",
          "SCHOTT-FK_FK5HTi",
          "SCHOTT-FK_N-FK5",
          "SCHOTT-FK_N-FK51",
          "SCHOTT-FK_N-FK51A",
          "SCHOTT-FK_N-FK58",
          "SCHOTT-LaK_N-LAK7",
          "SCHOTT-LaK_N-LAK34",
          "SCHOTT-PK_N-PK52A",
          "SCHOTT-LaSF_N-LASF31A",
          "OHARA-BAL_BAL35Y",
          "OHARA-BAL_S-BAL42",
          "OHARA-BSL_BSL7Y",
          "OHARA-BSL_S-BSL7",
          "OHARA-BSM_BSM51Y",
          "OHARA-BSM_S-BSM81",
          "OHARA-FPL_S-FPL51",
          "OHARA-FPL_S-FPL51Y",
          "OHARA-FPL_S-FPL52",
          "OHARA-FPL_S-FPL53",
          "OHARA-FSL_S-FSL5",
          "OHARA-FSL_S-FSL5Y",
          "OHARA-LAH_L-LAH90",
          "OHARA-LAH_L-LAH91",
          "OHARA-LAH_S-LAH59",
          "OHARA-LAL_L-LAL13",
          "OHARA-LAL_S-LAL7",
          "OHARA-LAL_S-LAL8",
          "OHARA-LAL_S-LAL9",
          "OHARA-LAL_S-LAL11",
          "OHARA-LAL_S-LAL12",
          "OHARA-LAL_S-LAL13",
          "OHARA-LAL_S-LAL14",
          "OHARA-LAL_S-LAL18",
          "OHARA-LAL_S-LAL52",
          "OHARA-LAL_S-LAL59",
          "OHARA-LAL_S-LAL61",
          "OHARA-LAM_L-LAM72",
          "OHARA-NPH_S-NPH4",
          "OHARA-YGH_S-YGH51",
          "air_Ciddor",
          "air_Peck",
          "Au-Ag_Rioux-Au100Ag0",
          "Au-Ag_Rioux-Au90Ag10",
          "Au-Ag_Rioux-Au80Ag20",
          "Au-Ag_Rioux-Au70Ag30",
          "Au-Ag_Rioux-Au60Ag40",
          "Au-Ag_Rioux-Au50Ag50",
          "Au-Ag_Rioux-Au40Ag60",
          "Au-Ag_Rioux-Au30Ag70",
          "Au-Ag_Rioux-Au20Ag80",
          "Au-Ag_Rioux-Au10Ag90",
          "Au-Ag_Rioux-Au0Ag100",
          "Cu-Zn_Querry-Cu90Zn10",
          "Cu-Zn_Querry-Cu85Zn15",
          "Cu-Zn_Querry-Cu70Zn30",
          "Ni-Fe_Tikuisis_gold150nm",
          "Ni-Fe_Tikuisis_gold10nm",
          "Ni-Fe_Tikuisis_bare150nm",
          "Ni-Fe_Tikuisis_bare10nm",
          "Pd-H_Palm",
          "Zr-H_Palm",
          "AlAs-GaAs_Adachi-0.315",
          "AlAs-GaAs_Adachi-0.700",
          "AlSb-GaSb_Ferrini-0",
          "AlSb-GaSb_Ferrini-10",
          "AlSb-GaSb_Ferrini-30",
          "AlSb-GaSb_Ferrini-50",
          "AlN-Al2O3_Hartnett-6.69",
          "AlN-Al2O3_Hartnett-5.88",
          "AlN-Al2O3_Hartnett-6.53",
          "AlN-Al2O3_Hartnett-7.17",
          "GaAs-InAs_Adachi",
          "GaAs-InAs-GaP-InP_Adachi",
          "C6H4S4-C12H4N4_Querry",
          "P3HT-PC61BM_Stelling",
          "Cu-C12H4N4_Querry",
          "Li-C12H4N4_Querry",
          "EVASKY_S87_Vogt",
          "EVASKY_S88_Vogt",
          "SiN_Vogt-1.91",
          "SiN_Vogt-2.09",
          "SiN_Vogt-2.13",
          "fused_silica_matching_liquid_Cargille-06350",
          "fused_silica_matching_liquid_Cargille-50350",
          "pmma_resists_Microchem495",
          "pmma_resists_Microchem950",
          "copolymer_resists_Microchem85mEL",
          "TherminolVP-1_Otanicar",
          "diesel_soot_Querry-NMSU",
          "diesel_soot_Querry-NMSU-heated",
          "metals_aluminium",
          "metals_brass",
          "metals_copper",
          "metals_gold",
          "metals_iron",
          "metals_mercury",
          "metals_platinum",
          "metals_silver",
          "metals_titanium",
          "crystals_diamond",
          "crystals_ice",
          "crystals_quartz",
          "crystals_salt",
          "crystals_sapphire",
          "liquids_water",
          "liquids_mercury",
          "misc_diesel_soot"
         ],
         "type": "scatter",
         "x": [
          0.9326424870466317,
          0.9248704663212436,
          0.9352331606217616,
          0.937823834196891,
          0.9300518134715027,
          0.9119170984455959,
          0.9093264248704663,
          0.9274611398963729,
          0.917098445595855,
          0.9145077720207254,
          0.8989637305699479,
          0.9896373056994786,
          0.9689119170984456,
          0.9792746113989638,
          0.9857512953367876,
          0.9818652849740933,
          0.3963730569948187,
          0.42487046632124353,
          0.4274611398963731,
          0.4300518134715026,
          0.43523316062176165,
          0.8497409326424871,
          0.8393782383419689,
          0.9404145077720207,
          0.7953367875647669,
          0.8082901554404145,
          0.883419689119171,
          0.8303108808290156,
          0.8212435233160622,
          0.7901554404145078,
          0.33419689119170964,
          0.21761658031088082,
          0.3290155440414508,
          0.20207253886010362,
          0.24870466321243523,
          0.2694300518134715,
          0.2849740932642487,
          0.09067357512953368,
          0.7616580310880829,
          0.3134715025906736,
          0.3756476683937824,
          0.6347150259067358,
          0.6321243523316062,
          0.6968911917098446,
          0.9430051813471502,
          0.810880829015544,
          0.15803108808290156,
          0.33937823834196884,
          0.19430051813471502,
          0.30310880829015546,
          0.2072538860103627,
          0.1917098445595855,
          0.13601036269430053,
          0.6088082901554404,
          0.13989637305699482,
          0.6476683937823833,
          0.5906735751295337,
          0.6010362694300518,
          0.6113989637305695,
          0.5958549222797928,
          0.5984455958549223,
          0.6139896373056996,
          0.5932642487046632,
          0.37046632124352324,
          0.37823834196891193,
          0.6398963730569939,
          0.6373056994818653,
          0.3160621761658031,
          0.06994818652849741,
          0.20984455958549222,
          0.274611398963723,
          0.08290155440414507,
          0.3523316062176166,
          0.2655440414507772,
          0.2305699481865285,
          0.27979274611398963,
          0.7823834196891193,
          0.966321243523316,
          0.7409326424870467,
          0.6683937823834197,
          0.7331606217616581,
          0.7357512953367876,
          0.8601036269430052,
          0.8730569948186528,
          0.9507772020725389,
          0.8264248704663213,
          0.8626943005181348,
          0.8652849740932643,
          0.8704663212435233,
          0.805699481865285,
          0.05699481865284974,
          0.046632124352331605,
          0.04145077720207254,
          0.7253886010362695,
          0.6994818652849741,
          0.7098445595854923,
          0.7383419689119135,
          0.2927461139896373,
          0.09326424870466321,
          0.5518134715025889,
          0.25129533678756477,
          0.5854922279792746,
          0.46373056994818657,
          0.5673575129533679,
          0.5777202072538805,
          0.5699481865284974,
          0.5803108808290155,
          0.6813471502590673,
          0.6735751295336787,
          0.054404145077720206,
          0.7487046632124352,
          0.7435233160621761,
          0,
          0.044041450777202076,
          0.6606217616580311,
          0.9974093264248705,
          0.7020725388601037,
          0.645077720207254,
          0.3082901554404145,
          0.5129533678756475,
          0.33160621761658016,
          0.5621761658031088,
          0.533678756476684,
          0.6295336787564767,
          0.6709844559585493,
          0.8471502590673575,
          0.13212435233160622,
          0.35751295336787564,
          0.2227979274611399,
          0.1528497409326425,
          0.22020725388601037,
          0.21243523316062177,
          0.15025906735751296,
          0.8134715025906736,
          0.7227979274611391,
          0.9715025906735751,
          0.9611398963730563,
          0.689119170984456,
          0.7202072538860104,
          1,
          0.6036269430051814,
          0.6424870466321243,
          0.6191709844559585,
          0.1450777202072539,
          0.14766839378238342,
          0.1839378238341969,
          0.6761658031088084,
          0.6632124352331595,
          0.7927461139896373,
          0.9948186528497409,
          0.7590673575129534,
          0.7564766839378239,
          0.7875647668393785,
          0.354922279792741,
          0.36528497409326427,
          0.40414507772020725,
          0.40155440414507776,
          0.33678756476683935,
          0.9637305699481865,
          0.5362694300518135,
          0.3005181347150259,
          0.25647668393782386,
          0.15544041450777202,
          0.27202072538860106,
          0.4533678756476684,
          0.461139896373057,
          0.4585492227979275,
          0.48186528497409326,
          0.4844559585492228,
          0.47927461139896377,
          0.46632124352331605,
          0.4715025906735747,
          0.18134715025906736,
          0.22797927461139897,
          0.29533678756476683,
          0.1761658031088083,
          0.18652849740932642,
          0.1295336787564767,
          0.02849740932642487,
          0.16321243523316062,
          0.19689119170984457,
          0.16580310880829016,
          0.1994818652849741,
          0.03367875647668394,
          0.04922279792746114,
          0.038860103626943004,
          0.1683937823834197,
          0.18911917098445596,
          0.20466321243523317,
          0.23316062176165797,
          0.5751295336787565,
          0.6528497409326425,
          0.3989637305699482,
          0.40932642487046633,
          0.11398963730569948,
          0.036269430051813475,
          0.12694300518134716,
          0.05181347150259068,
          0.9740932642487047,
          0.7849740932642487,
          0.8186528497409327,
          0.8341968911917081,
          0.9481865284974094,
          0.8031088082901555,
          0.800518134715026,
          0.8367875647668394,
          0.9766839378238342,
          0.7746113989637305,
          0.7772020725388601,
          0.8549222797927462,
          0.8575129533678757,
          0.23575129533678757,
          0.2383419689119158,
          0.5233160621761658,
          0.17357512953367876,
          0.17875647668393782,
          0.44041450777202074,
          0.4378238341968912,
          0.5155440414507773,
          0.5077720207253886,
          0.5207253886010362,
          0.5259067357512953,
          0.5492227979274612,
          0.6062176165803109,
          0.24352331606217617,
          0.24093264248704663,
          0.5544041450777202,
          0.572538860103627,
          0.422279792746114,
          0.41968911917098445,
          0.41709844559585496,
          0.44818652849740936,
          0.9585492227979275,
          0.7797927461139896,
          0.5829015544041452,
          0.32642487046632124,
          0.5647668393782384,
          0.6839378238341969,
          0.6658031088082902,
          0.9455958549222798,
          0.7150259067357513,
          0.7072538860103628,
          0.7124352331606211,
          0.6269430051813472,
          0.9533678756476685,
          0.5880829015544041,
          0.9922279792746115,
          0.6243523316062176,
          0.6217616580310881,
          0.616580310880829,
          0.955958549222798,
          0.7979274611398964,
          0.6502590673575129,
          0.6787564766839369,
          0.4948186528497405,
          0.4922279792746114,
          0.5,
          0.5025906735751295,
          0.5466321243523309,
          0.5440414507772021,
          0.5595854922279793,
          0.5569948186528497,
          0.538860103626943,
          0.694300518134715,
          0.6917098445595855,
          0.11139896373056996,
          0.12305699481865284,
          0.06606217616580312,
          0.014248704663212436,
          0.11658031088082901,
          0.02590673575129534,
          0.7176165803108808,
          0.007772020725388601,
          0.019430051813471502,
          0.019430051813471502,
          0.010362694300518135,
          0.7292746113989638,
          0.7292746113989638,
          0.7046632124352332,
          0.10103626943005181,
          0.07772020725388601,
          0.07512953367875648,
          0.06606217616580312,
          0.05958549222797928,
          0.0051813471502590676,
          0.31088082901554404,
          0.38860103626943016,
          0.10362694300518135,
          0.22538860103626943,
          0.2616580310880829,
          0.2590673575129532,
          0.11917098445595856,
          0.12305699481865284,
          0.2772020725388601,
          0.3056994818652849,
          0.09585492227979275,
          0.09844559585492325,
          0.0025906735751295338,
          0.7461139896373057,
          0.08031088082901545,
          0.07253886010362691,
          0.2461139896373057,
          0.32124352331606204,
          0.2538860103626943,
          0.37305699481865284,
          0.31865284974093266,
          0.38082901554404147,
          0.3601036269430052,
          0.3238341968911917,
          0.34196891191709844,
          0.3471502590673575,
          0.3678756476683938,
          0.39378238341968913,
          0.344559585492228,
          0.3911917098445596,
          0.38601036269430045,
          0.383419689119171,
          0.14248704663212436,
          0.3626943005181347,
          0.5284974093264249,
          0.5310880829015544,
          0.8523316062176169,
          0.8808290155440415,
          0.8860103626943006,
          0.8886010362694301,
          0.8911917098445596,
          0.8937823834196892,
          0.8963730569948186,
          0.9015544041450777,
          0.9041450777202072,
          0.9067357512953368,
          0.922279792746114,
          0.8238341968911918,
          0.8160621761658031,
          0.8756476683937824,
          0.766839378238342,
          0.7642487046632125,
          0.7694300518134716,
          0.7538860103626943,
          0.7512953367875648,
          0.655440414507772,
          0.4119170984455959,
          0.4067357512953368,
          0.5155440414507773,
          0.5103626943005182,
          0.5051813471502591,
          0.4896373056994819,
          0.2875647668393782,
          0.2901554404145076,
          0.2979274611398964,
          0.2823834196891192,
          0.43264248704663205,
          0.4145077720207254,
          0.4455958549222798,
          0.4430051813471503,
          0.45077720207253885,
          0.49740932642487046,
          0.08808290155440415,
          0.08549222797927461,
          0.2150259067357513,
          0.1606217616580311,
          0.17098445595854922,
          0.031088082901554404,
          0.023316062176165803,
          0.10880829015544041,
          0.10621761658031088,
          0.06217616580310881,
          0.5414507772020726,
          0.47668393782370044,
          0.48704663212435234,
          0.9857512953367876,
          0.8782383419689119,
          0.8678756476683939,
          0.8303108808290156,
          0.6580310880829016,
          0.8419689119231013,
          0.7720207253886011,
          0.9196891191709845,
          0.6865284974093264,
          0.13601036269430053,
          0.4689119170984456,
          0.014248704663212436,
          0.2655440414507772,
          0.34974093264248707,
          0.45595854922279794,
          0.844559585492228,
          0.4740932642487047
         ],
         "y": [
          0.42487046632124353,
          0.422279792746114,
          0.4300518134715026,
          0.4689119170984453,
          0.4430051813471503,
          0.40155440414507776,
          0.3678756476683938,
          0.43264248704663216,
          0.36528497409326427,
          0.37046632124352336,
          0.344559585492228,
          0.655440414507772,
          0.6113989637305699,
          0.6528497409326421,
          0.6373056994818653,
          0.6502590673575129,
          0.917098445595855,
          0.9430051813471498,
          0.9378238341968912,
          0.9352331606217616,
          0.9196891191709845,
          0.2383419689119171,
          0.2305699481865285,
          0.48704663212435234,
          0.24093264248704663,
          0.22797927461139897,
          0.29533678756476683,
          0.20854922279792748,
          0.18911917098445596,
          0.25906735751295334,
          0.3911917098445596,
          0.1683937823834197,
          0.3860103626943003,
          0.14766839378238342,
          0.1994818652849741,
          0.2461139896373057,
          0.26424870466321243,
          0.19689119170984487,
          0.010362694300518135,
          0.6139896373056996,
          0.45077720207253885,
          0.7564766839378239,
          0.7538860103626943,
          0.6865284974093264,
          0.5,
          0.13730569948186416,
          0.6658031088082902,
          0.4170984455958532,
          0.4844559585492228,
          0.6424870466321242,
          0.4896373056994819,
          0.48186528497409326,
          0.8717616580310881,
          0.45595854922279794,
          0.883419689119171,
          0.5906735751295337,
          0.4585492227979275,
          0.47409326424870457,
          0.4792746113989637,
          0.46632124352331594,
          0.461139896373057,
          0.4715025906735751,
          0.4533678756476684,
          0.9041450777202072,
          0.9093264248704663,
          0.7020725388601037,
          0.6994818652849741,
          0.3549222797927433,
          0.3134715025906736,
          0.49481865284974075,
          0.12694300518134716,
          0.24352331606217617,
          0.34196891191709844,
          0.1567357512953368,
          0.1606217616580293,
          0.12435233160621761,
          0.7694300518134716,
          0.5595854922279793,
          0.8290155440414508,
          0.7227979274611396,
          0.8212435233160622,
          0.8238341968911918,
          0.27979274611398963,
          0.31088082901554404,
          0.5647668393782384,
          0.18652849740932642,
          0.287564766839378,
          0.2823834196891192,
          0.266839378238342,
          0.27202072538860106,
          0.32642487046632124,
          0.40414507772020725,
          0.4067357512953368,
          0.0051813471502590676,
          0.02590673575129534,
          0.038860103626943004,
          0.02072538860103627,
          0.3005181347150259,
          0.16580310880829005,
          0.06217616580310881,
          0.22538860103626943,
          0.044041450777202076,
          0.09326424870466321,
          0.05958549222747586,
          0.046632124352331605,
          0.05699481865284974,
          0.04922279792746114,
          0.036269430051813475,
          0.02849740932642487,
          0.2694300518134715,
          0.01295336787564767,
          0.015544041450777202,
          0.5544041450777202,
          0.3963730569948187,
          0.7072538860103628,
          0.6450777202072538,
          0.6839378238341969,
          0.800518134715026,
          0.9145077720207254,
          0.9896373056994818,
          0.9015544041450777,
          0.9792746113989638,
          0.11139896373056996,
          0.46373056994818646,
          0.6269430051813472,
          0.8419689119170987,
          0.7590673575129534,
          0.5673575129533679,
          0.6787564766839377,
          0.6580310880829014,
          0.7616580310880829,
          0.6761658031088084,
          0.6709844559585493,
          0.1295336787564767,
          0.6813471502590673,
          0.572538860103627,
          0.5803108808290156,
          0.7046632124352332,
          0.689119170984456,
          0.6321243523316062,
          0.8082901554404145,
          0.7772020725388608,
          0.7979274611398964,
          0.8497409326424871,
          0.8549222797927462,
          0.8031088082901555,
          0.6295336787564767,
          0.6243523316062176,
          0.7357512953367876,
          0.6191709844559585,
          0.6968911917098446,
          0.694300518134715,
          0.7875647668393784,
          0.5984455958549223,
          0.5751295336787565,
          0.5259067357512953,
          0.5077720207253886,
          0.5880829015544041,
          0.6062176165803107,
          0.09844559585492228,
          0.8989637305699483,
          0.8963730569948183,
          0.8626943005181348,
          0.21761658031088082,
          0.08808290155440415,
          0.08031088082901555,
          0.07772020725388601,
          0.08290155440414508,
          0.08549222797927461,
          0.07512953367875648,
          0.10880829015544041,
          0.09585492227979275,
          0.8601036269430052,
          0.8886010362694301,
          0.9119170984455959,
          0.8756476683937824,
          0.7849740932642487,
          0.805699481865285,
          0.5233160621761658,
          0.1528497409326425,
          0.1761658031088083,
          0.15025906735751296,
          0.17875647668393782,
          0.4455958549222798,
          0.38082901554404147,
          0.4145077720207254,
          0.844559585492228,
          0.8860103626943006,
          0.7383419689119171,
          0.2227979274611399,
          0.7409326424870462,
          0.8134715025906736,
          0.9300518134715016,
          0.922279792746114,
          0.16321243523316062,
          0.43523316062176165,
          0.13471502590673576,
          0.37305699481865284,
          0.577720207253886,
          0.7124352331606214,
          0.7720207253886009,
          0.810880829015544,
          0.5414507772020726,
          0.766839378238342,
          0.7642487046632125,
          0.8160621761658031,
          0.5621761658031088,
          0.7927461139896373,
          0.7953367875647669,
          0.8341968911917098,
          0.8471502590673576,
          0.8652849740932643,
          0.8678756476683939,
          0.9922279792746114,
          0.8782383419689119,
          0.8808290155440415,
          0.9715025906735751,
          0.9637305699481865,
          0.9598445595854923,
          0.9689119170984456,
          0.9844559585492229,
          0.9533678756476683,
          0.9507772020725389,
          0.04145077720207254,
          0.8937823834196892,
          0.8911917098445596,
          0.9870466321243524,
          0.9740932642487047,
          0.9948186528497409,
          1,
          0.9974093264248705,
          0.955958549222798,
          0.5569948186528497,
          0.2616580310880829,
          0.9455958549222798,
          0.9067357512953368,
          0.9481865284974091,
          0.7150259067357513,
          0.6217616580310881,
          0.533678756476684,
          0.6632124352331606,
          0.6683937823834196,
          0.8264248704663213,
          0.7512953367875648,
          0.5466321243523315,
          0.7435233160621761,
          0.6088082901554404,
          0.727979274611394,
          0.7253886010362695,
          0.7461139896373057,
          0.5854922279792746,
          0.8575129533678757,
          0.5932642487046632,
          0.7331606217616574,
          0.1165803108808289,
          0.11398963730569948,
          0.07253886010362688,
          0.06994818652849741,
          0.06476683937823835,
          0.06735751295336788,
          0.05181347150259068,
          0.054404145077720206,
          0.11917098445595856,
          0.0025906735751295338,
          0,
          0.17357512953367876,
          0.14378238341968913,
          0.30310880829015546,
          0.5038860103626943,
          0.13989637305699482,
          0.5103626943005182,
          0.007772020725388601,
          0.5181347150259067,
          0.5297927461139896,
          0.5297927461139896,
          0.5207253886010363,
          0.032383419689119175,
          0.032383419689119175,
          0.023316062176165803,
          0.19430051813471502,
          0.2901554404145078,
          0.27461139896373044,
          0.30310880829015546,
          0.2979274611398964,
          0.5492227979274612,
          0.336787564766839,
          0.5155440414507773,
          0.20466321243523317,
          0.7202072538860104,
          0.23575129533678627,
          0.22020725388601037,
          0.13212435233160622,
          0.14378238341968913,
          0.24870466321243523,
          0.32124352331606215,
          0.20207253886010362,
          0.2150259067357513,
          0.5518134715025871,
          0.01813471502589091,
          0.2927461139896373,
          0.2772020725388601,
          0.6735751295336784,
          0.582901554404145,
          0.6606217616580311,
          0.4378238341968912,
          0.3316062176165803,
          0.47668393782383417,
          0.4274611398963731,
          0.34974093264248707,
          0.4119170984455959,
          0.44041450777202074,
          0.4481865284974062,
          0.5129533678756477,
          0.383419689119171,
          0.538860103626943,
          0.544041450777202,
          0.5362694300518135,
          0.7487046632124352,
          0.5699481865284974,
          0.10103626943005181,
          0.10362694300518135,
          0.25129533678756477,
          0.3082901554404145,
          0.3160621761658031,
          0.32383419689119164,
          0.32901554404145056,
          0.33419689119170987,
          0.3393782383419689,
          0.3471502590673575,
          0.35751295336787564,
          0.39378238341968974,
          0.40932642487046633,
          0.1839378238341969,
          0.17098445595854922,
          0.2538860103626943,
          0.7746113989637305,
          0.7823834196891192,
          0.7797927461139896,
          0.8186528497409327,
          0.6917098445595855,
          0.6010362694300518,
          0.9404145077720207,
          0.9326424870466319,
          0.9598445595854923,
          0.9818652849740933,
          0.9766839378238342,
          0.966321243523316,
          0.6476683937823834,
          0.616580310880829,
          0.6036269430051814,
          0.6347150259067358,
          0.927461139896373,
          0.9248704663212436,
          0.3989637305699482,
          0.41968911917098445,
          0.3886010362694307,
          0.3523316062176166,
          0.21243523316062177,
          0.23316062176165767,
          0.7305699481865285,
          0.8316062176165804,
          0.8523316062176169,
          0.49740932642487046,
          0.4922279792746114,
          0.18134715025906736,
          0.1917098445595855,
          0.3186528497409326,
          0.12176165803108809,
          0.37823834196891193,
          0.3601036269430052,
          0.6373056994818653,
          0.25647668393776335,
          0.2849740932642487,
          0.20854922279792748,
          0.7098445595854355,
          0.8367875647668395,
          0.7901554404145078,
          0.3626943005181347,
          0.7176165803108437,
          0.8717616580310881,
          0.10621761658031088,
          0.5038860103626943,
          0.1567357512953368,
          0.5958549222797928,
          0.09067357512953368,
          0.8393782383419689,
          0.3756476683937824
         ]
        }
       ],
       "layout": {
        "autosize": false,
        "height": 500,
        "template": {
         "data": {
          "bar": [
           {
            "error_x": {
             "color": "#2a3f5f"
            },
            "error_y": {
             "color": "#2a3f5f"
            },
            "marker": {
             "line": {
              "color": "white",
              "width": 0.5
             }
            },
            "type": "bar"
           }
          ],
          "barpolar": [
           {
            "marker": {
             "line": {
              "color": "white",
              "width": 0.5
             }
            },
            "type": "barpolar"
           }
          ],
          "carpet": [
           {
            "aaxis": {
             "endlinecolor": "#2a3f5f",
             "gridcolor": "#C8D4E3",
             "linecolor": "#C8D4E3",
             "minorgridcolor": "#C8D4E3",
             "startlinecolor": "#2a3f5f"
            },
            "baxis": {
             "endlinecolor": "#2a3f5f",
             "gridcolor": "#C8D4E3",
             "linecolor": "#C8D4E3",
             "minorgridcolor": "#C8D4E3",
             "startlinecolor": "#2a3f5f"
            },
            "type": "carpet"
           }
          ],
          "choropleth": [
           {
            "colorbar": {
             "outlinewidth": 0,
             "ticks": ""
            },
            "type": "choropleth"
           }
          ],
          "contour": [
           {
            "colorbar": {
             "outlinewidth": 0,
             "ticks": ""
            },
            "colorscale": [
             [
              0,
              "#0d0887"
             ],
             [
              0.1111111111111111,
              "#46039f"
             ],
             [
              0.2222222222222222,
              "#7201a8"
             ],
             [
              0.3333333333333333,
              "#9c179e"
             ],
             [
              0.4444444444444444,
              "#bd3786"
             ],
             [
              0.5555555555555556,
              "#d8576b"
             ],
             [
              0.6666666666666666,
              "#ed7953"
             ],
             [
              0.7777777777777778,
              "#fb9f3a"
             ],
             [
              0.8888888888888888,
              "#fdca26"
             ],
             [
              1,
              "#f0f921"
             ]
            ],
            "type": "contour"
           }
          ],
          "contourcarpet": [
           {
            "colorbar": {
             "outlinewidth": 0,
             "ticks": ""
            },
            "type": "contourcarpet"
           }
          ],
          "heatmap": [
           {
            "colorbar": {
             "outlinewidth": 0,
             "ticks": ""
            },
            "colorscale": [
             [
              0,
              "#0d0887"
             ],
             [
              0.1111111111111111,
              "#46039f"
             ],
             [
              0.2222222222222222,
              "#7201a8"
             ],
             [
              0.3333333333333333,
              "#9c179e"
             ],
             [
              0.4444444444444444,
              "#bd3786"
             ],
             [
              0.5555555555555556,
              "#d8576b"
             ],
             [
              0.6666666666666666,
              "#ed7953"
             ],
             [
              0.7777777777777778,
              "#fb9f3a"
             ],
             [
              0.8888888888888888,
              "#fdca26"
             ],
             [
              1,
              "#f0f921"
             ]
            ],
            "type": "heatmap"
           }
          ],
          "heatmapgl": [
           {
            "colorbar": {
             "outlinewidth": 0,
             "ticks": ""
            },
            "colorscale": [
             [
              0,
              "#0d0887"
             ],
             [
              0.1111111111111111,
              "#46039f"
             ],
             [
              0.2222222222222222,
              "#7201a8"
             ],
             [
              0.3333333333333333,
              "#9c179e"
             ],
             [
              0.4444444444444444,
              "#bd3786"
             ],
             [
              0.5555555555555556,
              "#d8576b"
             ],
             [
              0.6666666666666666,
              "#ed7953"
             ],
             [
              0.7777777777777778,
              "#fb9f3a"
             ],
             [
              0.8888888888888888,
              "#fdca26"
             ],
             [
              1,
              "#f0f921"
             ]
            ],
            "type": "heatmapgl"
           }
          ],
          "histogram": [
           {
            "marker": {
             "colorbar": {
              "outlinewidth": 0,
              "ticks": ""
             }
            },
            "type": "histogram"
           }
          ],
          "histogram2d": [
           {
            "colorbar": {
             "outlinewidth": 0,
             "ticks": ""
            },
            "colorscale": [
             [
              0,
              "#0d0887"
             ],
             [
              0.1111111111111111,
              "#46039f"
             ],
             [
              0.2222222222222222,
              "#7201a8"
             ],
             [
              0.3333333333333333,
              "#9c179e"
             ],
             [
              0.4444444444444444,
              "#bd3786"
             ],
             [
              0.5555555555555556,
              "#d8576b"
             ],
             [
              0.6666666666666666,
              "#ed7953"
             ],
             [
              0.7777777777777778,
              "#fb9f3a"
             ],
             [
              0.8888888888888888,
              "#fdca26"
             ],
             [
              1,
              "#f0f921"
             ]
            ],
            "type": "histogram2d"
           }
          ],
          "histogram2dcontour": [
           {
            "colorbar": {
             "outlinewidth": 0,
             "ticks": ""
            },
            "colorscale": [
             [
              0,
              "#0d0887"
             ],
             [
              0.1111111111111111,
              "#46039f"
             ],
             [
              0.2222222222222222,
              "#7201a8"
             ],
             [
              0.3333333333333333,
              "#9c179e"
             ],
             [
              0.4444444444444444,
              "#bd3786"
             ],
             [
              0.5555555555555556,
              "#d8576b"
             ],
             [
              0.6666666666666666,
              "#ed7953"
             ],
             [
              0.7777777777777778,
              "#fb9f3a"
             ],
             [
              0.8888888888888888,
              "#fdca26"
             ],
             [
              1,
              "#f0f921"
             ]
            ],
            "type": "histogram2dcontour"
           }
          ],
          "mesh3d": [
           {
            "colorbar": {
             "outlinewidth": 0,
             "ticks": ""
            },
            "type": "mesh3d"
           }
          ],
          "parcoords": [
           {
            "line": {
             "colorbar": {
              "outlinewidth": 0,
              "ticks": ""
             }
            },
            "type": "parcoords"
           }
          ],
          "pie": [
           {
            "automargin": true,
            "type": "pie"
           }
          ],
          "scatter": [
           {
            "marker": {
             "colorbar": {
              "outlinewidth": 0,
              "ticks": ""
             }
            },
            "type": "scatter"
           }
          ],
          "scatter3d": [
           {
            "line": {
             "colorbar": {
              "outlinewidth": 0,
              "ticks": ""
             }
            },
            "marker": {
             "colorbar": {
              "outlinewidth": 0,
              "ticks": ""
             }
            },
            "type": "scatter3d"
           }
          ],
          "scattercarpet": [
           {
            "marker": {
             "colorbar": {
              "outlinewidth": 0,
              "ticks": ""
             }
            },
            "type": "scattercarpet"
           }
          ],
          "scattergeo": [
           {
            "marker": {
             "colorbar": {
              "outlinewidth": 0,
              "ticks": ""
             }
            },
            "type": "scattergeo"
           }
          ],
          "scattergl": [
           {
            "marker": {
             "colorbar": {
              "outlinewidth": 0,
              "ticks": ""
             }
            },
            "type": "scattergl"
           }
          ],
          "scattermapbox": [
           {
            "marker": {
             "colorbar": {
              "outlinewidth": 0,
              "ticks": ""
             }
            },
            "type": "scattermapbox"
           }
          ],
          "scatterpolar": [
           {
            "marker": {
             "colorbar": {
              "outlinewidth": 0,
              "ticks": ""
             }
            },
            "type": "scatterpolar"
           }
          ],
          "scatterpolargl": [
           {
            "marker": {
             "colorbar": {
              "outlinewidth": 0,
              "ticks": ""
             }
            },
            "type": "scatterpolargl"
           }
          ],
          "scatterternary": [
           {
            "marker": {
             "colorbar": {
              "outlinewidth": 0,
              "ticks": ""
             }
            },
            "type": "scatterternary"
           }
          ],
          "surface": [
           {
            "colorbar": {
             "outlinewidth": 0,
             "ticks": ""
            },
            "colorscale": [
             [
              0,
              "#0d0887"
             ],
             [
              0.1111111111111111,
              "#46039f"
             ],
             [
              0.2222222222222222,
              "#7201a8"
             ],
             [
              0.3333333333333333,
              "#9c179e"
             ],
             [
              0.4444444444444444,
              "#bd3786"
             ],
             [
              0.5555555555555556,
              "#d8576b"
             ],
             [
              0.6666666666666666,
              "#ed7953"
             ],
             [
              0.7777777777777778,
              "#fb9f3a"
             ],
             [
              0.8888888888888888,
              "#fdca26"
             ],
             [
              1,
              "#f0f921"
             ]
            ],
            "type": "surface"
           }
          ],
          "table": [
           {
            "cells": {
             "fill": {
              "color": "#EBF0F8"
             },
             "line": {
              "color": "white"
             }
            },
            "header": {
             "fill": {
              "color": "#C8D4E3"
             },
             "line": {
              "color": "white"
             }
            },
            "type": "table"
           }
          ]
         },
         "layout": {
          "annotationdefaults": {
           "arrowcolor": "#2a3f5f",
           "arrowhead": 0,
           "arrowwidth": 1
          },
          "coloraxis": {
           "colorbar": {
            "outlinewidth": 0,
            "ticks": ""
           }
          },
          "colorscale": {
           "diverging": [
            [
             0,
             "#8e0152"
            ],
            [
             0.1,
             "#c51b7d"
            ],
            [
             0.2,
             "#de77ae"
            ],
            [
             0.3,
             "#f1b6da"
            ],
            [
             0.4,
             "#fde0ef"
            ],
            [
             0.5,
             "#f7f7f7"
            ],
            [
             0.6,
             "#e6f5d0"
            ],
            [
             0.7,
             "#b8e186"
            ],
            [
             0.8,
             "#7fbc41"
            ],
            [
             0.9,
             "#4d9221"
            ],
            [
             1,
             "#276419"
            ]
           ],
           "sequential": [
            [
             0,
             "#0d0887"
            ],
            [
             0.1111111111111111,
             "#46039f"
            ],
            [
             0.2222222222222222,
             "#7201a8"
            ],
            [
             0.3333333333333333,
             "#9c179e"
            ],
            [
             0.4444444444444444,
             "#bd3786"
            ],
            [
             0.5555555555555556,
             "#d8576b"
            ],
            [
             0.6666666666666666,
             "#ed7953"
            ],
            [
             0.7777777777777778,
             "#fb9f3a"
            ],
            [
             0.8888888888888888,
             "#fdca26"
            ],
            [
             1,
             "#f0f921"
            ]
           ],
           "sequentialminus": [
            [
             0,
             "#0d0887"
            ],
            [
             0.1111111111111111,
             "#46039f"
            ],
            [
             0.2222222222222222,
             "#7201a8"
            ],
            [
             0.3333333333333333,
             "#9c179e"
            ],
            [
             0.4444444444444444,
             "#bd3786"
            ],
            [
             0.5555555555555556,
             "#d8576b"
            ],
            [
             0.6666666666666666,
             "#ed7953"
            ],
            [
             0.7777777777777778,
             "#fb9f3a"
            ],
            [
             0.8888888888888888,
             "#fdca26"
            ],
            [
             1,
             "#f0f921"
            ]
           ]
          },
          "colorway": [
           "#636efa",
           "#EF553B",
           "#00cc96",
           "#ab63fa",
           "#FFA15A",
           "#19d3f3",
           "#FF6692",
           "#B6E880",
           "#FF97FF",
           "#FECB52"
          ],
          "font": {
           "color": "#2a3f5f"
          },
          "geo": {
           "bgcolor": "white",
           "lakecolor": "white",
           "landcolor": "white",
           "showlakes": true,
           "showland": true,
           "subunitcolor": "#C8D4E3"
          },
          "hoverlabel": {
           "align": "left"
          },
          "hovermode": "closest",
          "mapbox": {
           "style": "light"
          },
          "paper_bgcolor": "white",
          "plot_bgcolor": "white",
          "polar": {
           "angularaxis": {
            "gridcolor": "#EBF0F8",
            "linecolor": "#EBF0F8",
            "ticks": ""
           },
           "bgcolor": "white",
           "radialaxis": {
            "gridcolor": "#EBF0F8",
            "linecolor": "#EBF0F8",
            "ticks": ""
           }
          },
          "scene": {
           "xaxis": {
            "backgroundcolor": "white",
            "gridcolor": "#DFE8F3",
            "gridwidth": 2,
            "linecolor": "#EBF0F8",
            "showbackground": true,
            "ticks": "",
            "zerolinecolor": "#EBF0F8"
           },
           "yaxis": {
            "backgroundcolor": "white",
            "gridcolor": "#DFE8F3",
            "gridwidth": 2,
            "linecolor": "#EBF0F8",
            "showbackground": true,
            "ticks": "",
            "zerolinecolor": "#EBF0F8"
           },
           "zaxis": {
            "backgroundcolor": "white",
            "gridcolor": "#DFE8F3",
            "gridwidth": 2,
            "linecolor": "#EBF0F8",
            "showbackground": true,
            "ticks": "",
            "zerolinecolor": "#EBF0F8"
           }
          },
          "shapedefaults": {
           "line": {
            "color": "#2a3f5f"
           }
          },
          "ternary": {
           "aaxis": {
            "gridcolor": "#DFE8F3",
            "linecolor": "#A2B1C6",
            "ticks": ""
           },
           "baxis": {
            "gridcolor": "#DFE8F3",
            "linecolor": "#A2B1C6",
            "ticks": ""
           },
           "bgcolor": "white",
           "caxis": {
            "gridcolor": "#DFE8F3",
            "linecolor": "#A2B1C6",
            "ticks": ""
           }
          },
          "title": {
           "x": 0.05
          },
          "xaxis": {
           "automargin": true,
           "gridcolor": "#EBF0F8",
           "linecolor": "#EBF0F8",
           "ticks": "",
           "title": {
            "standoff": 15
           },
           "zerolinecolor": "#EBF0F8",
           "zerolinewidth": 2
          },
          "yaxis": {
           "automargin": true,
           "gridcolor": "#EBF0F8",
           "linecolor": "#EBF0F8",
           "ticks": "",
           "title": {
            "standoff": 15
           },
           "zerolinecolor": "#EBF0F8",
           "zerolinewidth": 2
          }
         }
        },
        "width": 500
       }
      },
      "text/html": "<div>                            <div id=\"be460d2a-7cb2-4878-822d-9c38e0ebd691\" class=\"plotly-graph-div\" style=\"height:500px; width:500px;\"></div>            <script type=\"text/javascript\">                require([\"plotly\"], function(Plotly) {                    window.PLOTLYENV=window.PLOTLYENV || {};                                    if (document.getElementById(\"be460d2a-7cb2-4878-822d-9c38e0ebd691\")) {                    Plotly.newPlot(                        \"be460d2a-7cb2-4878-822d-9c38e0ebd691\",                        [{\"marker\": {\"color\": [35.67251144802089, 35.80170003698964, 35.61507042923275, 34.295663879507174, 35.041609983463374, 36.53061593261949, 36.996935921367644, 35.314097247113956, 37.72264576894891, 37.523493617008114, 35.25091981582675, 43.388777514325184, 40.97138469308376, 42.75088597419277, 42.9248398301563, 43.008812643318514, 38.782472847608226, 36.821127846074624, 36.42471616121759, 36.15130923610076, 34.770440127962594, 34.07949927496565, 34.16460822834509, 33.32685015831298, 32.01653116878111, 33.25856470760493, 34.69052174319118, 34.046986757170195, 34.931937044709805, 30.66306210163676, 17.179847974938127, 31.62203658235016, 17.310158401365893, 32.25988474156014, 27.620201788148904, 24.992973309118977, 23.35463621268883, 41.798282406841366, 52.141799242230455, 17.975558604549942, 12.92224659319743, 19.822797983220052, 19.78588904892627, 22.90361207820812, 33.56201857006689, 36.74217081490286, 25.34249334680646, 16.095142539946806, 16.915742721310224, 18.939120241721138, 16.121557158471283, 16.96920413320709, 38.53733727991057, 7.4799831352498725, 39.36697608999962, 13.035634632092124, 6.432586378165247, 6.402351693458858, 6.25877926312298, 6.499309819801354, 6.740670572264709, 6.868750128417303, 6.988737567625224, 37.5932548028653, 37.89751903009859, 17.902780703027382, 17.645970850604282, 18.63389847180484, 41.35508268966806, 15.9603566303563, 30.02813530246212, 41.908860415676685, 18.304430080448608, 29.31821142837274, 31.57485647048852, 30.00263209953789, 31.847327671273497, 37.57906114885441, 31.321785603836133, 21.51931232878019, 29.57173306186497, 29.632513362102838, 32.86082082244235, 32.78610542728561, 37.305633736693764, 35.343369489758174, 33.20799314429706, 33.290785956151296, 33.88103458400801, 30.61605845330505, 41.08556222397773, 39.76871239018974, 39.71772447013065, 49.588731049781934, 48.43235801887267, 48.26800270140458, 49.514955187553916, 21.86868994324234, 43.57620469776283, 35.10731052117275, 26.935028538934006, 37.75875306204477, 30.396053096221195, 36.25760455959394, 37.52053341860705, 36.262933266835404, 37.48206050600639, 46.64086337585161, 46.062200097377676, 43.87105760768788, 51.37507199277471, 51.276138216131784, 41.64124317884708, 39.99070020556768, 20.640406197932805, 45.30693345394191, 22.726307481543273, 21.836297956749277, 39.289830204746345, 32.90182649138267, 37.89242624256736, 34.812216485696034, 27.72384461676909, 7.9790758419618, 16.519687925925663, 38.314090679683275, 30.292004305425863, 14.281303261649313, 24.996420714302474, 24.72703432140467, 28.881785514137736, 25.045810083183945, 25.547660725802594, 36.93449241044753, 22.9992909735693, 39.19581147440948, 39.21091889608692, 23.474992500619557, 23.42562887665045, 45.42842534465522, 19.6571531903899, 20.896812197664083, 19.632197832308893, 33.91626284758985, 34.439262460394616, 30.379298169467887, 17.982952922090142, 15.985221853376364, 31.990481673598158, 44.08653893801821, 26.751630712731732, 26.73562438428982, 32.935807514341846, 16.34948099690011, 15.309230784696506, 9.576248884259298, 9.151836511661454, 16.527681702490828, 40.54394637116951, 27.748459787789766, 38.15908531649157, 38.062531739079134, 37.20585888218214, 26.162308711240335, 31.213555736693138, 31.33889841880414, 31.660096280040584, 30.620550517708445, 30.578944824572474, 31.182033751036673, 29.08868414070565, 29.086521036539665, 34.12534662788714, 38.91665188151989, 39.58628773916292, 38.22193448263212, 30.023955690898415, 31.695670710890603, 38.08387939004248, 32.81251923914801, 31.774129067554448, 32.805962340741694, 31.739451744502404, 38.725128658208604, 40.05034963124337, 39.603507503626474, 33.4348790711061, 38.86754308831391, 28.730520479103564, 28.297198898930233, 16.6968570276927, 22.818212291934344, 38.622173360355816, 36.665650419231994, 41.179839185110445, 38.97101334260218, 40.02590378047351, 40.150344880887076, 39.80544706712133, 30.38459575603433, 33.63835798533754, 35.24560136155088, 35.385380681967874, 33.25899137440981, 33.188030712657905, 36.11667133594284, 38.47358430437308, 31.807793725106073, 31.82573243110655, 38.856037796233394, 39.3181066648168, 35.528675323909496, 35.59391766130311, 33.97839434490536, 38.23284876600057, 38.32774662974766, 36.21935832408283, 36.28301119387925, 32.24196505521593, 31.671429326056572, 32.66126754849933, 32.922723078170414, 33.4962900884472, 39.41230275383115, 38.04019541079104, 38.05842909811491, 34.66555157111576, 35.517701466691484, 40.181641181663984, 40.18717875253638, 40.18623387042193, 34.98085274715578, 37.100477107660524, 29.85197435587648, 34.78837033052362, 38.68602593798695, 34.10792352586165, 23.368030984449565, 15.919093256641077, 34.70154306949354, 21.88288197927447, 21.897125191897867, 29.074911210851447, 19.00112222666038, 35.93766733601773, 17.318092769038355, 43.690062340515695, 17.79543548562928, 17.778631235447705, 18.358785247579412, 39.324854061434955, 37.80604952936437, 13.213089660333823, 23.483683841139715, 27.40495204547497, 27.6253775434115, 31.323039402330764, 31.370849801454547, 34.66232513811823, 34.633462749502954, 36.5478687397532, 36.4317835583456, 25.554035732985746, 48.88767434795727, 48.843643653942316, 41.59491888326858, 40.331622827374346, 41.909258672177984, 38.450341642544856, 40.917718879469746, 38.044286851229124, 49.33577113065731, 39.10116797040735, 38.81031771079577, 38.81031771079577, 38.98218807333038, 48.902107875923036, 48.902107875923036, 48.686754550409105, 41.451090987729906, 41.38648892328155, 42.126427215171965, 41.909258672177984, 42.28862281356449, 41.08172559660449, 19.414977878803395, 10.843466190495953, 40.865516501144874, 27.407936876283784, 26.189609440945258, 26.7958913472973, 40.67455055359216, 40.331622827374346, 24.92900949296599, 20.566833691926046, 41.27768080258996, 40.716474431434065, 41.09939121138575, 51.337172809471355, 41.189522893999204, 42.16986812646517, 22.897693910705968, 16.630794775696163, 22.22479088150734, 13.774981937466936, 19.493279448238976, 11.50786202533809, 14.356363539087813, 18.5555065244406, 16.251914783945683, 14.053308193938344, 13.513586748289441, 10.742853420765131, 16.93331936748277, 11.329921022109813, 11.927809152702604, 11.398701458229612, 29.936685952888638, 14.942770154263101, 27.737950986372148, 27.737950362948954, 34.09286147704144, 34.22130229329855, 34.60787215750142, 34.88995356733268, 35.07329411282909, 35.2287123137303, 35.39345374190327, 35.62602101807363, 35.91417950497302, 36.14052960336384, 36.63267633179694, 35.47925959761059, 36.03164927521527, 35.69315113375226, 30.154309410404814, 30.271888173588696, 30.778786998823186, 31.611350392463123, 26.298154549541977, 13.694884858374984, 37.4921036887409, 38.297469075973225, 32.24196505521593, 31.944004666296802, 32.59404687905035, 34.197314101553665, 19.53927589193597, 18.696725506690754, 17.970826928380063, 19.661190211529526, 35.34598139391582, 36.55742542166165, 9.529304818965667, 8.648858879756887, 9.467280071201179, 9.192557194513117, 41.65745971054852, 41.853744741152504, 28.206826817890473, 33.271774251574904, 33.93458506521141, 37.18620225016265, 37.74247353485015, 41.56084036650534, 41.37025873883598, 41.179385379455226, 25.553792348691747, 9.228473891527837, 9.231597889168501, 42.9248398301563, 35.69308955123569, 33.29078618199803, 34.046986757170195, 20.640634537583843, 38.31350950983353, 31.807760602036705, 37.72265977473271, 23.369018307702106, 38.53733727991057, 29.088684140613008, 38.450341642544856, 29.31821142837274, 16.361568839995766, 31.20749370471439, 38.313535947109315, 9.228663827988568], \"colorscale\": [[0.0, \"#440154\"], [0.1111111111111111, \"#482878\"], [0.2222222222222222, \"#3e4989\"], [0.3333333333333333, \"#31688e\"], [0.4444444444444444, \"#26828e\"], [0.5555555555555556, \"#1f9e89\"], [0.6666666666666666, \"#35b779\"], [0.7777777777777778, \"#6ece58\"], [0.8888888888888888, \"#b5de2b\"], [1.0, \"#fde725\"]], \"size\": 8}, \"mode\": \"markers\", \"text\": [\"Ag_Johnson\", \"Ag_Yang\", \"Ag_Babar\", \"Ag_Werner\", \"Ag_Hagemann\", \"Ag_Ciesielski\", \"Ag_Ciesielski-Ge\", \"Ag_Ciesielski-Ni\", \"Ag_Rakic-BB\", \"Ag_Rakic-LD\", \"Ag_Werner-DFT\", \"Al_Rakic\", \"Al_McPeak\", \"Al_Hagemann\", \"Al_Rakic-BB\", \"Al_Rakic-LD\", \"AlAs_Rakic\", \"GaAs_Adachi\", \"GaAs_Rakic\", \"GaAs_Ozaki\", \"InAs_Adachi\", \"Au_Johnson\", \"Au_Babar\", \"Au_Werner\", \"Au_Hagemann\", \"Au_Ciesielski\", \"Au_Ciesielski-Ge\", \"Au_Rakic-BB\", \"Au_Rakic-LD\", \"Au_Werner-DFT\", \"BaB2O4_Eimerl-o\", \"BaB2O4_Eimerl-e\", \"BaB2O4_Tamosauskas-o\", \"BaB2O4_Tamosauskas-e\", \"LiB3O5_Chen-\\u03b1\", \"LiB3O5_Chen-\\u03b2\", \"LiB3O5_Chen-\\u03b3\", \"CsLiB6O10_Sasaki-o\", \"CsLiB6O10_Sasaki-e\", \"LuAl3(BO3)4_Fang-o\", \"LuAl3(BO3)4_Fang-e\", \"Be_Rakic-BB\", \"Be_Rakic-LD\", \"Bi_Hagemann\", \"Bi_Werner\", \"Bi_Werner-DFT\", \"CsBr_Li\", \"CsBr_Querry\", \"KBr_Li\", \"LiBr_Li\", \"NaBr_Li\", \"RbBr_Li\", \"C_Phillip\", \"C_Hagemann\", \"C_Larruquert\", \"C_Djurisic-o\", \"C_Querry-DixonKS2\", \"C_Querry-DixonHPN2\", \"C_Querry-Dixon200-10\", \"C_Querry-AsburyMicro260\", \"C_Querry-Dixon1102\", \"C_Querry-Asbury3222\", \"C_Querry-Pyrolytic\", \"B4C_Larruquert\", \"SiC_Larruquert\", \"TiC_Pfluger\", \"VC_Pfluger\", \"CaCO3_Ghosh-o\", \"CaCO3_Ghosh-e\", \"CsCl_Li\", \"KCl_Li\", \"KCl_Querry\", \"LiCl_Li\", \"NaCl_Li\", \"NaCl_Querry\", \"RbCl_Li\", \"Co_Johnson\", \"Co_Werner\", \"Co_Werner-DFT\", \"Cr_Johnson\", \"Cr_Rakic-BB\", \"Cr_Rakic-LD\", \"Cu_Johnson\", \"Cu_Babar\", \"Cu_Werner\", \"Cu_Querry\", \"Cu_Hagemann\", \"Cu_Rakic-BB\", \"Cu_Rakic-LD\", \"Cu_Werner-DFT\", \"BaF2_Querry\", \"BaF2_Li\", \"BaF2_Malitson\", \"CaF2_Malitson\", \"CaF2_Daimon-20\", \"CaF2_Daimon-25\", \"CaF2_Li\", \"CeF3_Rodriguez-de_Marcos\", \"CsF_Li\", \"KF_Li\", \"LaF3_Rodriguez-de_Marcos\", \"LiF_Li\", \"NaF_Li\", \"MgF2_Dodge-o\", \"MgF2_Dodge-e\", \"MgF2_Li-o\", \"MgF2_Li-e\", \"MgF2_Rodriguez-de_Marcos\", \"RbF_Li\", \"SrF2_Rodriguez-de_Marcos\", \"SrF2_Li\", \"SrF2_Feldman\", \"YLiF4_Barnes-o\", \"YLiF4_Barnes-e\", \"Fe_Johnson\", \"Fe_Werner\", \"Fe_Querry\", \"Fe_Werner-DFT\", \"BiFeO3_Kumar\", \"Ge_Nunley\", \"Ge_Ciesielski-2nm\", \"Ge_Ciesielski-20nm\", \"H2_Peck\", \"MgH2_Palm\", \"TiH2_Palm\", \"Hg_Inagaki\", \"CsI_Li\", \"CsI_Querry\", \"CsI_Rodney\", \"KI_Li\", \"LiI_Li\", \"NaI_Li\", \"RbI_Li\", \"Li_Rasigni\", \"Lu_Garcia-Cortes\", \"Mg_Hagemann\", \"Mg_Palm\", \"Mn_Johnson\", \"Mn_Querry\", \"Mo_Werner\", \"Mo_Querry\", \"Mo_Kirillova\", \"Mo_Werner-DFT\", \"AlN_Pastrnak-o\", \"AlN_Pastrnak-e\", \"Si3N4_Philipp\", \"TiN_Pfluger\", \"VN_Pfluger\", \"Ni_Johnson\", \"Ni_Werner\", \"Ni_Rakic-BB\", \"Ni_Rakic-LD\", \"Ni_Werner-DFT\", \"Al2O3_Malitson-o\", \"Al2O3_Malitson-e\", \"Al2O3_Querry-o\", \"Al2O3_Querry-e\", \"Al2O3_Malitson\", \"Al2O3_Querry\", \"CO2_Bideau-Mehu\", \"Fe2O3_Querry-o\", \"Fe2O3_Querry-e\", \"Fe3O4_Querry\", \"GeO2_Nunley\", \"H2O_Hale\", \"H2O_Daimon-19.0C\", \"H2O_Daimon-20.0C\", \"H2O_Daimon-21.5C\", \"H2O_Daimon-24.0C\", \"H2O_Segelstein\", \"H2O_Warren-2008\", \"H2O_Warren-1984\", \"MoO3_Lajaunie-\\u03b1\", \"MoO3_Lajaunie-\\u03b2\", \"MoO3_Lajaunie-\\u03b3\", \"Nb2O5_Lemarchand\", \"Sc2O3_Belosludtsev\", \"SiO_Hass\", \"SiO2_Malitson\", \"SiO2_Ghosh-o\", \"SiO2_Ghosh-e\", \"SiO2_Radhakrishnan-o\", \"SiO2_Radhakrishnan-e\", \"SiO2_Rodriguez-de_Marcos\", \"SiO2_Gao\", \"SiO2_Lemarchand\", \"Ta2O5_Rodriguez-de_Marcos\", \"TiO2_Siefke\", \"Y2O3_Nigara\", \"ZnO_Querry\", \"Os_Nemoshkalenko-o\", \"Os_Nemoshkalenko-e\", \"GaP_Adachi\", \"InP_Adachi\", \"KH2PO4_Zernike-o\", \"KH2PO4_Zernike-e\", \"NH4H2PO4_Zernike-o\", \"NH4H2PO4_Zernike-e\", \"Pb_Werner\", \"Pb_Werner-DFT\", \"Pd_Johnson\", \"Pd_Palm\", \"Pd_Werner\", \"Pd_Rakic-BB\", \"Pd_Rakic-LD\", \"Pd_Werner-DFT\", \"Pt_Werner\", \"Pt_Rakic-BB\", \"Pt_Rakic-LD\", \"Pt_Werner-DFT\", \"Rh_Weaver\", \"CdS_Ninomiya-o\", \"CdS_Ninomiya-e\", \"MoS2_Beal\", \"ZnS_Querry\", \"ZnS_Ozaki\", \"AlSb_Adachi\", \"AlSb_Djurisic\", \"GaSb_Ferrini\", \"GaSb_Adachi\", \"GaSb_Djurisic\", \"InSb_Adachi\", \"InSb_Djurisic\", \"Se_Ciesielski\", \"CdSe_Ninomiya-o\", \"CdSe_Ninomiya-e\", \"MoSe2_Beal\", \"PbSe_Suzuki\", \"Si_Schinke\", \"Si_Green-2008\", \"Si_Green-1995\", \"Si_Pierce\", \"Ta_Werner\", \"Ta_Werner-DFT\", \"Te_Ciesielski\", \"CdTe_Adachi\", \"MoTe2_Beal\", \"Ti_Johnson\", \"Ti_Palm\", \"Ti_Werner\", \"Ti_Rakic-BB\", \"Ti_Rakic-LD\", \"Ti_Werner-DFT\", \"V_Johnson\", \"V_Werner\", \"V_Werner-DFT\", \"W_Werner\", \"W_Rakic-BB\", \"W_Rakic-LD\", \"W_Werner-DFT\", \"Zn_Werner\", \"Zn_Werner-DFT\", \"Zr_Palm\", \"Zr_Querry\", \"methane_Martonchik-liquid-111K\", \"methane_Martonchik-liquid-90K\", \"methane_Martonchik-solid-90K\", \"methane_Martonchik-solid-30K\", \"ethanol_Sani\", \"ethanol_Sani-formula\", \"propanol_Sani\", \"propanol_Sani-formula\", \"ethylene_glycol_Otanicar\", \"ethylene_glycol_Sani\", \"ethylene_glycol_Sani-formula\", \"poly(N-isopropylacrylamide)_Brasse\", \"BK7_OHARA\", \"FK51A_SCHOTT\", \"fused_silica_Malitson\", \"soda-lime_Vogt-10ppm\", \"SCHOTT-multipurpose_LITHOSIL-Q\", \"SCHOTT-multipurpose_LITHOTEC-CAF2\", \"HIKARI-multipurpose_NIFS-A\", \"HIKARI-multipurpose_NIFS-S\", \"HIKARI-multipurpose_NIFS-U\", \"HIKARI-multipurpose_NIFS-V\", \"HIKARI-multipurpose_NICF-A\", \"HIKARI-multipurpose_NICF-U\", \"HIKARI-multipurpose_NICF-V\", \"SCHOTT-BK_N-BK10\", \"SCHOTT-FK_FK5HTi\", \"SCHOTT-FK_N-FK5\", \"SCHOTT-FK_N-FK51\", \"SCHOTT-FK_N-FK51A\", \"SCHOTT-FK_N-FK58\", \"SCHOTT-LaK_N-LAK7\", \"SCHOTT-LaK_N-LAK34\", \"SCHOTT-PK_N-PK52A\", \"SCHOTT-LaSF_N-LASF31A\", \"OHARA-BAL_BAL35Y\", \"OHARA-BAL_S-BAL42\", \"OHARA-BSL_BSL7Y\", \"OHARA-BSL_S-BSL7\", \"OHARA-BSM_BSM51Y\", \"OHARA-BSM_S-BSM81\", \"OHARA-FPL_S-FPL51\", \"OHARA-FPL_S-FPL51Y\", \"OHARA-FPL_S-FPL52\", \"OHARA-FPL_S-FPL53\", \"OHARA-FSL_S-FSL5\", \"OHARA-FSL_S-FSL5Y\", \"OHARA-LAH_L-LAH90\", \"OHARA-LAH_L-LAH91\", \"OHARA-LAH_S-LAH59\", \"OHARA-LAL_L-LAL13\", \"OHARA-LAL_S-LAL7\", \"OHARA-LAL_S-LAL8\", \"OHARA-LAL_S-LAL9\", \"OHARA-LAL_S-LAL11\", \"OHARA-LAL_S-LAL12\", \"OHARA-LAL_S-LAL13\", \"OHARA-LAL_S-LAL14\", \"OHARA-LAL_S-LAL18\", \"OHARA-LAL_S-LAL52\", \"OHARA-LAL_S-LAL59\", \"OHARA-LAL_S-LAL61\", \"OHARA-LAM_L-LAM72\", \"OHARA-NPH_S-NPH4\", \"OHARA-YGH_S-YGH51\", \"air_Ciddor\", \"air_Peck\", \"Au-Ag_Rioux-Au100Ag0\", \"Au-Ag_Rioux-Au90Ag10\", \"Au-Ag_Rioux-Au80Ag20\", \"Au-Ag_Rioux-Au70Ag30\", \"Au-Ag_Rioux-Au60Ag40\", \"Au-Ag_Rioux-Au50Ag50\", \"Au-Ag_Rioux-Au40Ag60\", \"Au-Ag_Rioux-Au30Ag70\", \"Au-Ag_Rioux-Au20Ag80\", \"Au-Ag_Rioux-Au10Ag90\", \"Au-Ag_Rioux-Au0Ag100\", \"Cu-Zn_Querry-Cu90Zn10\", \"Cu-Zn_Querry-Cu85Zn15\", \"Cu-Zn_Querry-Cu70Zn30\", \"Ni-Fe_Tikuisis_gold150nm\", \"Ni-Fe_Tikuisis_gold10nm\", \"Ni-Fe_Tikuisis_bare150nm\", \"Ni-Fe_Tikuisis_bare10nm\", \"Pd-H_Palm\", \"Zr-H_Palm\", \"AlAs-GaAs_Adachi-0.315\", \"AlAs-GaAs_Adachi-0.700\", \"AlSb-GaSb_Ferrini-0\", \"AlSb-GaSb_Ferrini-10\", \"AlSb-GaSb_Ferrini-30\", \"AlSb-GaSb_Ferrini-50\", \"AlN-Al2O3_Hartnett-6.69\", \"AlN-Al2O3_Hartnett-5.88\", \"AlN-Al2O3_Hartnett-6.53\", \"AlN-Al2O3_Hartnett-7.17\", \"GaAs-InAs_Adachi\", \"GaAs-InAs-GaP-InP_Adachi\", \"C6H4S4-C12H4N4_Querry\", \"P3HT-PC61BM_Stelling\", \"Cu-C12H4N4_Querry\", \"Li-C12H4N4_Querry\", \"EVASKY_S87_Vogt\", \"EVASKY_S88_Vogt\", \"SiN_Vogt-1.91\", \"SiN_Vogt-2.09\", \"SiN_Vogt-2.13\", \"fused_silica_matching_liquid_Cargille-06350\", \"fused_silica_matching_liquid_Cargille-50350\", \"pmma_resists_Microchem495\", \"pmma_resists_Microchem950\", \"copolymer_resists_Microchem85mEL\", \"TherminolVP-1_Otanicar\", \"diesel_soot_Querry-NMSU\", \"diesel_soot_Querry-NMSU-heated\", \"metals_aluminium\", \"metals_brass\", \"metals_copper\", \"metals_gold\", \"metals_iron\", \"metals_mercury\", \"metals_platinum\", \"metals_silver\", \"metals_titanium\", \"crystals_diamond\", \"crystals_ice\", \"crystals_quartz\", \"crystals_salt\", \"crystals_sapphire\", \"liquids_water\", \"liquids_mercury\", \"misc_diesel_soot\"], \"type\": \"scatter\", \"x\": [0.9326424870466317, 0.9248704663212436, 0.9352331606217616, 0.937823834196891, 0.9300518134715027, 0.9119170984455959, 0.9093264248704663, 0.9274611398963729, 0.917098445595855, 0.9145077720207254, 0.8989637305699479, 0.9896373056994786, 0.9689119170984456, 0.9792746113989638, 0.9857512953367876, 0.9818652849740933, 0.3963730569948187, 0.42487046632124353, 0.4274611398963731, 0.4300518134715026, 0.43523316062176165, 0.8497409326424871, 0.8393782383419689, 0.9404145077720207, 0.7953367875647669, 0.8082901554404145, 0.883419689119171, 0.8303108808290156, 0.8212435233160622, 0.7901554404145078, 0.33419689119170964, 0.21761658031088082, 0.3290155440414508, 0.20207253886010362, 0.24870466321243523, 0.2694300518134715, 0.2849740932642487, 0.09067357512953368, 0.7616580310880829, 0.3134715025906736, 0.3756476683937824, 0.6347150259067358, 0.6321243523316062, 0.6968911917098446, 0.9430051813471502, 0.810880829015544, 0.15803108808290156, 0.33937823834196884, 0.19430051813471502, 0.30310880829015546, 0.2072538860103627, 0.1917098445595855, 0.13601036269430053, 0.6088082901554404, 0.13989637305699482, 0.6476683937823833, 0.5906735751295337, 0.6010362694300518, 0.6113989637305695, 0.5958549222797928, 0.5984455958549223, 0.6139896373056996, 0.5932642487046632, 0.37046632124352324, 0.37823834196891193, 0.6398963730569939, 0.6373056994818653, 0.3160621761658031, 0.06994818652849741, 0.20984455958549222, 0.274611398963723, 0.08290155440414507, 0.3523316062176166, 0.2655440414507772, 0.2305699481865285, 0.27979274611398963, 0.7823834196891193, 0.966321243523316, 0.7409326424870467, 0.6683937823834197, 0.7331606217616581, 0.7357512953367876, 0.8601036269430052, 0.8730569948186528, 0.9507772020725389, 0.8264248704663213, 0.8626943005181348, 0.8652849740932643, 0.8704663212435233, 0.805699481865285, 0.05699481865284974, 0.046632124352331605, 0.04145077720207254, 0.7253886010362695, 0.6994818652849741, 0.7098445595854923, 0.7383419689119135, 0.2927461139896373, 0.09326424870466321, 0.5518134715025889, 0.25129533678756477, 0.5854922279792746, 0.46373056994818657, 0.5673575129533679, 0.5777202072538805, 0.5699481865284974, 0.5803108808290155, 0.6813471502590673, 0.6735751295336787, 0.054404145077720206, 0.7487046632124352, 0.7435233160621761, 0.0, 0.044041450777202076, 0.6606217616580311, 0.9974093264248705, 0.7020725388601037, 0.645077720207254, 0.3082901554404145, 0.5129533678756475, 0.33160621761658016, 0.5621761658031088, 0.533678756476684, 0.6295336787564767, 0.6709844559585493, 0.8471502590673575, 0.13212435233160622, 0.35751295336787564, 0.2227979274611399, 0.1528497409326425, 0.22020725388601037, 0.21243523316062177, 0.15025906735751296, 0.8134715025906736, 0.7227979274611391, 0.9715025906735751, 0.9611398963730563, 0.689119170984456, 0.7202072538860104, 1.0, 0.6036269430051814, 0.6424870466321243, 0.6191709844559585, 0.1450777202072539, 0.14766839378238342, 0.1839378238341969, 0.6761658031088084, 0.6632124352331595, 0.7927461139896373, 0.9948186528497409, 0.7590673575129534, 0.7564766839378239, 0.7875647668393785, 0.354922279792741, 0.36528497409326427, 0.40414507772020725, 0.40155440414507776, 0.33678756476683935, 0.9637305699481865, 0.5362694300518135, 0.3005181347150259, 0.25647668393782386, 0.15544041450777202, 0.27202072538860106, 0.4533678756476684, 0.461139896373057, 0.4585492227979275, 0.48186528497409326, 0.4844559585492228, 0.47927461139896377, 0.46632124352331605, 0.4715025906735747, 0.18134715025906736, 0.22797927461139897, 0.29533678756476683, 0.1761658031088083, 0.18652849740932642, 0.1295336787564767, 0.02849740932642487, 0.16321243523316062, 0.19689119170984457, 0.16580310880829016, 0.1994818652849741, 0.03367875647668394, 0.04922279792746114, 0.038860103626943004, 0.1683937823834197, 0.18911917098445596, 0.20466321243523317, 0.23316062176165797, 0.5751295336787565, 0.6528497409326425, 0.3989637305699482, 0.40932642487046633, 0.11398963730569948, 0.036269430051813475, 0.12694300518134716, 0.05181347150259068, 0.9740932642487047, 0.7849740932642487, 0.8186528497409327, 0.8341968911917081, 0.9481865284974094, 0.8031088082901555, 0.800518134715026, 0.8367875647668394, 0.9766839378238342, 0.7746113989637305, 0.7772020725388601, 0.8549222797927462, 0.8575129533678757, 0.23575129533678757, 0.2383419689119158, 0.5233160621761658, 0.17357512953367876, 0.17875647668393782, 0.44041450777202074, 0.4378238341968912, 0.5155440414507773, 0.5077720207253886, 0.5207253886010362, 0.5259067357512953, 0.5492227979274612, 0.6062176165803109, 0.24352331606217617, 0.24093264248704663, 0.5544041450777202, 0.572538860103627, 0.422279792746114, 0.41968911917098445, 0.41709844559585496, 0.44818652849740936, 0.9585492227979275, 0.7797927461139896, 0.5829015544041452, 0.32642487046632124, 0.5647668393782384, 0.6839378238341969, 0.6658031088082902, 0.9455958549222798, 0.7150259067357513, 0.7072538860103628, 0.7124352331606211, 0.6269430051813472, 0.9533678756476685, 0.5880829015544041, 0.9922279792746115, 0.6243523316062176, 0.6217616580310881, 0.616580310880829, 0.955958549222798, 0.7979274611398964, 0.6502590673575129, 0.6787564766839369, 0.4948186528497405, 0.4922279792746114, 0.5, 0.5025906735751295, 0.5466321243523309, 0.5440414507772021, 0.5595854922279793, 0.5569948186528497, 0.538860103626943, 0.694300518134715, 0.6917098445595855, 0.11139896373056996, 0.12305699481865284, 0.06606217616580312, 0.014248704663212436, 0.11658031088082901, 0.02590673575129534, 0.7176165803108808, 0.007772020725388601, 0.019430051813471502, 0.019430051813471502, 0.010362694300518135, 0.7292746113989638, 0.7292746113989638, 0.7046632124352332, 0.10103626943005181, 0.07772020725388601, 0.07512953367875648, 0.06606217616580312, 0.05958549222797928, 0.0051813471502590676, 0.31088082901554404, 0.38860103626943016, 0.10362694300518135, 0.22538860103626943, 0.2616580310880829, 0.2590673575129532, 0.11917098445595856, 0.12305699481865284, 0.2772020725388601, 0.3056994818652849, 0.09585492227979275, 0.09844559585492325, 0.0025906735751295338, 0.7461139896373057, 0.08031088082901545, 0.07253886010362691, 0.2461139896373057, 0.32124352331606204, 0.2538860103626943, 0.37305699481865284, 0.31865284974093266, 0.38082901554404147, 0.3601036269430052, 0.3238341968911917, 0.34196891191709844, 0.3471502590673575, 0.3678756476683938, 0.39378238341968913, 0.344559585492228, 0.3911917098445596, 0.38601036269430045, 0.383419689119171, 0.14248704663212436, 0.3626943005181347, 0.5284974093264249, 0.5310880829015544, 0.8523316062176169, 0.8808290155440415, 0.8860103626943006, 0.8886010362694301, 0.8911917098445596, 0.8937823834196892, 0.8963730569948186, 0.9015544041450777, 0.9041450777202072, 0.9067357512953368, 0.922279792746114, 0.8238341968911918, 0.8160621761658031, 0.8756476683937824, 0.766839378238342, 0.7642487046632125, 0.7694300518134716, 0.7538860103626943, 0.7512953367875648, 0.655440414507772, 0.4119170984455959, 0.4067357512953368, 0.5155440414507773, 0.5103626943005182, 0.5051813471502591, 0.4896373056994819, 0.2875647668393782, 0.2901554404145076, 0.2979274611398964, 0.2823834196891192, 0.43264248704663205, 0.4145077720207254, 0.4455958549222798, 0.4430051813471503, 0.45077720207253885, 0.49740932642487046, 0.08808290155440415, 0.08549222797927461, 0.2150259067357513, 0.1606217616580311, 0.17098445595854922, 0.031088082901554404, 0.023316062176165803, 0.10880829015544041, 0.10621761658031088, 0.06217616580310881, 0.5414507772020726, 0.47668393782370044, 0.48704663212435234, 0.9857512953367876, 0.8782383419689119, 0.8678756476683939, 0.8303108808290156, 0.6580310880829016, 0.8419689119231013, 0.7720207253886011, 0.9196891191709845, 0.6865284974093264, 0.13601036269430053, 0.4689119170984456, 0.014248704663212436, 0.2655440414507772, 0.34974093264248707, 0.45595854922279794, 0.844559585492228, 0.4740932642487047], \"y\": [0.42487046632124353, 0.422279792746114, 0.4300518134715026, 0.4689119170984453, 0.4430051813471503, 0.40155440414507776, 0.3678756476683938, 0.43264248704663216, 0.36528497409326427, 0.37046632124352336, 0.344559585492228, 0.655440414507772, 0.6113989637305699, 0.6528497409326421, 0.6373056994818653, 0.6502590673575129, 0.917098445595855, 0.9430051813471498, 0.9378238341968912, 0.9352331606217616, 0.9196891191709845, 0.2383419689119171, 0.2305699481865285, 0.48704663212435234, 0.24093264248704663, 0.22797927461139897, 0.29533678756476683, 0.20854922279792748, 0.18911917098445596, 0.25906735751295334, 0.3911917098445596, 0.1683937823834197, 0.3860103626943003, 0.14766839378238342, 0.1994818652849741, 0.2461139896373057, 0.26424870466321243, 0.19689119170984487, 0.010362694300518135, 0.6139896373056996, 0.45077720207253885, 0.7564766839378239, 0.7538860103626943, 0.6865284974093264, 0.5, 0.13730569948186416, 0.6658031088082902, 0.4170984455958532, 0.4844559585492228, 0.6424870466321242, 0.4896373056994819, 0.48186528497409326, 0.8717616580310881, 0.45595854922279794, 0.883419689119171, 0.5906735751295337, 0.4585492227979275, 0.47409326424870457, 0.4792746113989637, 0.46632124352331594, 0.461139896373057, 0.4715025906735751, 0.4533678756476684, 0.9041450777202072, 0.9093264248704663, 0.7020725388601037, 0.6994818652849741, 0.3549222797927433, 0.3134715025906736, 0.49481865284974075, 0.12694300518134716, 0.24352331606217617, 0.34196891191709844, 0.1567357512953368, 0.1606217616580293, 0.12435233160621761, 0.7694300518134716, 0.5595854922279793, 0.8290155440414508, 0.7227979274611396, 0.8212435233160622, 0.8238341968911918, 0.27979274611398963, 0.31088082901554404, 0.5647668393782384, 0.18652849740932642, 0.287564766839378, 0.2823834196891192, 0.266839378238342, 0.27202072538860106, 0.32642487046632124, 0.40414507772020725, 0.4067357512953368, 0.0051813471502590676, 0.02590673575129534, 0.038860103626943004, 0.02072538860103627, 0.3005181347150259, 0.16580310880829005, 0.06217616580310881, 0.22538860103626943, 0.044041450777202076, 0.09326424870466321, 0.05958549222747586, 0.046632124352331605, 0.05699481865284974, 0.04922279792746114, 0.036269430051813475, 0.02849740932642487, 0.2694300518134715, 0.01295336787564767, 0.015544041450777202, 0.5544041450777202, 0.3963730569948187, 0.7072538860103628, 0.6450777202072538, 0.6839378238341969, 0.800518134715026, 0.9145077720207254, 0.9896373056994818, 0.9015544041450777, 0.9792746113989638, 0.11139896373056996, 0.46373056994818646, 0.6269430051813472, 0.8419689119170987, 0.7590673575129534, 0.5673575129533679, 0.6787564766839377, 0.6580310880829014, 0.7616580310880829, 0.6761658031088084, 0.6709844559585493, 0.1295336787564767, 0.6813471502590673, 0.572538860103627, 0.5803108808290156, 0.7046632124352332, 0.689119170984456, 0.6321243523316062, 0.8082901554404145, 0.7772020725388608, 0.7979274611398964, 0.8497409326424871, 0.8549222797927462, 0.8031088082901555, 0.6295336787564767, 0.6243523316062176, 0.7357512953367876, 0.6191709844559585, 0.6968911917098446, 0.694300518134715, 0.7875647668393784, 0.5984455958549223, 0.5751295336787565, 0.5259067357512953, 0.5077720207253886, 0.5880829015544041, 0.6062176165803107, 0.09844559585492228, 0.8989637305699483, 0.8963730569948183, 0.8626943005181348, 0.21761658031088082, 0.08808290155440415, 0.08031088082901555, 0.07772020725388601, 0.08290155440414508, 0.08549222797927461, 0.07512953367875648, 0.10880829015544041, 0.09585492227979275, 0.8601036269430052, 0.8886010362694301, 0.9119170984455959, 0.8756476683937824, 0.7849740932642487, 0.805699481865285, 0.5233160621761658, 0.1528497409326425, 0.1761658031088083, 0.15025906735751296, 0.17875647668393782, 0.4455958549222798, 0.38082901554404147, 0.4145077720207254, 0.844559585492228, 0.8860103626943006, 0.7383419689119171, 0.2227979274611399, 0.7409326424870462, 0.8134715025906736, 0.9300518134715016, 0.922279792746114, 0.16321243523316062, 0.43523316062176165, 0.13471502590673576, 0.37305699481865284, 0.577720207253886, 0.7124352331606214, 0.7720207253886009, 0.810880829015544, 0.5414507772020726, 0.766839378238342, 0.7642487046632125, 0.8160621761658031, 0.5621761658031088, 0.7927461139896373, 0.7953367875647669, 0.8341968911917098, 0.8471502590673576, 0.8652849740932643, 0.8678756476683939, 0.9922279792746114, 0.8782383419689119, 0.8808290155440415, 0.9715025906735751, 0.9637305699481865, 0.9598445595854923, 0.9689119170984456, 0.9844559585492229, 0.9533678756476683, 0.9507772020725389, 0.04145077720207254, 0.8937823834196892, 0.8911917098445596, 0.9870466321243524, 0.9740932642487047, 0.9948186528497409, 1.0, 0.9974093264248705, 0.955958549222798, 0.5569948186528497, 0.2616580310880829, 0.9455958549222798, 0.9067357512953368, 0.9481865284974091, 0.7150259067357513, 0.6217616580310881, 0.533678756476684, 0.6632124352331606, 0.6683937823834196, 0.8264248704663213, 0.7512953367875648, 0.5466321243523315, 0.7435233160621761, 0.6088082901554404, 0.727979274611394, 0.7253886010362695, 0.7461139896373057, 0.5854922279792746, 0.8575129533678757, 0.5932642487046632, 0.7331606217616574, 0.1165803108808289, 0.11398963730569948, 0.07253886010362688, 0.06994818652849741, 0.06476683937823835, 0.06735751295336788, 0.05181347150259068, 0.054404145077720206, 0.11917098445595856, 0.0025906735751295338, 0.0, 0.17357512953367876, 0.14378238341968913, 0.30310880829015546, 0.5038860103626943, 0.13989637305699482, 0.5103626943005182, 0.007772020725388601, 0.5181347150259067, 0.5297927461139896, 0.5297927461139896, 0.5207253886010363, 0.032383419689119175, 0.032383419689119175, 0.023316062176165803, 0.19430051813471502, 0.2901554404145078, 0.27461139896373044, 0.30310880829015546, 0.2979274611398964, 0.5492227979274612, 0.336787564766839, 0.5155440414507773, 0.20466321243523317, 0.7202072538860104, 0.23575129533678627, 0.22020725388601037, 0.13212435233160622, 0.14378238341968913, 0.24870466321243523, 0.32124352331606215, 0.20207253886010362, 0.2150259067357513, 0.5518134715025871, 0.01813471502589091, 0.2927461139896373, 0.2772020725388601, 0.6735751295336784, 0.582901554404145, 0.6606217616580311, 0.4378238341968912, 0.3316062176165803, 0.47668393782383417, 0.4274611398963731, 0.34974093264248707, 0.4119170984455959, 0.44041450777202074, 0.4481865284974062, 0.5129533678756477, 0.383419689119171, 0.538860103626943, 0.544041450777202, 0.5362694300518135, 0.7487046632124352, 0.5699481865284974, 0.10103626943005181, 0.10362694300518135, 0.25129533678756477, 0.3082901554404145, 0.3160621761658031, 0.32383419689119164, 0.32901554404145056, 0.33419689119170987, 0.3393782383419689, 0.3471502590673575, 0.35751295336787564, 0.39378238341968974, 0.40932642487046633, 0.1839378238341969, 0.17098445595854922, 0.2538860103626943, 0.7746113989637305, 0.7823834196891192, 0.7797927461139896, 0.8186528497409327, 0.6917098445595855, 0.6010362694300518, 0.9404145077720207, 0.9326424870466319, 0.9598445595854923, 0.9818652849740933, 0.9766839378238342, 0.966321243523316, 0.6476683937823834, 0.616580310880829, 0.6036269430051814, 0.6347150259067358, 0.927461139896373, 0.9248704663212436, 0.3989637305699482, 0.41968911917098445, 0.3886010362694307, 0.3523316062176166, 0.21243523316062177, 0.23316062176165767, 0.7305699481865285, 0.8316062176165804, 0.8523316062176169, 0.49740932642487046, 0.4922279792746114, 0.18134715025906736, 0.1917098445595855, 0.3186528497409326, 0.12176165803108809, 0.37823834196891193, 0.3601036269430052, 0.6373056994818653, 0.25647668393776335, 0.2849740932642487, 0.20854922279792748, 0.7098445595854355, 0.8367875647668395, 0.7901554404145078, 0.3626943005181347, 0.7176165803108437, 0.8717616580310881, 0.10621761658031088, 0.5038860103626943, 0.1567357512953368, 0.5958549222797928, 0.09067357512953368, 0.8393782383419689, 0.3756476683937824]}],                        {\"autosize\": false, \"height\": 500, \"template\": {\"data\": {\"bar\": [{\"error_x\": {\"color\": \"#2a3f5f\"}, \"error_y\": {\"color\": \"#2a3f5f\"}, \"marker\": {\"line\": {\"color\": \"white\", \"width\": 0.5}}, \"type\": \"bar\"}], \"barpolar\": [{\"marker\": {\"line\": {\"color\": \"white\", \"width\": 0.5}}, \"type\": \"barpolar\"}], \"carpet\": [{\"aaxis\": {\"endlinecolor\": \"#2a3f5f\", \"gridcolor\": \"#C8D4E3\", \"linecolor\": \"#C8D4E3\", \"minorgridcolor\": \"#C8D4E3\", \"startlinecolor\": \"#2a3f5f\"}, \"baxis\": {\"endlinecolor\": \"#2a3f5f\", \"gridcolor\": \"#C8D4E3\", \"linecolor\": \"#C8D4E3\", \"minorgridcolor\": \"#C8D4E3\", \"startlinecolor\": \"#2a3f5f\"}, \"type\": \"carpet\"}], \"choropleth\": [{\"colorbar\": {\"outlinewidth\": 0, \"ticks\": \"\"}, \"type\": \"choropleth\"}], \"contour\": [{\"colorbar\": {\"outlinewidth\": 0, \"ticks\": \"\"}, \"colorscale\": [[0.0, \"#0d0887\"], [0.1111111111111111, \"#46039f\"], [0.2222222222222222, \"#7201a8\"], [0.3333333333333333, \"#9c179e\"], [0.4444444444444444, \"#bd3786\"], [0.5555555555555556, \"#d8576b\"], [0.6666666666666666, \"#ed7953\"], [0.7777777777777778, \"#fb9f3a\"], [0.8888888888888888, \"#fdca26\"], [1.0, \"#f0f921\"]], \"type\": \"contour\"}], \"contourcarpet\": [{\"colorbar\": {\"outlinewidth\": 0, \"ticks\": \"\"}, \"type\": \"contourcarpet\"}], \"heatmap\": [{\"colorbar\": {\"outlinewidth\": 0, \"ticks\": \"\"}, \"colorscale\": [[0.0, \"#0d0887\"], [0.1111111111111111, \"#46039f\"], [0.2222222222222222, \"#7201a8\"], [0.3333333333333333, \"#9c179e\"], [0.4444444444444444, \"#bd3786\"], [0.5555555555555556, \"#d8576b\"], [0.6666666666666666, \"#ed7953\"], [0.7777777777777778, \"#fb9f3a\"], [0.8888888888888888, \"#fdca26\"], [1.0, \"#f0f921\"]], \"type\": \"heatmap\"}], \"heatmapgl\": [{\"colorbar\": {\"outlinewidth\": 0, \"ticks\": \"\"}, \"colorscale\": [[0.0, \"#0d0887\"], [0.1111111111111111, \"#46039f\"], [0.2222222222222222, \"#7201a8\"], [0.3333333333333333, \"#9c179e\"], [0.4444444444444444, \"#bd3786\"], [0.5555555555555556, \"#d8576b\"], [0.6666666666666666, \"#ed7953\"], [0.7777777777777778, \"#fb9f3a\"], [0.8888888888888888, \"#fdca26\"], [1.0, \"#f0f921\"]], \"type\": \"heatmapgl\"}], \"histogram\": [{\"marker\": {\"colorbar\": {\"outlinewidth\": 0, \"ticks\": \"\"}}, \"type\": \"histogram\"}], \"histogram2d\": [{\"colorbar\": {\"outlinewidth\": 0, \"ticks\": \"\"}, \"colorscale\": [[0.0, \"#0d0887\"], [0.1111111111111111, \"#46039f\"], [0.2222222222222222, \"#7201a8\"], [0.3333333333333333, \"#9c179e\"], [0.4444444444444444, \"#bd3786\"], [0.5555555555555556, \"#d8576b\"], [0.6666666666666666, \"#ed7953\"], [0.7777777777777778, \"#fb9f3a\"], [0.8888888888888888, \"#fdca26\"], [1.0, \"#f0f921\"]], \"type\": \"histogram2d\"}], \"histogram2dcontour\": [{\"colorbar\": {\"outlinewidth\": 0, \"ticks\": \"\"}, \"colorscale\": [[0.0, \"#0d0887\"], [0.1111111111111111, \"#46039f\"], [0.2222222222222222, \"#7201a8\"], [0.3333333333333333, \"#9c179e\"], [0.4444444444444444, \"#bd3786\"], [0.5555555555555556, \"#d8576b\"], [0.6666666666666666, \"#ed7953\"], [0.7777777777777778, \"#fb9f3a\"], [0.8888888888888888, \"#fdca26\"], [1.0, \"#f0f921\"]], \"type\": \"histogram2dcontour\"}], \"mesh3d\": [{\"colorbar\": {\"outlinewidth\": 0, \"ticks\": \"\"}, \"type\": \"mesh3d\"}], \"parcoords\": [{\"line\": {\"colorbar\": {\"outlinewidth\": 0, \"ticks\": \"\"}}, \"type\": \"parcoords\"}], \"pie\": [{\"automargin\": true, \"type\": \"pie\"}], \"scatter\": [{\"marker\": {\"colorbar\": {\"outlinewidth\": 0, \"ticks\": \"\"}}, \"type\": \"scatter\"}], \"scatter3d\": [{\"line\": {\"colorbar\": {\"outlinewidth\": 0, \"ticks\": \"\"}}, \"marker\": {\"colorbar\": {\"outlinewidth\": 0, \"ticks\": \"\"}}, \"type\": \"scatter3d\"}], \"scattercarpet\": [{\"marker\": {\"colorbar\": {\"outlinewidth\": 0, \"ticks\": \"\"}}, \"type\": \"scattercarpet\"}], \"scattergeo\": [{\"marker\": {\"colorbar\": {\"outlinewidth\": 0, \"ticks\": \"\"}}, \"type\": \"scattergeo\"}], \"scattergl\": [{\"marker\": {\"colorbar\": {\"outlinewidth\": 0, \"ticks\": \"\"}}, \"type\": \"scattergl\"}], \"scattermapbox\": [{\"marker\": {\"colorbar\": {\"outlinewidth\": 0, \"ticks\": \"\"}}, \"type\": \"scattermapbox\"}], \"scatterpolar\": [{\"marker\": {\"colorbar\": {\"outlinewidth\": 0, \"ticks\": \"\"}}, \"type\": \"scatterpolar\"}], \"scatterpolargl\": [{\"marker\": {\"colorbar\": {\"outlinewidth\": 0, \"ticks\": \"\"}}, \"type\": \"scatterpolargl\"}], \"scatterternary\": [{\"marker\": {\"colorbar\": {\"outlinewidth\": 0, \"ticks\": \"\"}}, \"type\": \"scatterternary\"}], \"surface\": [{\"colorbar\": {\"outlinewidth\": 0, \"ticks\": \"\"}, \"colorscale\": [[0.0, \"#0d0887\"], [0.1111111111111111, \"#46039f\"], [0.2222222222222222, \"#7201a8\"], [0.3333333333333333, \"#9c179e\"], [0.4444444444444444, \"#bd3786\"], [0.5555555555555556, \"#d8576b\"], [0.6666666666666666, \"#ed7953\"], [0.7777777777777778, \"#fb9f3a\"], [0.8888888888888888, \"#fdca26\"], [1.0, \"#f0f921\"]], \"type\": \"surface\"}], \"table\": [{\"cells\": {\"fill\": {\"color\": \"#EBF0F8\"}, \"line\": {\"color\": \"white\"}}, \"header\": {\"fill\": {\"color\": \"#C8D4E3\"}, \"line\": {\"color\": \"white\"}}, \"type\": \"table\"}]}, \"layout\": {\"annotationdefaults\": {\"arrowcolor\": \"#2a3f5f\", \"arrowhead\": 0, \"arrowwidth\": 1}, \"coloraxis\": {\"colorbar\": {\"outlinewidth\": 0, \"ticks\": \"\"}}, \"colorscale\": {\"diverging\": [[0, \"#8e0152\"], [0.1, \"#c51b7d\"], [0.2, \"#de77ae\"], [0.3, \"#f1b6da\"], [0.4, \"#fde0ef\"], [0.5, \"#f7f7f7\"], [0.6, \"#e6f5d0\"], [0.7, \"#b8e186\"], [0.8, \"#7fbc41\"], [0.9, \"#4d9221\"], [1, \"#276419\"]], \"sequential\": [[0.0, \"#0d0887\"], [0.1111111111111111, \"#46039f\"], [0.2222222222222222, \"#7201a8\"], [0.3333333333333333, \"#9c179e\"], [0.4444444444444444, \"#bd3786\"], [0.5555555555555556, \"#d8576b\"], [0.6666666666666666, \"#ed7953\"], [0.7777777777777778, \"#fb9f3a\"], [0.8888888888888888, \"#fdca26\"], [1.0, \"#f0f921\"]], \"sequentialminus\": [[0.0, \"#0d0887\"], [0.1111111111111111, \"#46039f\"], [0.2222222222222222, \"#7201a8\"], [0.3333333333333333, \"#9c179e\"], [0.4444444444444444, \"#bd3786\"], [0.5555555555555556, \"#d8576b\"], [0.6666666666666666, \"#ed7953\"], [0.7777777777777778, \"#fb9f3a\"], [0.8888888888888888, \"#fdca26\"], [1.0, \"#f0f921\"]]}, \"colorway\": [\"#636efa\", \"#EF553B\", \"#00cc96\", \"#ab63fa\", \"#FFA15A\", \"#19d3f3\", \"#FF6692\", \"#B6E880\", \"#FF97FF\", \"#FECB52\"], \"font\": {\"color\": \"#2a3f5f\"}, \"geo\": {\"bgcolor\": \"white\", \"lakecolor\": \"white\", \"landcolor\": \"white\", \"showlakes\": true, \"showland\": true, \"subunitcolor\": \"#C8D4E3\"}, \"hoverlabel\": {\"align\": \"left\"}, \"hovermode\": \"closest\", \"mapbox\": {\"style\": \"light\"}, \"paper_bgcolor\": \"white\", \"plot_bgcolor\": \"white\", \"polar\": {\"angularaxis\": {\"gridcolor\": \"#EBF0F8\", \"linecolor\": \"#EBF0F8\", \"ticks\": \"\"}, \"bgcolor\": \"white\", \"radialaxis\": {\"gridcolor\": \"#EBF0F8\", \"linecolor\": \"#EBF0F8\", \"ticks\": \"\"}}, \"scene\": {\"xaxis\": {\"backgroundcolor\": \"white\", \"gridcolor\": \"#DFE8F3\", \"gridwidth\": 2, \"linecolor\": \"#EBF0F8\", \"showbackground\": true, \"ticks\": \"\", \"zerolinecolor\": \"#EBF0F8\"}, \"yaxis\": {\"backgroundcolor\": \"white\", \"gridcolor\": \"#DFE8F3\", \"gridwidth\": 2, \"linecolor\": \"#EBF0F8\", \"showbackground\": true, \"ticks\": \"\", \"zerolinecolor\": \"#EBF0F8\"}, \"zaxis\": {\"backgroundcolor\": \"white\", \"gridcolor\": \"#DFE8F3\", \"gridwidth\": 2, \"linecolor\": \"#EBF0F8\", \"showbackground\": true, \"ticks\": \"\", \"zerolinecolor\": \"#EBF0F8\"}}, \"shapedefaults\": {\"line\": {\"color\": \"#2a3f5f\"}}, \"ternary\": {\"aaxis\": {\"gridcolor\": \"#DFE8F3\", \"linecolor\": \"#A2B1C6\", \"ticks\": \"\"}, \"baxis\": {\"gridcolor\": \"#DFE8F3\", \"linecolor\": \"#A2B1C6\", \"ticks\": \"\"}, \"bgcolor\": \"white\", \"caxis\": {\"gridcolor\": \"#DFE8F3\", \"linecolor\": \"#A2B1C6\", \"ticks\": \"\"}}, \"title\": {\"x\": 0.05}, \"xaxis\": {\"automargin\": true, \"gridcolor\": \"#EBF0F8\", \"linecolor\": \"#EBF0F8\", \"ticks\": \"\", \"title\": {\"standoff\": 15}, \"zerolinecolor\": \"#EBF0F8\", \"zerolinewidth\": 2}, \"yaxis\": {\"automargin\": true, \"gridcolor\": \"#EBF0F8\", \"linecolor\": \"#EBF0F8\", \"ticks\": \"\", \"title\": {\"standoff\": 15}, \"zerolinecolor\": \"#EBF0F8\", \"zerolinewidth\": 2}}}, \"width\": 500},                        {\"responsive\": true}                    ).then(function(){\n                            \nvar gd = document.getElementById('be460d2a-7cb2-4878-822d-9c38e0ebd691');\nvar x = new MutationObserver(function (mutations, observer) {{\n        var display = window.getComputedStyle(gd).display;\n        if (!display || display === 'none') {{\n            console.log([gd, 'removed!']);\n            Plotly.purge(gd);\n            observer.disconnect();\n        }}\n}});\n\n// Listen for the removal of the full notebook cells\nvar notebookContainer = gd.closest('#notebook-container');\nif (notebookContainer) {{\n    x.observe(notebookContainer, {childList: true});\n}}\n\n// Listen for the clearing of the current output cell\nvar outputEl = gd.closest('.output');\nif (outputEl) {{\n    x.observe(outputEl, {childList: true});\n}}\n\n                        })                };                });            </script>        </div>"
     },
     "metadata": {}
    }
   ],
   "source": [
    "from sklearn.preprocessing import QuantileTransformer\n",
    "from sklearn.preprocessing import normalize\n",
    "\n",
    "\n",
    "ss = QuantileTransformer()\n",
    "embedding_train_sclar= ss.fit_transform(embedding_train)\n",
    "\n",
    "embedding_x = [v[0] for v in embedding_train_sclar]\n",
    "embedding_y = [v[1] for v in embedding_train_sclar]\n",
    "\n",
    "# embedding_color = [abs(v[0]) + abs(v[1]) for v in embedding_train_sclar]\n",
    "\n",
    "fig = go.Figure(data=go.Scatter(\n",
    "                                x=embedding_x,\n",
    "                                y=embedding_y,\n",
    "                                text=list(input_data.keys()),\n",
    "                                marker_color=embedding_color,\n",
    "                                marker_colorscale='Viridis',\n",
    "                                marker_size=8,\n",
    "                                mode='markers'\n",
    "))\n",
    "\n",
    "fig.update_layout(\n",
    "    template=\"plotly_white\",\n",
    "    autosize=False,\n",
    "    width=500,\n",
    "    height=500)\n",
    "\n",
    "fig.show()\n",
    "fig.write_html('../figure/tsne/20-hidden-debug.html')"
   ]
  }
 ]
}