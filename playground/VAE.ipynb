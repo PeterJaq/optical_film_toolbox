{
 "metadata": {
  "language_info": {
   "codemirror_mode": {
    "name": "ipython",
    "version": 3
   },
   "file_extension": ".py",
   "mimetype": "text/x-python",
   "name": "python",
   "nbconvert_exporter": "python",
   "pygments_lexer": "ipython3",
   "version": "3.7.7-final"
  },
  "orig_nbformat": 2,
  "kernelspec": {
   "name": "python_defaultSpec_1599141398820",
   "display_name": "Python 3.7.7 64-bit ('tf2': conda)"
  }
 },
 "nbformat": 4,
 "nbformat_minor": 2,
 "cells": [
  {
   "cell_type": "code",
   "execution_count": 5,
   "metadata": {},
   "outputs": [],
   "source": [
    "import os \n",
    "import sys\n",
    "sys.path.append('D:\\Project\\optical_film_toolbox_master\\optical_film_toolbox')\n",
    "\n",
    "import time\n",
    "import pandas\n",
    "import numpy\n",
    "import tensorflow as tf\n",
    "import matplotlib.pyplot as plt \n",
    "import plotly\n",
    "\n",
    "from models.AE import AE\n",
    "from models.CVAE import CVAE\n",
    "\n",
    "from common.DataLoader import MaterialLoader"
   ]
  },
  {
   "cell_type": "code",
   "execution_count": 6,
   "metadata": {
    "tags": []
   },
   "outputs": [
    {
     "output_type": "stream",
     "name": "stderr",
     "text": "2%|▏         | 17/925 [00:00<00:11, 81.18it/s]Load Ag_Windt filled\nMaterial wavelength bound is out of range!\nLoad Al_Larruquert filled\nMaterial wavelength bound is out of range!\n  7%|▋         | 66/925 [00:00<00:07, 109.09it/s]Load GaAs_Kachare filled\nMaterial wavelength bound is out of range!\nLoad InAs_Lorimor filled\nMaterial wavelength bound is out of range!\nLoad CdGeAs2_Boyd-o filled\nMaterial wavelength bound is out of range!\nLoad CdGeAs2_Boyd-e filled\nMaterial wavelength bound is out of range!\nLoad Au_Windt filled\nMaterial wavelength bound is out of range!\n 11%|█         | 103/925 [00:00<00:08, 92.77it/s]Load B_Fernandez-Perea filled\nMaterial wavelength bound is out of range!\n 13%|█▎        | 124/925 [00:01<00:09, 86.69it/s]Load C_Dore filled\nMaterial wavelength bound is out of range!\n 16%|█▌        | 149/925 [00:01<00:10, 70.80it/s]Load SiC_Fischer-o filled\nMaterial wavelength bound is out of range!\nLoad SiC_Fischer-e filled\nMaterial wavelength bound is out of range!\nLoad CaMg(CO3)2_Querry-o filled\nMaterial wavelength bound is out of range!\nLoad CaMg(CO3)2_Querry-e filled\nMaterial wavelength bound is out of range!\n 18%|█▊        | 169/925 [00:01<00:11, 65.00it/s]Load Ce_Fernandez-Perea filled\nMaterial wavelength bound is out of range!\nDrop same wavelength value!\n 20%|█▉        | 182/925 [00:02<00:09, 75.68it/s]Load Cu_Brimhall filled\nMaterial wavelength bound is out of range!\n 21%|██        | 192/925 [00:02<00:13, 55.14it/s]Load Eu_Fernandez-Perea filled\nMaterial wavelength bound is out of range!\nLoad BaF2_Kaiser filled\nMaterial wavelength bound is out of range!\nLoad CaF2_Kaiser filled\nMaterial wavelength bound is out of range!\n 25%|██▍       | 229/925 [00:02<00:10, 68.54it/s]Load SrF2_Kaiser filled\nMaterial wavelength bound is out of range!\n 27%|██▋       | 253/925 [00:03<00:08, 80.23it/s]Load Ge_Burnett filled\nMaterial wavelength bound is out of range!\nLoad Ge_Li-100K filled\nMaterial wavelength bound is out of range!\nLoad Ge_Li-150K filled\nMaterial wavelength bound is out of range!\nLoad Ge_Li-200K filled\nMaterial wavelength bound is out of range!\nLoad Ge_Li-250K filled\nMaterial wavelength bound is out of range!\nLoad Ge_Li-293K filled\nMaterial wavelength bound is out of range!\nLoad Ge_Li-350K filled\nMaterial wavelength bound is out of range!\nLoad Ge_Li-400K filled\nMaterial wavelength bound is out of range!\nLoad Ge_Li-450K filled\nMaterial wavelength bound is out of range!\nLoad Ge_Li-500K filled\nMaterial wavelength bound is out of range!\nLoad Ge_Li-550K filled\nMaterial wavelength bound is out of range!\nLoad Ge_Icenogle filled\nMaterial wavelength bound is out of range!\n 30%|██▉       | 273/925 [00:03<00:07, 83.42it/s]Load Hf_Windt filled\nMaterial wavelength bound is out of range!\nLoad Ir_Windt filled\nMaterial wavelength bound is out of range!\nLoad Ir_Hass-40C filled\nMaterial wavelength bound is out of range!\nLoad Ir_Hass-300C filled\nMaterial wavelength bound is out of range!\nLoad K_Althoff filled\nMaterial wavelength bound is out of range!\n 33%|███▎      | 304/925 [00:03<00:05, 106.41it/s]Load Li_Callcott filled\nMaterial wavelength bound is out of range!\n 35%|███▍      | 320/925 [00:03<00:07, 81.48it/s]Load Mg_Vidal-Dasilva filled\nMaterial wavelength bound is out of range!\nLoad Mo_Windt filled\nMaterial wavelength bound is out of range!\nLoad AlN_Kischkat filled\nMaterial wavelength bound is out of range!\n 39%|███▉      | 365/925 [00:04<00:05, 102.78it/s]Load Si3N4_Kischkat filled\nMaterial wavelength bound is out of range!\nLoad Na_Althoff filled\nMaterial wavelength bound is out of range!\nLoad Nb_Windt filled\nMaterial wavelength bound is out of range!\n 41%|████      | 379/925 [00:04<00:06, 82.62it/s]Load Al2O3_Hagemann filled\nMaterial wavelength bound is out of range!\nLoad Al2O3_Kischkat filled\nMaterial wavelength bound is out of range!\nLoad CuO_Brimhall filled\nMaterial wavelength bound is out of range!\nLoad Cu2O_Querry filled\nMaterial wavelength bound is out of range!\n 43%|████▎     | 401/925 [00:04<00:07, 71.54it/s]Load H2O_Wang filled\nMaterial wavelength bound is out of range!\nLoad H2O_Asfar-H2O filled\nMaterial wavelength bound is out of range!\n 44%|████▍     | 411/925 [00:04<00:06, 77.57it/s]Load H2O_Wang-D2O filled\nMaterial wavelength bound is out of range!\nLoad H2O_Asfar-D2O filled\nMaterial wavelength bound is out of range!\n 47%|████▋     | 436/925 [00:05<00:08, 57.32it/s]Load SiO_Fernandez-Perea filled\nMaterial wavelength bound is out of range!\nLoad SiO2_Popova filled\nMaterial wavelength bound is out of range!\nLoad SiO2_Kischkat filled\nMaterial wavelength bound is out of range!\n 49%|████▊     | 449/925 [00:05<00:10, 43.76it/s]Load TiO2_Kischkat filled\nMaterial wavelength bound is out of range!\n 52%|█████▏    | 484/925 [00:05<00:06, 69.86it/s]\nMaterial wavelength bound is out of range!\nLoad GaP_Parsons filled\nMaterial wavelength bound is out of range!\nLoad ZnGeP2_Das-o filled\nMaterial wavelength bound is out of range!\nLoad ZnGeP2_Das-e filled\nMaterial wavelength bound is out of range!\nLoad ZnGeP2_Zelmon-o filled\nMaterial wavelength bound is out of range!\nLoad ZnGeP2_Zelmon-e filled\nMaterial wavelength bound is out of range!\n 54%|█████▍    | 501/925 [00:05<00:05, 83.75it/s]Load Pd_Windt filled\nMaterial wavelength bound is out of range!\nLoad Pt_Windt filled\nMaterial wavelength bound is out of range!\n 58%|█████▊    | 538/925 [00:06<00:04, 84.47it/s]Load Re_Windt filled\nMaterial wavelength bound is out of range!\nLoad Rh_Windt filled\nMaterial wavelength bound is out of range!\nLoad Ru_Windt filled\nMaterial wavelength bound is out of range!\nLoad CS2_Ghosal filled\nMaterial wavelength bound is out of range!\n 61%|██████    | 566/925 [00:06<00:04, 89.35it/s]Load PbS_Zemel filled\nMaterial wavelength bound is out of range!\nLoad CaSO4_Querry-α filled\nMaterial wavelength bound is out of range!\nLoad CaSO4_Querry-β filled\nMaterial wavelength bound is out of range!\nLoad CaSO4_Querry-γ filled\nMaterial wavelength bound is out of range!\n 64%|██████▎   | 589/925 [00:06<00:04, 80.19it/s]Load Sc_Larruquert filled\nMaterial wavelength bound is out of range!\nLoad Se_Campel-o filled\nMaterial wavelength bound is out of range!\nLoad Se_Campel-e filled\nMaterial wavelength bound is out of range!\nLoad PbSe_Zemel filled\nMaterial wavelength bound is out of range!\nDrop same wavelength value!\n 67%|██████▋   | 616/925 [00:07<00:03, 99.60it/s]Load Tl3AsSe3_Ewbank-o filled\nMaterial wavelength bound is out of range!\nLoad Tl3AsSe3_Ewbank-e filled\nMaterial wavelength bound is out of range!\nLoad Si_Chandler-Horowitz filled\nMaterial wavelength bound is out of range!\nLoad Si_Edwards filled\nMaterial wavelength bound is out of range!\nLoad Si_Li-100K filled\nMaterial wavelength bound is out of range!\nLoad Si_Li-150K filled\nMaterial wavelength bound is out of range!\nLoad Si_Li-200K filled\nMaterial wavelength bound is out of range!\nLoad Si_Li-250K filled\nMaterial wavelength bound is out of range!\n 70%|███████   | 650/925 [00:07<00:02, 118.23it/s]Load Si_Li-293K filled\nMaterial wavelength bound is out of range!\nLoad Si_Li-350K filled\nMaterial wavelength bound is out of range!\nLoad Si_Li-400K filled\nMaterial wavelength bound is out of range!\nLoad Si_Li-450K filled\nMaterial wavelength bound is out of range!\nLoad Si_Li-500K filled\nMaterial wavelength bound is out of range!\nLoad Si_Li-550K filled\nMaterial wavelength bound is out of range!\nLoad Si_Li-600K filled\nMaterial wavelength bound is out of range!\nLoad Si_Li-650K filled\nMaterial wavelength bound is out of range!\nLoad Si_Li-700K filled\nMaterial wavelength bound is out of range!\nLoad Si_Li-750K filled\nMaterial wavelength bound is out of range!\nLoad Si_Salzberg filled\nMaterial wavelength bound is out of range!\nLoad Ta_Windt filled\nMaterial wavelength bound is out of range!\nLoad Te_Sherman-o filled\nMaterial wavelength bound is out of range!\nLoad Te_Sherman-e filled\nMaterial wavelength bound is out of range!\nLoad Te_Caldwell-o filled\nMaterial wavelength bound is out of range!\nLoad Te_Caldwell-e filled\nMaterial wavelength bound is out of range!\n 72%|███████▏  | 664/925 [00:07<00:02, 113.97it/s]\nMaterial wavelength bound is out of range!\nLoad CdTe_DeBell-80K filled\nMaterial wavelength bound is out of range!\nLoad CdTe_DeBell-20K filled\nMaterial wavelength bound is out of range!\nLoad PbTe_Weiting-300K filled\nMaterial wavelength bound is out of range!\nLoad PbTe_Weiting-130K filled\nMaterial wavelength bound is out of range!\nLoad PbTe_Weiting-80K filled\nMaterial wavelength bound is out of range!\nLoad Ti_Windt filled\nMaterial wavelength bound is out of range!\n 77%|███████▋  | 716/925 [00:08<00:02, 100.19it/s]Load W_Windt filled\nMaterial wavelength bound is out of range!\n 79%|███████▉  | 732/925 [00:08<00:01, 111.31it/s]Load Yb_Larruquert filled\nMaterial wavelength bound is out of range!\nLoad Zn_Motulevich filled\nMaterial wavelength bound is out of range!\nLoad Zr_Windt filled\nMaterial wavelength bound is out of range!\nLoad air_Mathar-1.3 filled\nMaterial wavelength bound is out of range!\nLoad air_Mathar-2.8 filled\nMaterial wavelength bound is out of range!\nLoad air_Mathar-4.35 filled\nMaterial wavelength bound is out of range!\nLoad air_Mathar-7.5 filled\nMaterial wavelength bound is out of range!\n 83%|████████▎ | 766/925 [00:08<00:02, 57.12it/s]Load Nb-Sn_Golovashkin-06 filled\nMaterial wavelength bound is out of range!\nLoad Nb-Sn_Golovashkin-22 filled\nMaterial wavelength bound is out of range!\nLoad Nb-Sn_Golovashkin-28 filled\nMaterial wavelength bound is out of range!\nLoad Nb-Sn_Golovashkin-30 filled\nMaterial wavelength bound is out of range!\nLoad Nb-Sn_Golovashkin-34 filled\nMaterial wavelength bound is out of range!\nLoad Nb-Sn_Golovashkin-40 filled\nMaterial wavelength bound is out of range!\nLoad Nb-Sn_Golovashkin-55 filled\nMaterial wavelength bound is out of range!\n 88%|████████▊ | 817/925 [00:09<00:01, 76.07it/s]Load Mg-LiTaO3_Moutzouris-o filled\nMaterial wavelength bound is out of range!\nLoad Mg-LiTaO3_Moutzouris-e filled\nMaterial wavelength bound is out of range!\n 89%|████████▉ | 827/925 [00:09<00:01, 71.41it/s]\nMaterial wavelength bound is out of range!\nLoad CR-39_mono filled\nMaterial wavelength bound is out of range!\nLoad Kapton_Smith filled\nMaterial wavelength bound is out of range!\nLoad Kapton_Zhang filled\nMaterial wavelength bound is out of range!\n 93%|█████████▎| 863/925 [00:09<00:00, 82.85it/s]\nMaterial wavelength bound is out of range!\nLoad Leica_Type_F_Wang filled\nMaterial wavelength bound is out of range!\nLoad Olympus_IMMOIL-F30CC_Wang filled\nMaterial wavelength bound is out of range!\nLoad Sigma_Aldrich_M5904_Wang filled\nMaterial wavelength bound is out of range!\n 96%|█████████▌| 889/925 [00:10<00:00, 71.03it/s]Load blood_Rowe filled\nMaterial wavelength bound is out of range!\nLoad diesel_soot_Querry-UMKC filled\nMaterial wavelength bound is out of range!\nLoad montmorillonite_Querry filled\nMaterial wavelength bound is out of range!\nLoad kaolinite_Querry filled\nMaterial wavelength bound is out of range!\nLoad illite_Querry filled\nMaterial wavelength bound is out of range!\n100%|█████████▉| 924/925 [00:10<00:00, 91.80it/s]Load metamaterials_Valentine filled\nMaterial wavelength bound is out of range!\n100%|██████████| 925/925 [00:10<00:00, 86.48it/s]\n"
    }
   ],
   "source": [
    "WAVELENGTH_RANGE = (200, 1200)\n",
    "INPUT_SHAPE = (WAVELENGTH_RANGE[1] - WAVELENGTH_RANGE[0], 3)\n",
    "INPUT_LENGTH = WAVELENGTH_RANGE[1] - WAVELENGTH_RANGE[0]\n",
    "LATENT_DIM = 4\n",
    "\n",
    "materials_li = []\n",
    "materials = MaterialLoader(wl_s=WAVELENGTH_RANGE[0]/1000, wl_e=WAVELENGTH_RANGE[1]/1000)\n",
    "for sample in materials.load_total_material_generator():\n",
    "    materials_li.append(sample)"
   ]
  },
  {
   "cell_type": "code",
   "execution_count": 14,
   "metadata": {
    "tags": []
   },
   "outputs": [
    {
     "output_type": "execute_result",
     "data": {
      "text/plain": "<generator object material_data_generator at 0x000002D2106C4048>"
     },
     "metadata": {},
     "execution_count": 14
    }
   ],
   "source": [
    "def material_data_generator():\n",
    "    for material in materials_li:\n",
    "        print(material[\"Ag_Johnson\"][0])\n",
    "\n",
    "        yield material[1][0]\n",
    "\n",
    "material_data_generator()"
   ]
  },
  {
   "cell_type": "code",
   "execution_count": null,
   "metadata": {},
   "outputs": [],
   "source": [
    "train_dataset = tf.data.Dataset.from_tensor_slices(train_images).shuffle(TRAIN_BUF).batch(BATCH_SIZE)"
   ]
  }
 ]
}